{
 "cells": [
  {
   "cell_type": "markdown",
   "metadata": {
    "colab_type": "text",
    "id": "HO-8OaBLuFxa"
   },
   "source": [
    "<img src=\"https://bit.ly/2VnXWr2\" width=\"100\" align=\"left\">"
   ]
  },
  {
   "cell_type": "markdown",
   "metadata": {
    "colab_type": "text",
    "id": "XuRHxVAnuFpc"
   },
   "source": [
    "# Final project: NLP to predict Myers-Briggs Personality Type"
   ]
  },
  {
   "cell_type": "markdown",
   "metadata": {
    "colab_type": "text",
    "id": "4qu47z_6t3i7"
   },
   "source": [
    "## Imports"
   ]
  },
  {
   "cell_type": "code",
   "execution_count": 1,
   "metadata": {
    "ExecuteTime": {
     "end_time": "2020-05-30T21:17:55.328264Z",
     "start_time": "2020-05-30T21:17:49.049490Z"
    },
    "colab": {},
    "colab_type": "code",
    "id": "8Ty3i6oejxgF"
   },
   "outputs": [
    {
     "name": "stderr",
     "output_type": "stream",
     "text": [
      "C:\\Users\\Miguel\\Anaconda3\\lib\\site-packages\\sklearn\\utils\\deprecation.py:144: FutureWarning: The sklearn.metrics.classification module is  deprecated in version 0.22 and will be removed in version 0.24. The corresponding classes / functions should instead be imported from sklearn.metrics. Anything that cannot be imported from sklearn.metrics is now part of the private API.\n",
      "  warnings.warn(message, FutureWarning)\n",
      "Using TensorFlow backend.\n"
     ]
    }
   ],
   "source": [
    "# Data Analysis\n",
    "import pandas as pd\n",
    "import numpy as np\n",
    "\n",
    "# Data Visualization\n",
    "import seaborn as sns\n",
    "import matplotlib.pyplot as plt\n",
    "import yellowbrick\n",
    "from yellowbrick.model_selection import FeatureImportances\n",
    "from yellowbrick.features import RadViz\n",
    "\n",
    "\n",
    "# Text Processing\n",
    "import re\n",
    "import itertools\n",
    "import spacy\n",
    "import string\n",
    "from spacy.lang.en import English\n",
    "from spacy.lang.en.stop_words import STOP_WORDS\n",
    "import en_core_web_sm\n",
    "from collections import Counter\n",
    "\n",
    "# Machine Learning packages\n",
    "from sklearn.feature_extraction.text import CountVectorizer\n",
    "from sklearn.feature_extraction.text import TfidfVectorizer\n",
    "import umap\n",
    "import sklearn.cluster as cluster\n",
    "\n",
    "# Ignore noise warning\n",
    "import warnings\n",
    "warnings.filterwarnings(\"ignore\")\n",
    "\n",
    "import pickle as pkl\n",
    "from scipy import sparse\n",
    "from numpy import asarray\n",
    "from numpy import savetxt\n",
    "\n",
    "# Fix imbalance\n",
    "from imblearn.under_sampling import InstanceHardnessThreshold\n",
    "\n",
    "# Model training and evaluation\n",
    "from sklearn.model_selection import train_test_split, GridSearchCV, StratifiedKFold, cross_val_score\n",
    "\n",
    "#Metrics\n",
    "from sklearn.metrics import r2_score, mean_squared_error, mean_absolute_error, accuracy_score, balanced_accuracy_score\n",
    "from sklearn.metrics import precision_score, recall_score, f1_score, multilabel_confusion_matrix, confusion_matrix\n",
    "from sklearn.metrics import classification_report\n",
    "#Models\n",
    "from sklearn.linear_model import LogisticRegression\n",
    "from sklearn.neighbors import KNeighborsClassifier\n",
    "from sklearn.naive_bayes import GaussianNB\n",
    "from sklearn.tree import DecisionTreeClassifier\n",
    "from sklearn.ensemble import RandomForestClassifier, GradientBoostingClassifier\n",
    "from sklearn.neural_network import MLPClassifier"
   ]
  },
  {
   "cell_type": "markdown",
   "metadata": {
    "colab_type": "text",
    "id": "W8vaZS_-jxg0"
   },
   "source": [
    "## 3. Model building and evaluation: Machine Learning"
   ]
  },
  {
   "cell_type": "markdown",
   "metadata": {
    "colab_type": "text",
    "id": "EBaqlZ_4eO5H"
   },
   "source": [
    "### Using types"
   ]
  },
  {
   "cell_type": "markdown",
   "metadata": {
    "colab_type": "text",
    "id": "EBaqlZ_4eO5H"
   },
   "source": [
    "#### Truncated SVD "
   ]
  },
  {
   "cell_type": "markdown",
   "metadata": {},
   "source": [
    "##### original sample"
   ]
  },
  {
   "cell_type": "code",
   "execution_count": 2,
   "metadata": {
    "ExecuteTime": {
     "end_time": "2020-05-30T21:17:55.555707Z",
     "start_time": "2020-05-30T21:17:55.330257Z"
    }
   },
   "outputs": [],
   "source": [
    "result_svd_vec_types  = pd.read_csv(\"data/output_csv/result_svd_vec_types.csv\")\n",
    "result_svd_vec_types.drop([\"Unnamed: 0\"], axis=1, inplace=True)"
   ]
  },
  {
   "cell_type": "code",
   "execution_count": 3,
   "metadata": {
    "ExecuteTime": {
     "end_time": "2020-05-30T21:17:55.912635Z",
     "start_time": "2020-05-30T21:17:55.557649Z"
    }
   },
   "outputs": [
    {
     "data": {
      "text/html": [
       "<div>\n",
       "<style scoped>\n",
       "    .dataframe tbody tr th:only-of-type {\n",
       "        vertical-align: middle;\n",
       "    }\n",
       "\n",
       "    .dataframe tbody tr th {\n",
       "        vertical-align: top;\n",
       "    }\n",
       "\n",
       "    .dataframe thead th {\n",
       "        text-align: right;\n",
       "    }\n",
       "</style>\n",
       "<table border=\"1\" class=\"dataframe\">\n",
       "  <thead>\n",
       "    <tr style=\"text-align: right;\">\n",
       "      <th></th>\n",
       "      <th>type</th>\n",
       "      <th>words_per_comment</th>\n",
       "      <th>variance_of_word_counts</th>\n",
       "      <th>enfj</th>\n",
       "      <th>enfp</th>\n",
       "      <th>entj</th>\n",
       "      <th>entp</th>\n",
       "      <th>esfj</th>\n",
       "      <th>esfp</th>\n",
       "      <th>estj</th>\n",
       "      <th>...</th>\n",
       "      <th>90</th>\n",
       "      <th>91</th>\n",
       "      <th>92</th>\n",
       "      <th>93</th>\n",
       "      <th>94</th>\n",
       "      <th>95</th>\n",
       "      <th>96</th>\n",
       "      <th>97</th>\n",
       "      <th>98</th>\n",
       "      <th>99</th>\n",
       "    </tr>\n",
       "  </thead>\n",
       "  <tbody>\n",
       "    <tr>\n",
       "      <th>0</th>\n",
       "      <td>infj</td>\n",
       "      <td>11.12</td>\n",
       "      <td>135.2900</td>\n",
       "      <td>0</td>\n",
       "      <td>0</td>\n",
       "      <td>0</td>\n",
       "      <td>0</td>\n",
       "      <td>0</td>\n",
       "      <td>0</td>\n",
       "      <td>0</td>\n",
       "      <td>...</td>\n",
       "      <td>0.343928</td>\n",
       "      <td>0.360159</td>\n",
       "      <td>0.358680</td>\n",
       "      <td>0.351273</td>\n",
       "      <td>0.402498</td>\n",
       "      <td>0.357498</td>\n",
       "      <td>0.376758</td>\n",
       "      <td>0.379303</td>\n",
       "      <td>0.367843</td>\n",
       "      <td>0.375516</td>\n",
       "    </tr>\n",
       "    <tr>\n",
       "      <th>1</th>\n",
       "      <td>entp</td>\n",
       "      <td>23.40</td>\n",
       "      <td>187.4756</td>\n",
       "      <td>0</td>\n",
       "      <td>0</td>\n",
       "      <td>0</td>\n",
       "      <td>1</td>\n",
       "      <td>0</td>\n",
       "      <td>0</td>\n",
       "      <td>0</td>\n",
       "      <td>...</td>\n",
       "      <td>0.351512</td>\n",
       "      <td>0.375683</td>\n",
       "      <td>0.352008</td>\n",
       "      <td>0.356475</td>\n",
       "      <td>0.332874</td>\n",
       "      <td>0.386907</td>\n",
       "      <td>0.356917</td>\n",
       "      <td>0.354533</td>\n",
       "      <td>0.377601</td>\n",
       "      <td>0.337164</td>\n",
       "    </tr>\n",
       "    <tr>\n",
       "      <th>2</th>\n",
       "      <td>intp</td>\n",
       "      <td>16.72</td>\n",
       "      <td>180.6900</td>\n",
       "      <td>0</td>\n",
       "      <td>0</td>\n",
       "      <td>0</td>\n",
       "      <td>0</td>\n",
       "      <td>0</td>\n",
       "      <td>0</td>\n",
       "      <td>0</td>\n",
       "      <td>...</td>\n",
       "      <td>0.332374</td>\n",
       "      <td>0.354798</td>\n",
       "      <td>0.362468</td>\n",
       "      <td>0.352909</td>\n",
       "      <td>0.367732</td>\n",
       "      <td>0.342600</td>\n",
       "      <td>0.336408</td>\n",
       "      <td>0.357758</td>\n",
       "      <td>0.344202</td>\n",
       "      <td>0.391195</td>\n",
       "    </tr>\n",
       "    <tr>\n",
       "      <th>3</th>\n",
       "      <td>intj</td>\n",
       "      <td>21.28</td>\n",
       "      <td>181.8324</td>\n",
       "      <td>0</td>\n",
       "      <td>0</td>\n",
       "      <td>0</td>\n",
       "      <td>0</td>\n",
       "      <td>0</td>\n",
       "      <td>0</td>\n",
       "      <td>0</td>\n",
       "      <td>...</td>\n",
       "      <td>0.370720</td>\n",
       "      <td>0.335693</td>\n",
       "      <td>0.393478</td>\n",
       "      <td>0.349815</td>\n",
       "      <td>0.373543</td>\n",
       "      <td>0.380157</td>\n",
       "      <td>0.381040</td>\n",
       "      <td>0.335247</td>\n",
       "      <td>0.360196</td>\n",
       "      <td>0.377249</td>\n",
       "    </tr>\n",
       "    <tr>\n",
       "      <th>4</th>\n",
       "      <td>entj</td>\n",
       "      <td>19.34</td>\n",
       "      <td>196.4576</td>\n",
       "      <td>0</td>\n",
       "      <td>0</td>\n",
       "      <td>1</td>\n",
       "      <td>0</td>\n",
       "      <td>0</td>\n",
       "      <td>0</td>\n",
       "      <td>0</td>\n",
       "      <td>...</td>\n",
       "      <td>0.337362</td>\n",
       "      <td>0.363822</td>\n",
       "      <td>0.328088</td>\n",
       "      <td>0.336720</td>\n",
       "      <td>0.373329</td>\n",
       "      <td>0.376424</td>\n",
       "      <td>0.356934</td>\n",
       "      <td>0.367272</td>\n",
       "      <td>0.333998</td>\n",
       "      <td>0.381967</td>\n",
       "    </tr>\n",
       "  </tbody>\n",
       "</table>\n",
       "<p>5 rows × 119 columns</p>\n",
       "</div>"
      ],
      "text/plain": [
       "   type  words_per_comment  variance_of_word_counts  enfj  enfp  entj  entp  \\\n",
       "0  infj              11.12                 135.2900     0     0     0     0   \n",
       "1  entp              23.40                 187.4756     0     0     0     1   \n",
       "2  intp              16.72                 180.6900     0     0     0     0   \n",
       "3  intj              21.28                 181.8324     0     0     0     0   \n",
       "4  entj              19.34                 196.4576     0     0     1     0   \n",
       "\n",
       "   esfj  esfp  estj  ...        90        91        92        93        94  \\\n",
       "0     0     0     0  ...  0.343928  0.360159  0.358680  0.351273  0.402498   \n",
       "1     0     0     0  ...  0.351512  0.375683  0.352008  0.356475  0.332874   \n",
       "2     0     0     0  ...  0.332374  0.354798  0.362468  0.352909  0.367732   \n",
       "3     0     0     0  ...  0.370720  0.335693  0.393478  0.349815  0.373543   \n",
       "4     0     0     0  ...  0.337362  0.363822  0.328088  0.336720  0.373329   \n",
       "\n",
       "         95        96        97        98        99  \n",
       "0  0.357498  0.376758  0.379303  0.367843  0.375516  \n",
       "1  0.386907  0.356917  0.354533  0.377601  0.337164  \n",
       "2  0.342600  0.336408  0.357758  0.344202  0.391195  \n",
       "3  0.380157  0.381040  0.335247  0.360196  0.377249  \n",
       "4  0.376424  0.356934  0.367272  0.333998  0.381967  \n",
       "\n",
       "[5 rows x 119 columns]"
      ]
     },
     "execution_count": 3,
     "metadata": {},
     "output_type": "execute_result"
    }
   ],
   "source": [
    "result_svd_vec_types.head()"
   ]
  },
  {
   "cell_type": "code",
   "execution_count": 4,
   "metadata": {
    "ExecuteTime": {
     "end_time": "2020-05-30T21:17:56.028298Z",
     "start_time": "2020-05-30T21:17:55.914604Z"
    }
   },
   "outputs": [
    {
     "data": {
      "text/plain": [
       "(8675, 119)"
      ]
     },
     "execution_count": 4,
     "metadata": {},
     "output_type": "execute_result"
    }
   ],
   "source": [
    "result_svd_vec_types.shape"
   ]
  },
  {
   "cell_type": "code",
   "execution_count": 84,
   "metadata": {
    "ExecuteTime": {
     "end_time": "2020-05-31T06:36:45.704989Z",
     "start_time": "2020-05-31T06:36:45.695015Z"
    }
   },
   "outputs": [],
   "source": [
    "X = result_svd_vec_types.drop([\"type\",\"enfj\", \"enfp\", \"entj\", \"entp\", \"esfj\", \"esfp\", \"estj\", \"estp\",\"infj\", \"infp\", \"intj\",\n",
    "                               \"intp\", \"isfj\", \"isfp\", \"istj\", \"istp\"], axis=1).values\n",
    "y = result_svd_vec_types[\"type\"].values"
   ]
  },
  {
   "cell_type": "code",
   "execution_count": 85,
   "metadata": {
    "ExecuteTime": {
     "end_time": "2020-05-31T06:36:46.690360Z",
     "start_time": "2020-05-31T06:36:46.670409Z"
    },
    "scrolled": true
   },
   "outputs": [
    {
     "name": "stdout",
     "output_type": "stream",
     "text": [
      "(6940, 102) (6940,) (1735, 102) (1735,)\n"
     ]
    }
   ],
   "source": [
    "X_train, X_test, y_train, y_test = train_test_split(X, y, random_state=42, test_size=0.2)\n",
    "print ((X_train.shape),(y_train.shape),(X_test.shape),(y_test.shape))"
   ]
  },
  {
   "cell_type": "code",
   "execution_count": 7,
   "metadata": {
    "ExecuteTime": {
     "end_time": "2020-05-30T21:17:56.329927Z",
     "start_time": "2020-05-30T21:17:56.239073Z"
    }
   },
   "outputs": [],
   "source": [
    "def baseline_report(model, X_train, X_test, y_train, y_test, name):\n",
    "    strat_k_fold = StratifiedKFold(n_splits=5, shuffle=True)\n",
    "    model.fit(X_train, y_train)\n",
    "    accuracy     = np.mean(cross_val_score(model, X_train, y_train, cv=strat_k_fold, scoring='accuracy'))\n",
    "    precision    = np.mean(cross_val_score(model, X_train, y_train, cv=strat_k_fold, scoring='precision_weighted'))\n",
    "    recall       = np.mean(cross_val_score(model, X_train, y_train, cv=strat_k_fold, scoring='recall_weighted'))\n",
    "    f1score      = np.mean(cross_val_score(model, X_train, y_train, cv=strat_k_fold, scoring='f1_weighted'))\n",
    "    y_pred = model.predict(X_test)\n",
    "    mcm = multilabel_confusion_matrix(y_test, y_pred)\n",
    "    tn = mcm[:, 0, 0]\n",
    "    tp = mcm[:, 1, 1]\n",
    "    fn = mcm[:, 1, 0]\n",
    "    fp = mcm[:, 0, 1]\n",
    "    specificities = tn / (tn+fp)\n",
    "    specificity = (specificities.sum())/ 16\n",
    "\n",
    "    df_model = pd.DataFrame({'model'        : [name],\n",
    "                             'accuracy'     : [accuracy],\n",
    "                             'precision'    : [precision],\n",
    "                             'recall'       : [recall],\n",
    "                             'f1score'      : [f1score],\n",
    "                             'specificity'  : [specificity]\n",
    "                            })   \n",
    "    return df_model"
   ]
  },
  {
   "cell_type": "code",
   "execution_count": 8,
   "metadata": {
    "ExecuteTime": {
     "end_time": "2020-05-30T21:17:56.441027Z",
     "start_time": "2020-05-30T21:17:56.333768Z"
    }
   },
   "outputs": [],
   "source": [
    "models = {'gnb': GaussianNB(),\n",
    "          'logit': LogisticRegression(),\n",
    "          'knn': KNeighborsClassifier(),\n",
    "          'decisiontree': DecisionTreeClassifier(),\n",
    "          'randomforest': RandomForestClassifier(),\n",
    "          'xgboost': GradientBoostingClassifier(),\n",
    "          'MLPC': MLPClassifier()\n",
    "         }"
   ]
  },
  {
   "cell_type": "markdown",
   "metadata": {
    "colab_type": "text",
    "id": "__WdiZHsnBmY"
   },
   "source": [
    "<img src=\"https://www.nicepng.com/png/detail/148-1486992_discover-the-most-powerful-ways-to-automate-your.png\" width=\"1000\"> "
   ]
  },
  {
   "cell_type": "code",
   "execution_count": 9,
   "metadata": {
    "ExecuteTime": {
     "end_time": "2020-05-30T21:17:56.537911Z",
     "start_time": "2020-05-30T21:17:56.443891Z"
    },
    "colab": {},
    "colab_type": "code",
    "id": "Y6U0PUxXnBmZ",
    "outputId": "70e78df8-5a48-4efc-a5ac-7b587ec3b97b"
   },
   "outputs": [
    {
     "ename": "SystemExit",
     "evalue": "Here it comes a very consuming memory process that takes about 45 minutes",
     "output_type": "error",
     "traceback": [
      "An exception has occurred, use %tb to see the full traceback.\n",
      "\u001b[1;31mSystemExit\u001b[0m\u001b[1;31m:\u001b[0m Here it comes a very consuming memory process that takes about 45 minutes\n"
     ]
    }
   ],
   "source": [
    "raise SystemExit(\"Here it comes a very consuming memory process that takes about 45 minutes\")"
   ]
  },
  {
   "cell_type": "code",
   "execution_count": 10,
   "metadata": {
    "ExecuteTime": {
     "end_time": "2020-05-30T22:54:47.882979Z",
     "start_time": "2020-05-30T21:18:36.373950Z"
    }
   },
   "outputs": [
    {
     "data": {
      "text/html": [
       "<div>\n",
       "<style scoped>\n",
       "    .dataframe tbody tr th:only-of-type {\n",
       "        vertical-align: middle;\n",
       "    }\n",
       "\n",
       "    .dataframe tbody tr th {\n",
       "        vertical-align: top;\n",
       "    }\n",
       "\n",
       "    .dataframe thead th {\n",
       "        text-align: right;\n",
       "    }\n",
       "</style>\n",
       "<table border=\"1\" class=\"dataframe\">\n",
       "  <thead>\n",
       "    <tr style=\"text-align: right;\">\n",
       "      <th></th>\n",
       "      <th>model</th>\n",
       "      <th>accuracy</th>\n",
       "      <th>precision</th>\n",
       "      <th>recall</th>\n",
       "      <th>f1score</th>\n",
       "      <th>specificity</th>\n",
       "    </tr>\n",
       "  </thead>\n",
       "  <tbody>\n",
       "    <tr>\n",
       "      <th>0</th>\n",
       "      <td>gnb</td>\n",
       "      <td>0.558646</td>\n",
       "      <td>0.589528</td>\n",
       "      <td>0.555476</td>\n",
       "      <td>0.558908</td>\n",
       "      <td>0.967280</td>\n",
       "    </tr>\n",
       "    <tr>\n",
       "      <th>0</th>\n",
       "      <td>logit</td>\n",
       "      <td>0.210663</td>\n",
       "      <td>0.091524</td>\n",
       "      <td>0.213112</td>\n",
       "      <td>0.108632</td>\n",
       "      <td>0.937515</td>\n",
       "    </tr>\n",
       "    <tr>\n",
       "      <th>0</th>\n",
       "      <td>knn</td>\n",
       "      <td>0.147118</td>\n",
       "      <td>0.146136</td>\n",
       "      <td>0.148847</td>\n",
       "      <td>0.137005</td>\n",
       "      <td>0.938348</td>\n",
       "    </tr>\n",
       "    <tr>\n",
       "      <th>0</th>\n",
       "      <td>decisiontree</td>\n",
       "      <td>0.423631</td>\n",
       "      <td>0.422836</td>\n",
       "      <td>0.417003</td>\n",
       "      <td>0.417839</td>\n",
       "      <td>0.958674</td>\n",
       "    </tr>\n",
       "    <tr>\n",
       "      <th>0</th>\n",
       "      <td>randomforest</td>\n",
       "      <td>0.618012</td>\n",
       "      <td>0.630657</td>\n",
       "      <td>0.616571</td>\n",
       "      <td>0.590044</td>\n",
       "      <td>0.971653</td>\n",
       "    </tr>\n",
       "    <tr>\n",
       "      <th>0</th>\n",
       "      <td>xgboost</td>\n",
       "      <td>0.633285</td>\n",
       "      <td>0.625011</td>\n",
       "      <td>0.627954</td>\n",
       "      <td>0.622888</td>\n",
       "      <td>0.973981</td>\n",
       "    </tr>\n",
       "    <tr>\n",
       "      <th>0</th>\n",
       "      <td>MLPC</td>\n",
       "      <td>0.572046</td>\n",
       "      <td>0.536335</td>\n",
       "      <td>0.567723</td>\n",
       "      <td>0.506253</td>\n",
       "      <td>0.968359</td>\n",
       "    </tr>\n",
       "  </tbody>\n",
       "</table>\n",
       "</div>"
      ],
      "text/plain": [
       "          model  accuracy  precision    recall   f1score  specificity\n",
       "0           gnb  0.558646   0.589528  0.555476  0.558908     0.967280\n",
       "0         logit  0.210663   0.091524  0.213112  0.108632     0.937515\n",
       "0           knn  0.147118   0.146136  0.148847  0.137005     0.938348\n",
       "0  decisiontree  0.423631   0.422836  0.417003  0.417839     0.958674\n",
       "0  randomforest  0.618012   0.630657  0.616571  0.590044     0.971653\n",
       "0       xgboost  0.633285   0.625011  0.627954  0.622888     0.973981\n",
       "0          MLPC  0.572046   0.536335  0.567723  0.506253     0.968359"
      ]
     },
     "execution_count": 10,
     "metadata": {},
     "output_type": "execute_result"
    }
   ],
   "source": [
    "# Evaluation of models\n",
    "models_df = pd.concat([baseline_report(model, X_train, X_test, y_train, y_test, name) for (name, model) in models.items()])\n",
    "models_df.to_csv(\"data/output_csv/models_svd.csv\")\n",
    "models_df"
   ]
  },
  {
   "cell_type": "markdown",
   "metadata": {},
   "source": [
    "###### Feature importance"
   ]
  },
  {
   "cell_type": "code",
   "execution_count": 86,
   "metadata": {
    "ExecuteTime": {
     "end_time": "2020-05-31T06:42:25.760659Z",
     "start_time": "2020-05-31T06:36:51.455975Z"
    }
   },
   "outputs": [
    {
     "data": {
      "image/png": "[encoded data removed]",
      "text/plain": [
       "<Figure size 720x1440 with 1 Axes>"
      ]
     },
     "metadata": {},
     "output_type": "display_data"
    }
   ],
   "source": [
    "xgboost = GradientBoostingClassifier().fit(X_train, y_train)\n",
    "\n",
    "fig, ax = plt.subplots(figsize=(10,20))\n",
    "viz = FeatureImportances(xgboost)\n",
    "viz.fit(X, y)\n",
    "viz.show(outpath=\"images/output_images/feature_importance_types.png\")\n",
    "sns.set_context(\"talk\")\n",
    "plt.show()"
   ]
  },
  {
   "cell_type": "markdown",
   "metadata": {},
   "source": [
    "##### resampled"
   ]
  },
  {
   "cell_type": "code",
   "execution_count": 12,
   "metadata": {
    "ExecuteTime": {
     "end_time": "2020-05-30T23:27:58.072554Z",
     "start_time": "2020-05-30T23:27:57.838183Z"
    }
   },
   "outputs": [],
   "source": [
    "result_svd_vec_types  = pd.read_csv(\"data/output_csv/result_svd_vec_types.csv\")\n",
    "result_svd_vec_types.drop([\"Unnamed: 0\"], axis=1, inplace=True)"
   ]
  },
  {
   "cell_type": "code",
   "execution_count": 13,
   "metadata": {
    "ExecuteTime": {
     "end_time": "2020-05-30T23:27:58.383722Z",
     "start_time": "2020-05-30T23:27:58.360783Z"
    }
   },
   "outputs": [
    {
     "data": {
      "text/html": [
       "<div>\n",
       "<style scoped>\n",
       "    .dataframe tbody tr th:only-of-type {\n",
       "        vertical-align: middle;\n",
       "    }\n",
       "\n",
       "    .dataframe tbody tr th {\n",
       "        vertical-align: top;\n",
       "    }\n",
       "\n",
       "    .dataframe thead th {\n",
       "        text-align: right;\n",
       "    }\n",
       "</style>\n",
       "<table border=\"1\" class=\"dataframe\">\n",
       "  <thead>\n",
       "    <tr style=\"text-align: right;\">\n",
       "      <th></th>\n",
       "      <th>type</th>\n",
       "      <th>words_per_comment</th>\n",
       "      <th>variance_of_word_counts</th>\n",
       "      <th>enfj</th>\n",
       "      <th>enfp</th>\n",
       "      <th>entj</th>\n",
       "      <th>entp</th>\n",
       "      <th>esfj</th>\n",
       "      <th>esfp</th>\n",
       "      <th>estj</th>\n",
       "      <th>...</th>\n",
       "      <th>90</th>\n",
       "      <th>91</th>\n",
       "      <th>92</th>\n",
       "      <th>93</th>\n",
       "      <th>94</th>\n",
       "      <th>95</th>\n",
       "      <th>96</th>\n",
       "      <th>97</th>\n",
       "      <th>98</th>\n",
       "      <th>99</th>\n",
       "    </tr>\n",
       "  </thead>\n",
       "  <tbody>\n",
       "    <tr>\n",
       "      <th>0</th>\n",
       "      <td>infj</td>\n",
       "      <td>11.12</td>\n",
       "      <td>135.2900</td>\n",
       "      <td>0</td>\n",
       "      <td>0</td>\n",
       "      <td>0</td>\n",
       "      <td>0</td>\n",
       "      <td>0</td>\n",
       "      <td>0</td>\n",
       "      <td>0</td>\n",
       "      <td>...</td>\n",
       "      <td>0.343928</td>\n",
       "      <td>0.360159</td>\n",
       "      <td>0.358680</td>\n",
       "      <td>0.351273</td>\n",
       "      <td>0.402498</td>\n",
       "      <td>0.357498</td>\n",
       "      <td>0.376758</td>\n",
       "      <td>0.379303</td>\n",
       "      <td>0.367843</td>\n",
       "      <td>0.375516</td>\n",
       "    </tr>\n",
       "    <tr>\n",
       "      <th>1</th>\n",
       "      <td>entp</td>\n",
       "      <td>23.40</td>\n",
       "      <td>187.4756</td>\n",
       "      <td>0</td>\n",
       "      <td>0</td>\n",
       "      <td>0</td>\n",
       "      <td>1</td>\n",
       "      <td>0</td>\n",
       "      <td>0</td>\n",
       "      <td>0</td>\n",
       "      <td>...</td>\n",
       "      <td>0.351512</td>\n",
       "      <td>0.375683</td>\n",
       "      <td>0.352008</td>\n",
       "      <td>0.356475</td>\n",
       "      <td>0.332874</td>\n",
       "      <td>0.386907</td>\n",
       "      <td>0.356917</td>\n",
       "      <td>0.354533</td>\n",
       "      <td>0.377601</td>\n",
       "      <td>0.337164</td>\n",
       "    </tr>\n",
       "    <tr>\n",
       "      <th>2</th>\n",
       "      <td>intp</td>\n",
       "      <td>16.72</td>\n",
       "      <td>180.6900</td>\n",
       "      <td>0</td>\n",
       "      <td>0</td>\n",
       "      <td>0</td>\n",
       "      <td>0</td>\n",
       "      <td>0</td>\n",
       "      <td>0</td>\n",
       "      <td>0</td>\n",
       "      <td>...</td>\n",
       "      <td>0.332374</td>\n",
       "      <td>0.354798</td>\n",
       "      <td>0.362468</td>\n",
       "      <td>0.352909</td>\n",
       "      <td>0.367732</td>\n",
       "      <td>0.342600</td>\n",
       "      <td>0.336408</td>\n",
       "      <td>0.357758</td>\n",
       "      <td>0.344202</td>\n",
       "      <td>0.391195</td>\n",
       "    </tr>\n",
       "    <tr>\n",
       "      <th>3</th>\n",
       "      <td>intj</td>\n",
       "      <td>21.28</td>\n",
       "      <td>181.8324</td>\n",
       "      <td>0</td>\n",
       "      <td>0</td>\n",
       "      <td>0</td>\n",
       "      <td>0</td>\n",
       "      <td>0</td>\n",
       "      <td>0</td>\n",
       "      <td>0</td>\n",
       "      <td>...</td>\n",
       "      <td>0.370720</td>\n",
       "      <td>0.335693</td>\n",
       "      <td>0.393478</td>\n",
       "      <td>0.349815</td>\n",
       "      <td>0.373543</td>\n",
       "      <td>0.380157</td>\n",
       "      <td>0.381040</td>\n",
       "      <td>0.335247</td>\n",
       "      <td>0.360196</td>\n",
       "      <td>0.377249</td>\n",
       "    </tr>\n",
       "    <tr>\n",
       "      <th>4</th>\n",
       "      <td>entj</td>\n",
       "      <td>19.34</td>\n",
       "      <td>196.4576</td>\n",
       "      <td>0</td>\n",
       "      <td>0</td>\n",
       "      <td>1</td>\n",
       "      <td>0</td>\n",
       "      <td>0</td>\n",
       "      <td>0</td>\n",
       "      <td>0</td>\n",
       "      <td>...</td>\n",
       "      <td>0.337362</td>\n",
       "      <td>0.363822</td>\n",
       "      <td>0.328088</td>\n",
       "      <td>0.336720</td>\n",
       "      <td>0.373329</td>\n",
       "      <td>0.376424</td>\n",
       "      <td>0.356934</td>\n",
       "      <td>0.367272</td>\n",
       "      <td>0.333998</td>\n",
       "      <td>0.381967</td>\n",
       "    </tr>\n",
       "  </tbody>\n",
       "</table>\n",
       "<p>5 rows × 119 columns</p>\n",
       "</div>"
      ],
      "text/plain": [
       "   type  words_per_comment  variance_of_word_counts  enfj  enfp  entj  entp  \\\n",
       "0  infj              11.12                 135.2900     0     0     0     0   \n",
       "1  entp              23.40                 187.4756     0     0     0     1   \n",
       "2  intp              16.72                 180.6900     0     0     0     0   \n",
       "3  intj              21.28                 181.8324     0     0     0     0   \n",
       "4  entj              19.34                 196.4576     0     0     1     0   \n",
       "\n",
       "   esfj  esfp  estj  ...        90        91        92        93        94  \\\n",
       "0     0     0     0  ...  0.343928  0.360159  0.358680  0.351273  0.402498   \n",
       "1     0     0     0  ...  0.351512  0.375683  0.352008  0.356475  0.332874   \n",
       "2     0     0     0  ...  0.332374  0.354798  0.362468  0.352909  0.367732   \n",
       "3     0     0     0  ...  0.370720  0.335693  0.393478  0.349815  0.373543   \n",
       "4     0     0     0  ...  0.337362  0.363822  0.328088  0.336720  0.373329   \n",
       "\n",
       "         95        96        97        98        99  \n",
       "0  0.357498  0.376758  0.379303  0.367843  0.375516  \n",
       "1  0.386907  0.356917  0.354533  0.377601  0.337164  \n",
       "2  0.342600  0.336408  0.357758  0.344202  0.391195  \n",
       "3  0.380157  0.381040  0.335247  0.360196  0.377249  \n",
       "4  0.376424  0.356934  0.367272  0.333998  0.381967  \n",
       "\n",
       "[5 rows x 119 columns]"
      ]
     },
     "execution_count": 13,
     "metadata": {},
     "output_type": "execute_result"
    }
   ],
   "source": [
    "result_svd_vec_types.head()"
   ]
  },
  {
   "cell_type": "code",
   "execution_count": 14,
   "metadata": {
    "ExecuteTime": {
     "end_time": "2020-05-30T23:27:58.658986Z",
     "start_time": "2020-05-30T23:27:58.653999Z"
    }
   },
   "outputs": [
    {
     "data": {
      "text/plain": [
       "(8675, 119)"
      ]
     },
     "execution_count": 14,
     "metadata": {},
     "output_type": "execute_result"
    }
   ],
   "source": [
    "result_svd_vec_types.shape"
   ]
  },
  {
   "cell_type": "code",
   "execution_count": 15,
   "metadata": {
    "ExecuteTime": {
     "end_time": "2020-05-30T23:27:59.133921Z",
     "start_time": "2020-05-30T23:27:58.939237Z"
    }
   },
   "outputs": [],
   "source": [
    "def sampling_k_elements(group, k=39):\n",
    "    if len(group) < k:\n",
    "        return group\n",
    "    return group.sample(k)\n",
    "\n",
    "balanced_svd = result_svd_vec_types.groupby(\"type\").apply(sampling_k_elements).reset_index(drop=True)"
   ]
  },
  {
   "cell_type": "code",
   "execution_count": 16,
   "metadata": {
    "ExecuteTime": {
     "end_time": "2020-05-30T23:27:59.522739Z",
     "start_time": "2020-05-30T23:27:59.515772Z"
    }
   },
   "outputs": [],
   "source": [
    "X = balanced_svd.drop([\"type\",\"enfj\", \"enfp\", \"entj\", \"entp\", \"esfj\", \"esfp\", \"estj\", \"estp\",\"infj\", \"infp\", \"intj\",\n",
    "                               \"intp\", \"isfj\", \"isfp\", \"istj\", \"istp\"], axis=1).values\n",
    "y = balanced_svd[\"type\"].values"
   ]
  },
  {
   "cell_type": "code",
   "execution_count": 17,
   "metadata": {
    "ExecuteTime": {
     "end_time": "2020-05-30T23:27:59.921700Z",
     "start_time": "2020-05-30T23:27:59.916686Z"
    },
    "scrolled": true
   },
   "outputs": [
    {
     "name": "stdout",
     "output_type": "stream",
     "text": [
      "(499, 102) (499,) (125, 102) (125,)\n"
     ]
    }
   ],
   "source": [
    "X_train, X_test, y_train, y_test = train_test_split(X, y, random_state=42, test_size=0.2)\n",
    "print ((X_train.shape),(y_train.shape),(X_test.shape),(y_test.shape))"
   ]
  },
  {
   "cell_type": "code",
   "execution_count": 18,
   "metadata": {
    "ExecuteTime": {
     "end_time": "2020-05-30T23:28:00.361496Z",
     "start_time": "2020-05-30T23:28:00.352520Z"
    }
   },
   "outputs": [],
   "source": [
    "def baseline_report(model, X_train, X_test, y_train, y_test, name):\n",
    "    strat_k_fold = StratifiedKFold(n_splits=5, shuffle=True)\n",
    "    model.fit(X_train, y_train)\n",
    "    accuracy     = np.mean(cross_val_score(model, X_train, y_train, cv=strat_k_fold, scoring='accuracy'))\n",
    "    precision    = np.mean(cross_val_score(model, X_train, y_train, cv=strat_k_fold, scoring='precision_weighted'))\n",
    "    recall       = np.mean(cross_val_score(model, X_train, y_train, cv=strat_k_fold, scoring='recall_weighted'))\n",
    "    f1score      = np.mean(cross_val_score(model, X_train, y_train, cv=strat_k_fold, scoring='f1_weighted'))\n",
    "    y_pred = model.predict(X_test)\n",
    "    mcm = multilabel_confusion_matrix(y_test, y_pred)\n",
    "    tn = mcm[:, 0, 0]\n",
    "    tp = mcm[:, 1, 1]\n",
    "    fn = mcm[:, 1, 0]\n",
    "    fp = mcm[:, 0, 1]\n",
    "    specificities = tn / (tn+fp)\n",
    "    specificity = (specificities.sum())/ 16\n",
    "\n",
    "    df_model = pd.DataFrame({'model'        : [name],\n",
    "                             'accuracy'     : [accuracy],\n",
    "                             'precision'    : [precision],\n",
    "                             'recall'       : [recall],\n",
    "                             'f1score'      : [f1score],\n",
    "                             'specificity': [specificity]\n",
    "                            })   \n",
    "    return df_model"
   ]
  },
  {
   "cell_type": "code",
   "execution_count": 19,
   "metadata": {
    "ExecuteTime": {
     "end_time": "2020-05-30T23:28:00.774392Z",
     "start_time": "2020-05-30T23:28:00.762435Z"
    }
   },
   "outputs": [],
   "source": [
    "models = {'gnb': GaussianNB(),\n",
    "          'logit': LogisticRegression(),\n",
    "          'knn': KNeighborsClassifier(),\n",
    "          'decisiontree': DecisionTreeClassifier(),\n",
    "          'randomforest': RandomForestClassifier(),\n",
    "          'xgboost': GradientBoostingClassifier(),\n",
    "          'MLPC': MLPClassifier()\n",
    "         }"
   ]
  },
  {
   "cell_type": "code",
   "execution_count": 20,
   "metadata": {
    "ExecuteTime": {
     "end_time": "2020-05-30T23:33:43.970632Z",
     "start_time": "2020-05-30T23:28:01.186291Z"
    },
    "scrolled": false
   },
   "outputs": [
    {
     "data": {
      "text/html": [
       "<div>\n",
       "<style scoped>\n",
       "    .dataframe tbody tr th:only-of-type {\n",
       "        vertical-align: middle;\n",
       "    }\n",
       "\n",
       "    .dataframe tbody tr th {\n",
       "        vertical-align: top;\n",
       "    }\n",
       "\n",
       "    .dataframe thead th {\n",
       "        text-align: right;\n",
       "    }\n",
       "</style>\n",
       "<table border=\"1\" class=\"dataframe\">\n",
       "  <thead>\n",
       "    <tr style=\"text-align: right;\">\n",
       "      <th></th>\n",
       "      <th>model</th>\n",
       "      <th>accuracy</th>\n",
       "      <th>precision</th>\n",
       "      <th>recall</th>\n",
       "      <th>f1score</th>\n",
       "      <th>specificity</th>\n",
       "    </tr>\n",
       "  </thead>\n",
       "  <tbody>\n",
       "    <tr>\n",
       "      <th>0</th>\n",
       "      <td>gnb</td>\n",
       "      <td>0.420828</td>\n",
       "      <td>0.478576</td>\n",
       "      <td>0.420869</td>\n",
       "      <td>0.424358</td>\n",
       "      <td>0.962788</td>\n",
       "    </tr>\n",
       "    <tr>\n",
       "      <th>0</th>\n",
       "      <td>logit</td>\n",
       "      <td>0.140424</td>\n",
       "      <td>0.219306</td>\n",
       "      <td>0.172404</td>\n",
       "      <td>0.159622</td>\n",
       "      <td>0.941482</td>\n",
       "    </tr>\n",
       "    <tr>\n",
       "      <th>0</th>\n",
       "      <td>knn</td>\n",
       "      <td>0.064141</td>\n",
       "      <td>0.123761</td>\n",
       "      <td>0.076182</td>\n",
       "      <td>0.058451</td>\n",
       "      <td>0.939582</td>\n",
       "    </tr>\n",
       "    <tr>\n",
       "      <th>0</th>\n",
       "      <td>decisiontree</td>\n",
       "      <td>0.272586</td>\n",
       "      <td>0.261215</td>\n",
       "      <td>0.218303</td>\n",
       "      <td>0.218309</td>\n",
       "      <td>0.946661</td>\n",
       "    </tr>\n",
       "    <tr>\n",
       "      <th>0</th>\n",
       "      <td>randomforest</td>\n",
       "      <td>0.454869</td>\n",
       "      <td>0.508494</td>\n",
       "      <td>0.476707</td>\n",
       "      <td>0.449604</td>\n",
       "      <td>0.965543</td>\n",
       "    </tr>\n",
       "    <tr>\n",
       "      <th>0</th>\n",
       "      <td>xgboost</td>\n",
       "      <td>0.412848</td>\n",
       "      <td>0.404027</td>\n",
       "      <td>0.364626</td>\n",
       "      <td>0.391002</td>\n",
       "      <td>0.960844</td>\n",
       "    </tr>\n",
       "    <tr>\n",
       "      <th>0</th>\n",
       "      <td>MLPC</td>\n",
       "      <td>0.098222</td>\n",
       "      <td>0.075802</td>\n",
       "      <td>0.084141</td>\n",
       "      <td>0.056600</td>\n",
       "      <td>0.939084</td>\n",
       "    </tr>\n",
       "  </tbody>\n",
       "</table>\n",
       "</div>"
      ],
      "text/plain": [
       "          model  accuracy  precision    recall   f1score  specificity\n",
       "0           gnb  0.420828   0.478576  0.420869  0.424358     0.962788\n",
       "0         logit  0.140424   0.219306  0.172404  0.159622     0.941482\n",
       "0           knn  0.064141   0.123761  0.076182  0.058451     0.939582\n",
       "0  decisiontree  0.272586   0.261215  0.218303  0.218309     0.946661\n",
       "0  randomforest  0.454869   0.508494  0.476707  0.449604     0.965543\n",
       "0       xgboost  0.412848   0.404027  0.364626  0.391002     0.960844\n",
       "0          MLPC  0.098222   0.075802  0.084141  0.056600     0.939084"
      ]
     },
     "execution_count": 20,
     "metadata": {},
     "output_type": "execute_result"
    }
   ],
   "source": [
    "# Evaluation of models\n",
    "models_df = pd.concat([baseline_report(model, X_train, X_test, y_train, y_test, name) for (name, model) in models.items()])\n",
    "models_df.to_csv(\"data/output_csv/models_svd_resampled.csv\")\n",
    "models_df"
   ]
  },
  {
   "cell_type": "markdown",
   "metadata": {
    "colab_type": "text",
    "id": "u4taraiHeec2"
   },
   "source": [
    "#### UMAP"
   ]
  },
  {
   "cell_type": "markdown",
   "metadata": {},
   "source": [
    "##### original sample"
   ]
  },
  {
   "cell_type": "code",
   "execution_count": 21,
   "metadata": {
    "ExecuteTime": {
     "end_time": "2020-05-30T23:33:44.408478Z",
     "start_time": "2020-05-30T23:33:44.386520Z"
    }
   },
   "outputs": [],
   "source": [
    "result_umap_types  = pd.read_csv(\"data/output_csv/result_umap_types.csv\")\n",
    "result_umap_types.drop([\"Unnamed: 0\"], axis=1, inplace=True)"
   ]
  },
  {
   "cell_type": "code",
   "execution_count": 22,
   "metadata": {
    "ExecuteTime": {
     "end_time": "2020-05-30T23:33:44.936425Z",
     "start_time": "2020-05-30T23:33:44.917475Z"
    }
   },
   "outputs": [
    {
     "data": {
      "text/html": [
       "<div>\n",
       "<style scoped>\n",
       "    .dataframe tbody tr th:only-of-type {\n",
       "        vertical-align: middle;\n",
       "    }\n",
       "\n",
       "    .dataframe tbody tr th {\n",
       "        vertical-align: top;\n",
       "    }\n",
       "\n",
       "    .dataframe thead th {\n",
       "        text-align: right;\n",
       "    }\n",
       "</style>\n",
       "<table border=\"1\" class=\"dataframe\">\n",
       "  <thead>\n",
       "    <tr style=\"text-align: right;\">\n",
       "      <th></th>\n",
       "      <th>type</th>\n",
       "      <th>words_per_comment</th>\n",
       "      <th>variance_of_word_counts</th>\n",
       "      <th>enfj</th>\n",
       "      <th>enfp</th>\n",
       "      <th>entj</th>\n",
       "      <th>entp</th>\n",
       "      <th>esfj</th>\n",
       "      <th>esfp</th>\n",
       "      <th>estj</th>\n",
       "      <th>...</th>\n",
       "      <th>infj</th>\n",
       "      <th>infp</th>\n",
       "      <th>intj</th>\n",
       "      <th>intp</th>\n",
       "      <th>isfj</th>\n",
       "      <th>isfp</th>\n",
       "      <th>istj</th>\n",
       "      <th>istp</th>\n",
       "      <th>0</th>\n",
       "      <th>1</th>\n",
       "    </tr>\n",
       "  </thead>\n",
       "  <tbody>\n",
       "    <tr>\n",
       "      <th>0</th>\n",
       "      <td>infj</td>\n",
       "      <td>11.12</td>\n",
       "      <td>135.2900</td>\n",
       "      <td>0</td>\n",
       "      <td>0</td>\n",
       "      <td>0</td>\n",
       "      <td>0</td>\n",
       "      <td>0</td>\n",
       "      <td>0</td>\n",
       "      <td>0</td>\n",
       "      <td>...</td>\n",
       "      <td>1</td>\n",
       "      <td>0</td>\n",
       "      <td>0</td>\n",
       "      <td>0</td>\n",
       "      <td>0</td>\n",
       "      <td>0</td>\n",
       "      <td>0</td>\n",
       "      <td>0</td>\n",
       "      <td>3.910143</td>\n",
       "      <td>7.477874</td>\n",
       "    </tr>\n",
       "    <tr>\n",
       "      <th>1</th>\n",
       "      <td>entp</td>\n",
       "      <td>23.40</td>\n",
       "      <td>187.4756</td>\n",
       "      <td>0</td>\n",
       "      <td>0</td>\n",
       "      <td>0</td>\n",
       "      <td>1</td>\n",
       "      <td>0</td>\n",
       "      <td>0</td>\n",
       "      <td>0</td>\n",
       "      <td>...</td>\n",
       "      <td>0</td>\n",
       "      <td>0</td>\n",
       "      <td>0</td>\n",
       "      <td>0</td>\n",
       "      <td>0</td>\n",
       "      <td>0</td>\n",
       "      <td>0</td>\n",
       "      <td>0</td>\n",
       "      <td>3.938040</td>\n",
       "      <td>5.939636</td>\n",
       "    </tr>\n",
       "    <tr>\n",
       "      <th>2</th>\n",
       "      <td>intp</td>\n",
       "      <td>16.72</td>\n",
       "      <td>180.6900</td>\n",
       "      <td>0</td>\n",
       "      <td>0</td>\n",
       "      <td>0</td>\n",
       "      <td>0</td>\n",
       "      <td>0</td>\n",
       "      <td>0</td>\n",
       "      <td>0</td>\n",
       "      <td>...</td>\n",
       "      <td>0</td>\n",
       "      <td>0</td>\n",
       "      <td>0</td>\n",
       "      <td>1</td>\n",
       "      <td>0</td>\n",
       "      <td>0</td>\n",
       "      <td>0</td>\n",
       "      <td>0</td>\n",
       "      <td>3.740153</td>\n",
       "      <td>5.486389</td>\n",
       "    </tr>\n",
       "    <tr>\n",
       "      <th>3</th>\n",
       "      <td>intj</td>\n",
       "      <td>21.28</td>\n",
       "      <td>181.8324</td>\n",
       "      <td>0</td>\n",
       "      <td>0</td>\n",
       "      <td>0</td>\n",
       "      <td>0</td>\n",
       "      <td>0</td>\n",
       "      <td>0</td>\n",
       "      <td>0</td>\n",
       "      <td>...</td>\n",
       "      <td>0</td>\n",
       "      <td>0</td>\n",
       "      <td>1</td>\n",
       "      <td>0</td>\n",
       "      <td>0</td>\n",
       "      <td>0</td>\n",
       "      <td>0</td>\n",
       "      <td>0</td>\n",
       "      <td>5.415134</td>\n",
       "      <td>7.452929</td>\n",
       "    </tr>\n",
       "    <tr>\n",
       "      <th>4</th>\n",
       "      <td>entj</td>\n",
       "      <td>19.34</td>\n",
       "      <td>196.4576</td>\n",
       "      <td>0</td>\n",
       "      <td>0</td>\n",
       "      <td>1</td>\n",
       "      <td>0</td>\n",
       "      <td>0</td>\n",
       "      <td>0</td>\n",
       "      <td>0</td>\n",
       "      <td>...</td>\n",
       "      <td>0</td>\n",
       "      <td>0</td>\n",
       "      <td>0</td>\n",
       "      <td>0</td>\n",
       "      <td>0</td>\n",
       "      <td>0</td>\n",
       "      <td>0</td>\n",
       "      <td>0</td>\n",
       "      <td>2.083198</td>\n",
       "      <td>7.512875</td>\n",
       "    </tr>\n",
       "  </tbody>\n",
       "</table>\n",
       "<p>5 rows × 21 columns</p>\n",
       "</div>"
      ],
      "text/plain": [
       "   type  words_per_comment  variance_of_word_counts  enfj  enfp  entj  entp  \\\n",
       "0  infj              11.12                 135.2900     0     0     0     0   \n",
       "1  entp              23.40                 187.4756     0     0     0     1   \n",
       "2  intp              16.72                 180.6900     0     0     0     0   \n",
       "3  intj              21.28                 181.8324     0     0     0     0   \n",
       "4  entj              19.34                 196.4576     0     0     1     0   \n",
       "\n",
       "   esfj  esfp  estj  ...  infj  infp  intj  intp  isfj  isfp  istj  istp  \\\n",
       "0     0     0     0  ...     1     0     0     0     0     0     0     0   \n",
       "1     0     0     0  ...     0     0     0     0     0     0     0     0   \n",
       "2     0     0     0  ...     0     0     0     1     0     0     0     0   \n",
       "3     0     0     0  ...     0     0     1     0     0     0     0     0   \n",
       "4     0     0     0  ...     0     0     0     0     0     0     0     0   \n",
       "\n",
       "          0         1  \n",
       "0  3.910143  7.477874  \n",
       "1  3.938040  5.939636  \n",
       "2  3.740153  5.486389  \n",
       "3  5.415134  7.452929  \n",
       "4  2.083198  7.512875  \n",
       "\n",
       "[5 rows x 21 columns]"
      ]
     },
     "execution_count": 22,
     "metadata": {},
     "output_type": "execute_result"
    }
   ],
   "source": [
    "result_umap_types.head()"
   ]
  },
  {
   "cell_type": "code",
   "execution_count": 23,
   "metadata": {
    "ExecuteTime": {
     "end_time": "2020-05-30T23:33:45.463987Z",
     "start_time": "2020-05-30T23:33:45.459000Z"
    }
   },
   "outputs": [
    {
     "data": {
      "text/plain": [
       "(8675, 21)"
      ]
     },
     "execution_count": 23,
     "metadata": {},
     "output_type": "execute_result"
    }
   ],
   "source": [
    "result_umap_types.shape"
   ]
  },
  {
   "cell_type": "code",
   "execution_count": 24,
   "metadata": {
    "ExecuteTime": {
     "end_time": "2020-05-30T23:33:45.965668Z",
     "start_time": "2020-05-30T23:33:45.958686Z"
    }
   },
   "outputs": [],
   "source": [
    "X = result_umap_types.drop([\"type\",\"enfj\", \"enfp\", \"entj\", \"entp\", \"esfj\", \"esfp\", \"estj\", \"estp\",\"infj\", \"infp\", \"intj\",\n",
    "                               \"intp\", \"isfj\", \"isfp\", \"istj\", \"istp\"], axis=1).values\n",
    "y = result_umap_types[\"type\"].values"
   ]
  },
  {
   "cell_type": "code",
   "execution_count": 25,
   "metadata": {
    "ExecuteTime": {
     "end_time": "2020-05-30T23:33:46.467326Z",
     "start_time": "2020-05-30T23:33:46.459376Z"
    },
    "scrolled": true
   },
   "outputs": [
    {
     "name": "stdout",
     "output_type": "stream",
     "text": [
      "(6940, 4) (6940,) (1735, 4) (1735,)\n"
     ]
    }
   ],
   "source": [
    "X_train, X_test, y_train, y_test = train_test_split(X, y, random_state=42, test_size=0.2)\n",
    "print ((X_train.shape),(y_train.shape),(X_test.shape),(y_test.shape))"
   ]
  },
  {
   "cell_type": "code",
   "execution_count": 26,
   "metadata": {
    "ExecuteTime": {
     "end_time": "2020-05-30T23:33:46.955022Z",
     "start_time": "2020-05-30T23:33:46.945050Z"
    }
   },
   "outputs": [],
   "source": [
    "def baseline_report(model, X_train, X_test, y_train, y_test, name):\n",
    "    strat_k_fold = StratifiedKFold(n_splits=5, shuffle=True)\n",
    "    model.fit(X_train, y_train)\n",
    "    accuracy     = np.mean(cross_val_score(model, X_train, y_train, cv=strat_k_fold, scoring='accuracy'))\n",
    "    precision    = np.mean(cross_val_score(model, X_train, y_train, cv=strat_k_fold, scoring='precision_weighted'))\n",
    "    recall       = np.mean(cross_val_score(model, X_train, y_train, cv=strat_k_fold, scoring='recall_weighted'))\n",
    "    f1score      = np.mean(cross_val_score(model, X_train, y_train, cv=strat_k_fold, scoring='f1_weighted'))\n",
    "    y_pred = model.predict(X_test)\n",
    "    mcm = multilabel_confusion_matrix(y_test, y_pred)\n",
    "    tn = mcm[:, 0, 0]\n",
    "    tp = mcm[:, 1, 1]\n",
    "    fn = mcm[:, 1, 0]\n",
    "    fp = mcm[:, 0, 1]\n",
    "    specificities = tn / (tn+fp)\n",
    "    specificity = (specificities.sum())/ 16\n",
    "\n",
    "    df_model = pd.DataFrame({'model'        : [name],\n",
    "                             'accuracy'     : [accuracy],\n",
    "                             'precision'    : [precision],\n",
    "                             'recall'       : [recall],\n",
    "                             'f1score'      : [f1score],\n",
    "                             'specificity': [specificity]\n",
    "                            })   \n",
    "    return df_model"
   ]
  },
  {
   "cell_type": "code",
   "execution_count": 27,
   "metadata": {
    "ExecuteTime": {
     "end_time": "2020-05-30T23:33:47.434590Z",
     "start_time": "2020-05-30T23:33:47.427601Z"
    }
   },
   "outputs": [],
   "source": [
    "models = {'gnb': GaussianNB(),\n",
    "          'logit': LogisticRegression(),\n",
    "          'knn': KNeighborsClassifier(),\n",
    "          'decisiontree': DecisionTreeClassifier(),\n",
    "          'randomforest': RandomForestClassifier(),\n",
    "          'xgboost': GradientBoostingClassifier(),\n",
    "          'MLPC': MLPClassifier()\n",
    "         }"
   ]
  },
  {
   "cell_type": "code",
   "execution_count": 28,
   "metadata": {
    "ExecuteTime": {
     "end_time": "2020-05-30T23:40:00.199803Z",
     "start_time": "2020-05-30T23:33:47.912262Z"
    },
    "scrolled": false
   },
   "outputs": [
    {
     "data": {
      "text/html": [
       "<div>\n",
       "<style scoped>\n",
       "    .dataframe tbody tr th:only-of-type {\n",
       "        vertical-align: middle;\n",
       "    }\n",
       "\n",
       "    .dataframe tbody tr th {\n",
       "        vertical-align: top;\n",
       "    }\n",
       "\n",
       "    .dataframe thead th {\n",
       "        text-align: right;\n",
       "    }\n",
       "</style>\n",
       "<table border=\"1\" class=\"dataframe\">\n",
       "  <thead>\n",
       "    <tr style=\"text-align: right;\">\n",
       "      <th></th>\n",
       "      <th>model</th>\n",
       "      <th>accuracy</th>\n",
       "      <th>precision</th>\n",
       "      <th>recall</th>\n",
       "      <th>f1score</th>\n",
       "      <th>specificity</th>\n",
       "    </tr>\n",
       "  </thead>\n",
       "  <tbody>\n",
       "    <tr>\n",
       "      <th>0</th>\n",
       "      <td>gnb</td>\n",
       "      <td>0.247550</td>\n",
       "      <td>0.163636</td>\n",
       "      <td>0.246254</td>\n",
       "      <td>0.170810</td>\n",
       "      <td>0.942453</td>\n",
       "    </tr>\n",
       "    <tr>\n",
       "      <th>0</th>\n",
       "      <td>logit</td>\n",
       "      <td>0.240202</td>\n",
       "      <td>0.139118</td>\n",
       "      <td>0.244524</td>\n",
       "      <td>0.162082</td>\n",
       "      <td>0.941679</td>\n",
       "    </tr>\n",
       "    <tr>\n",
       "      <th>0</th>\n",
       "      <td>knn</td>\n",
       "      <td>0.165706</td>\n",
       "      <td>0.158060</td>\n",
       "      <td>0.163689</td>\n",
       "      <td>0.158168</td>\n",
       "      <td>0.939635</td>\n",
       "    </tr>\n",
       "    <tr>\n",
       "      <th>0</th>\n",
       "      <td>decisiontree</td>\n",
       "      <td>0.162536</td>\n",
       "      <td>0.160048</td>\n",
       "      <td>0.161239</td>\n",
       "      <td>0.160094</td>\n",
       "      <td>0.940114</td>\n",
       "    </tr>\n",
       "    <tr>\n",
       "      <th>0</th>\n",
       "      <td>randomforest</td>\n",
       "      <td>0.219164</td>\n",
       "      <td>0.177404</td>\n",
       "      <td>0.214409</td>\n",
       "      <td>0.194880</td>\n",
       "      <td>0.942896</td>\n",
       "    </tr>\n",
       "    <tr>\n",
       "      <th>0</th>\n",
       "      <td>xgboost</td>\n",
       "      <td>0.229107</td>\n",
       "      <td>0.191042</td>\n",
       "      <td>0.230692</td>\n",
       "      <td>0.200049</td>\n",
       "      <td>0.942650</td>\n",
       "    </tr>\n",
       "    <tr>\n",
       "      <th>0</th>\n",
       "      <td>MLPC</td>\n",
       "      <td>0.233718</td>\n",
       "      <td>0.179412</td>\n",
       "      <td>0.227810</td>\n",
       "      <td>0.153369</td>\n",
       "      <td>0.942347</td>\n",
       "    </tr>\n",
       "  </tbody>\n",
       "</table>\n",
       "</div>"
      ],
      "text/plain": [
       "          model  accuracy  precision    recall   f1score  specificity\n",
       "0           gnb  0.247550   0.163636  0.246254  0.170810     0.942453\n",
       "0         logit  0.240202   0.139118  0.244524  0.162082     0.941679\n",
       "0           knn  0.165706   0.158060  0.163689  0.158168     0.939635\n",
       "0  decisiontree  0.162536   0.160048  0.161239  0.160094     0.940114\n",
       "0  randomforest  0.219164   0.177404  0.214409  0.194880     0.942896\n",
       "0       xgboost  0.229107   0.191042  0.230692  0.200049     0.942650\n",
       "0          MLPC  0.233718   0.179412  0.227810  0.153369     0.942347"
      ]
     },
     "execution_count": 28,
     "metadata": {},
     "output_type": "execute_result"
    }
   ],
   "source": [
    "# Evaluation of models\n",
    "models_df = pd.concat([baseline_report(model, X_train, X_test, y_train, y_test, name) for (name, model) in models.items()])\n",
    "models_df.to_csv(\"data/output_csv/models_umap.csv\")\n",
    "models_df"
   ]
  },
  {
   "cell_type": "markdown",
   "metadata": {},
   "source": [
    "##### resampled"
   ]
  },
  {
   "cell_type": "code",
   "execution_count": 29,
   "metadata": {
    "ExecuteTime": {
     "end_time": "2020-05-30T23:40:00.732383Z",
     "start_time": "2020-05-30T23:40:00.709441Z"
    }
   },
   "outputs": [],
   "source": [
    "result_umap_types  = pd.read_csv(\"data/output_csv/result_umap_types.csv\")\n",
    "result_umap_types.drop([\"Unnamed: 0\"], axis=1, inplace=True)"
   ]
  },
  {
   "cell_type": "code",
   "execution_count": 30,
   "metadata": {
    "ExecuteTime": {
     "end_time": "2020-05-30T23:40:01.286897Z",
     "start_time": "2020-05-30T23:40:01.265953Z"
    }
   },
   "outputs": [
    {
     "data": {
      "text/html": [
       "<div>\n",
       "<style scoped>\n",
       "    .dataframe tbody tr th:only-of-type {\n",
       "        vertical-align: middle;\n",
       "    }\n",
       "\n",
       "    .dataframe tbody tr th {\n",
       "        vertical-align: top;\n",
       "    }\n",
       "\n",
       "    .dataframe thead th {\n",
       "        text-align: right;\n",
       "    }\n",
       "</style>\n",
       "<table border=\"1\" class=\"dataframe\">\n",
       "  <thead>\n",
       "    <tr style=\"text-align: right;\">\n",
       "      <th></th>\n",
       "      <th>type</th>\n",
       "      <th>words_per_comment</th>\n",
       "      <th>variance_of_word_counts</th>\n",
       "      <th>enfj</th>\n",
       "      <th>enfp</th>\n",
       "      <th>entj</th>\n",
       "      <th>entp</th>\n",
       "      <th>esfj</th>\n",
       "      <th>esfp</th>\n",
       "      <th>estj</th>\n",
       "      <th>...</th>\n",
       "      <th>infj</th>\n",
       "      <th>infp</th>\n",
       "      <th>intj</th>\n",
       "      <th>intp</th>\n",
       "      <th>isfj</th>\n",
       "      <th>isfp</th>\n",
       "      <th>istj</th>\n",
       "      <th>istp</th>\n",
       "      <th>0</th>\n",
       "      <th>1</th>\n",
       "    </tr>\n",
       "  </thead>\n",
       "  <tbody>\n",
       "    <tr>\n",
       "      <th>0</th>\n",
       "      <td>infj</td>\n",
       "      <td>11.12</td>\n",
       "      <td>135.2900</td>\n",
       "      <td>0</td>\n",
       "      <td>0</td>\n",
       "      <td>0</td>\n",
       "      <td>0</td>\n",
       "      <td>0</td>\n",
       "      <td>0</td>\n",
       "      <td>0</td>\n",
       "      <td>...</td>\n",
       "      <td>1</td>\n",
       "      <td>0</td>\n",
       "      <td>0</td>\n",
       "      <td>0</td>\n",
       "      <td>0</td>\n",
       "      <td>0</td>\n",
       "      <td>0</td>\n",
       "      <td>0</td>\n",
       "      <td>3.910143</td>\n",
       "      <td>7.477874</td>\n",
       "    </tr>\n",
       "    <tr>\n",
       "      <th>1</th>\n",
       "      <td>entp</td>\n",
       "      <td>23.40</td>\n",
       "      <td>187.4756</td>\n",
       "      <td>0</td>\n",
       "      <td>0</td>\n",
       "      <td>0</td>\n",
       "      <td>1</td>\n",
       "      <td>0</td>\n",
       "      <td>0</td>\n",
       "      <td>0</td>\n",
       "      <td>...</td>\n",
       "      <td>0</td>\n",
       "      <td>0</td>\n",
       "      <td>0</td>\n",
       "      <td>0</td>\n",
       "      <td>0</td>\n",
       "      <td>0</td>\n",
       "      <td>0</td>\n",
       "      <td>0</td>\n",
       "      <td>3.938040</td>\n",
       "      <td>5.939636</td>\n",
       "    </tr>\n",
       "    <tr>\n",
       "      <th>2</th>\n",
       "      <td>intp</td>\n",
       "      <td>16.72</td>\n",
       "      <td>180.6900</td>\n",
       "      <td>0</td>\n",
       "      <td>0</td>\n",
       "      <td>0</td>\n",
       "      <td>0</td>\n",
       "      <td>0</td>\n",
       "      <td>0</td>\n",
       "      <td>0</td>\n",
       "      <td>...</td>\n",
       "      <td>0</td>\n",
       "      <td>0</td>\n",
       "      <td>0</td>\n",
       "      <td>1</td>\n",
       "      <td>0</td>\n",
       "      <td>0</td>\n",
       "      <td>0</td>\n",
       "      <td>0</td>\n",
       "      <td>3.740153</td>\n",
       "      <td>5.486389</td>\n",
       "    </tr>\n",
       "    <tr>\n",
       "      <th>3</th>\n",
       "      <td>intj</td>\n",
       "      <td>21.28</td>\n",
       "      <td>181.8324</td>\n",
       "      <td>0</td>\n",
       "      <td>0</td>\n",
       "      <td>0</td>\n",
       "      <td>0</td>\n",
       "      <td>0</td>\n",
       "      <td>0</td>\n",
       "      <td>0</td>\n",
       "      <td>...</td>\n",
       "      <td>0</td>\n",
       "      <td>0</td>\n",
       "      <td>1</td>\n",
       "      <td>0</td>\n",
       "      <td>0</td>\n",
       "      <td>0</td>\n",
       "      <td>0</td>\n",
       "      <td>0</td>\n",
       "      <td>5.415134</td>\n",
       "      <td>7.452929</td>\n",
       "    </tr>\n",
       "    <tr>\n",
       "      <th>4</th>\n",
       "      <td>entj</td>\n",
       "      <td>19.34</td>\n",
       "      <td>196.4576</td>\n",
       "      <td>0</td>\n",
       "      <td>0</td>\n",
       "      <td>1</td>\n",
       "      <td>0</td>\n",
       "      <td>0</td>\n",
       "      <td>0</td>\n",
       "      <td>0</td>\n",
       "      <td>...</td>\n",
       "      <td>0</td>\n",
       "      <td>0</td>\n",
       "      <td>0</td>\n",
       "      <td>0</td>\n",
       "      <td>0</td>\n",
       "      <td>0</td>\n",
       "      <td>0</td>\n",
       "      <td>0</td>\n",
       "      <td>2.083198</td>\n",
       "      <td>7.512875</td>\n",
       "    </tr>\n",
       "  </tbody>\n",
       "</table>\n",
       "<p>5 rows × 21 columns</p>\n",
       "</div>"
      ],
      "text/plain": [
       "   type  words_per_comment  variance_of_word_counts  enfj  enfp  entj  entp  \\\n",
       "0  infj              11.12                 135.2900     0     0     0     0   \n",
       "1  entp              23.40                 187.4756     0     0     0     1   \n",
       "2  intp              16.72                 180.6900     0     0     0     0   \n",
       "3  intj              21.28                 181.8324     0     0     0     0   \n",
       "4  entj              19.34                 196.4576     0     0     1     0   \n",
       "\n",
       "   esfj  esfp  estj  ...  infj  infp  intj  intp  isfj  isfp  istj  istp  \\\n",
       "0     0     0     0  ...     1     0     0     0     0     0     0     0   \n",
       "1     0     0     0  ...     0     0     0     0     0     0     0     0   \n",
       "2     0     0     0  ...     0     0     0     1     0     0     0     0   \n",
       "3     0     0     0  ...     0     0     1     0     0     0     0     0   \n",
       "4     0     0     0  ...     0     0     0     0     0     0     0     0   \n",
       "\n",
       "          0         1  \n",
       "0  3.910143  7.477874  \n",
       "1  3.938040  5.939636  \n",
       "2  3.740153  5.486389  \n",
       "3  5.415134  7.452929  \n",
       "4  2.083198  7.512875  \n",
       "\n",
       "[5 rows x 21 columns]"
      ]
     },
     "execution_count": 30,
     "metadata": {},
     "output_type": "execute_result"
    }
   ],
   "source": [
    "result_umap_types.head()"
   ]
  },
  {
   "cell_type": "code",
   "execution_count": 31,
   "metadata": {
    "ExecuteTime": {
     "end_time": "2020-05-30T23:40:01.935730Z",
     "start_time": "2020-05-30T23:40:01.773596Z"
    }
   },
   "outputs": [
    {
     "data": {
      "text/plain": [
       "(8675, 21)"
      ]
     },
     "execution_count": 31,
     "metadata": {},
     "output_type": "execute_result"
    }
   ],
   "source": [
    "result_umap_types.shape"
   ]
  },
  {
   "cell_type": "code",
   "execution_count": 32,
   "metadata": {
    "ExecuteTime": {
     "end_time": "2020-05-30T23:40:02.462322Z",
     "start_time": "2020-05-30T23:40:02.435394Z"
    }
   },
   "outputs": [],
   "source": [
    "def sampling_k_elements(group, k=39):\n",
    "    if len(group) < k:\n",
    "        return group\n",
    "    return group.sample(k)\n",
    "\n",
    "balanced_umap = result_umap_types.groupby(\"type\").apply(sampling_k_elements).reset_index(drop=True)"
   ]
  },
  {
   "cell_type": "code",
   "execution_count": 33,
   "metadata": {
    "ExecuteTime": {
     "end_time": "2020-05-30T23:40:03.900954Z",
     "start_time": "2020-05-30T23:40:03.047763Z"
    }
   },
   "outputs": [],
   "source": [
    "X = balanced_umap.drop([\"type\",\"enfj\", \"enfp\", \"entj\", \"entp\", \"esfj\", \"esfp\", \"estj\", \"estp\",\"infj\", \"infp\", \"intj\",\n",
    "                               \"intp\", \"isfj\", \"isfp\", \"istj\", \"istp\"], axis=1).values\n",
    "y = balanced_umap[\"type\"].values"
   ]
  },
  {
   "cell_type": "code",
   "execution_count": 34,
   "metadata": {
    "ExecuteTime": {
     "end_time": "2020-05-30T23:40:04.488404Z",
     "start_time": "2020-05-30T23:40:04.481424Z"
    },
    "scrolled": true
   },
   "outputs": [
    {
     "name": "stdout",
     "output_type": "stream",
     "text": [
      "(499, 4) (499,) (125, 4) (125,)\n"
     ]
    }
   ],
   "source": [
    "X_train, X_test, y_train, y_test = train_test_split(X, y, random_state=42, test_size=0.2)\n",
    "print ((X_train.shape),(y_train.shape),(X_test.shape),(y_test.shape))"
   ]
  },
  {
   "cell_type": "code",
   "execution_count": 35,
   "metadata": {
    "ExecuteTime": {
     "end_time": "2020-05-30T23:40:05.261365Z",
     "start_time": "2020-05-30T23:40:05.252363Z"
    }
   },
   "outputs": [],
   "source": [
    "def baseline_report(model, X_train, X_test, y_train, y_test, name):\n",
    "    strat_k_fold = StratifiedKFold(n_splits=5, shuffle=True)\n",
    "    model.fit(X_train, y_train)\n",
    "    accuracy     = np.mean(cross_val_score(model, X_train, y_train, cv=strat_k_fold, scoring='accuracy'))\n",
    "    precision    = np.mean(cross_val_score(model, X_train, y_train, cv=strat_k_fold, scoring='precision_weighted'))\n",
    "    recall       = np.mean(cross_val_score(model, X_train, y_train, cv=strat_k_fold, scoring='recall_weighted'))\n",
    "    f1score      = np.mean(cross_val_score(model, X_train, y_train, cv=strat_k_fold, scoring='f1_weighted'))\n",
    "    y_pred = model.predict(X_test)\n",
    "    mcm = multilabel_confusion_matrix(y_test, y_pred)\n",
    "    tn = mcm[:, 0, 0]\n",
    "    tp = mcm[:, 1, 1]\n",
    "    fn = mcm[:, 1, 0]\n",
    "    fp = mcm[:, 0, 1]\n",
    "    specificities = tn / (tn+fp)\n",
    "    specificity = (specificities.sum())/ 16\n",
    "\n",
    "    df_model = pd.DataFrame({'model'        : [name],\n",
    "                             'accuracy'     : [accuracy],\n",
    "                             'precision'    : [precision],\n",
    "                             'recall'       : [recall],\n",
    "                             'f1score'      : [f1score],\n",
    "                             'specificity': [specificity]\n",
    "                            })   \n",
    "    return df_model"
   ]
  },
  {
   "cell_type": "code",
   "execution_count": 36,
   "metadata": {
    "ExecuteTime": {
     "end_time": "2020-05-30T23:40:05.926560Z",
     "start_time": "2020-05-30T23:40:05.905616Z"
    }
   },
   "outputs": [],
   "source": [
    "models = {'gnb': GaussianNB(),\n",
    "          'logit': LogisticRegression(),\n",
    "          'knn': KNeighborsClassifier(),\n",
    "          'decisiontree': DecisionTreeClassifier(),\n",
    "          'randomforest': RandomForestClassifier(),\n",
    "          'xgboost': GradientBoostingClassifier(),\n",
    "          'MLPC': MLPClassifier()\n",
    "         }"
   ]
  },
  {
   "cell_type": "code",
   "execution_count": 37,
   "metadata": {
    "ExecuteTime": {
     "end_time": "2020-05-30T23:40:55.738901Z",
     "start_time": "2020-05-30T23:40:06.685531Z"
    },
    "scrolled": false
   },
   "outputs": [
    {
     "data": {
      "text/html": [
       "<div>\n",
       "<style scoped>\n",
       "    .dataframe tbody tr th:only-of-type {\n",
       "        vertical-align: middle;\n",
       "    }\n",
       "\n",
       "    .dataframe tbody tr th {\n",
       "        vertical-align: top;\n",
       "    }\n",
       "\n",
       "    .dataframe thead th {\n",
       "        text-align: right;\n",
       "    }\n",
       "</style>\n",
       "<table border=\"1\" class=\"dataframe\">\n",
       "  <thead>\n",
       "    <tr style=\"text-align: right;\">\n",
       "      <th></th>\n",
       "      <th>model</th>\n",
       "      <th>accuracy</th>\n",
       "      <th>precision</th>\n",
       "      <th>recall</th>\n",
       "      <th>f1score</th>\n",
       "      <th>specificity</th>\n",
       "    </tr>\n",
       "  </thead>\n",
       "  <tbody>\n",
       "    <tr>\n",
       "      <th>0</th>\n",
       "      <td>gnb</td>\n",
       "      <td>0.116182</td>\n",
       "      <td>0.077189</td>\n",
       "      <td>0.118202</td>\n",
       "      <td>0.090590</td>\n",
       "      <td>0.941958</td>\n",
       "    </tr>\n",
       "    <tr>\n",
       "      <th>0</th>\n",
       "      <td>logit</td>\n",
       "      <td>0.114283</td>\n",
       "      <td>0.088460</td>\n",
       "      <td>0.118162</td>\n",
       "      <td>0.086173</td>\n",
       "      <td>0.939492</td>\n",
       "    </tr>\n",
       "    <tr>\n",
       "      <th>0</th>\n",
       "      <td>knn</td>\n",
       "      <td>0.046121</td>\n",
       "      <td>0.070279</td>\n",
       "      <td>0.062141</td>\n",
       "      <td>0.055316</td>\n",
       "      <td>0.937192</td>\n",
       "    </tr>\n",
       "    <tr>\n",
       "      <th>0</th>\n",
       "      <td>decisiontree</td>\n",
       "      <td>0.094182</td>\n",
       "      <td>0.064393</td>\n",
       "      <td>0.080242</td>\n",
       "      <td>0.092873</td>\n",
       "      <td>0.937284</td>\n",
       "    </tr>\n",
       "    <tr>\n",
       "      <th>0</th>\n",
       "      <td>randomforest</td>\n",
       "      <td>0.104202</td>\n",
       "      <td>0.120941</td>\n",
       "      <td>0.092121</td>\n",
       "      <td>0.109172</td>\n",
       "      <td>0.938772</td>\n",
       "    </tr>\n",
       "    <tr>\n",
       "      <th>0</th>\n",
       "      <td>xgboost</td>\n",
       "      <td>0.112222</td>\n",
       "      <td>0.086342</td>\n",
       "      <td>0.104121</td>\n",
       "      <td>0.100297</td>\n",
       "      <td>0.937069</td>\n",
       "    </tr>\n",
       "    <tr>\n",
       "      <th>0</th>\n",
       "      <td>MLPC</td>\n",
       "      <td>0.088202</td>\n",
       "      <td>0.058612</td>\n",
       "      <td>0.078202</td>\n",
       "      <td>0.071256</td>\n",
       "      <td>0.942436</td>\n",
       "    </tr>\n",
       "  </tbody>\n",
       "</table>\n",
       "</div>"
      ],
      "text/plain": [
       "          model  accuracy  precision    recall   f1score  specificity\n",
       "0           gnb  0.116182   0.077189  0.118202  0.090590     0.941958\n",
       "0         logit  0.114283   0.088460  0.118162  0.086173     0.939492\n",
       "0           knn  0.046121   0.070279  0.062141  0.055316     0.937192\n",
       "0  decisiontree  0.094182   0.064393  0.080242  0.092873     0.937284\n",
       "0  randomforest  0.104202   0.120941  0.092121  0.109172     0.938772\n",
       "0       xgboost  0.112222   0.086342  0.104121  0.100297     0.937069\n",
       "0          MLPC  0.088202   0.058612  0.078202  0.071256     0.942436"
      ]
     },
     "execution_count": 37,
     "metadata": {},
     "output_type": "execute_result"
    }
   ],
   "source": [
    "# Evaluation of models\n",
    "models_df = pd.concat([baseline_report(model, X_train, X_test, y_train, y_test, name) for (name, model) in models.items()])\n",
    "models_df.to_csv(\"data/output_csv/models_umap_resampled.csv\")\n",
    "models_df"
   ]
  },
  {
   "cell_type": "markdown",
   "metadata": {
    "colab_type": "text",
    "id": "u4taraiHeec2"
   },
   "source": [
    "#### UMAP on TSVD"
   ]
  },
  {
   "cell_type": "markdown",
   "metadata": {},
   "source": [
    "##### original sample"
   ]
  },
  {
   "cell_type": "code",
   "execution_count": 38,
   "metadata": {
    "ExecuteTime": {
     "end_time": "2020-05-30T23:40:56.582554Z",
     "start_time": "2020-05-30T23:40:56.387184Z"
    }
   },
   "outputs": [],
   "source": [
    "result_umap_svd_types  = pd.read_csv(\"data/output_csv/result_umap_svd_types.csv\")\n",
    "result_umap_svd_types.drop([\"Unnamed: 0\"], axis=1, inplace=True)"
   ]
  },
  {
   "cell_type": "code",
   "execution_count": 39,
   "metadata": {
    "ExecuteTime": {
     "end_time": "2020-05-30T23:40:57.324255Z",
     "start_time": "2020-05-30T23:40:57.303286Z"
    }
   },
   "outputs": [
    {
     "data": {
      "text/html": [
       "<div>\n",
       "<style scoped>\n",
       "    .dataframe tbody tr th:only-of-type {\n",
       "        vertical-align: middle;\n",
       "    }\n",
       "\n",
       "    .dataframe tbody tr th {\n",
       "        vertical-align: top;\n",
       "    }\n",
       "\n",
       "    .dataframe thead th {\n",
       "        text-align: right;\n",
       "    }\n",
       "</style>\n",
       "<table border=\"1\" class=\"dataframe\">\n",
       "  <thead>\n",
       "    <tr style=\"text-align: right;\">\n",
       "      <th></th>\n",
       "      <th>type</th>\n",
       "      <th>words_per_comment</th>\n",
       "      <th>variance_of_word_counts</th>\n",
       "      <th>enfj</th>\n",
       "      <th>enfp</th>\n",
       "      <th>entj</th>\n",
       "      <th>entp</th>\n",
       "      <th>esfj</th>\n",
       "      <th>esfp</th>\n",
       "      <th>estj</th>\n",
       "      <th>...</th>\n",
       "      <th>infj</th>\n",
       "      <th>infp</th>\n",
       "      <th>intj</th>\n",
       "      <th>intp</th>\n",
       "      <th>isfj</th>\n",
       "      <th>isfp</th>\n",
       "      <th>istj</th>\n",
       "      <th>istp</th>\n",
       "      <th>0</th>\n",
       "      <th>1</th>\n",
       "    </tr>\n",
       "  </thead>\n",
       "  <tbody>\n",
       "    <tr>\n",
       "      <th>0</th>\n",
       "      <td>infj</td>\n",
       "      <td>11.12</td>\n",
       "      <td>135.2900</td>\n",
       "      <td>0</td>\n",
       "      <td>0</td>\n",
       "      <td>0</td>\n",
       "      <td>0</td>\n",
       "      <td>0</td>\n",
       "      <td>0</td>\n",
       "      <td>0</td>\n",
       "      <td>...</td>\n",
       "      <td>1</td>\n",
       "      <td>0</td>\n",
       "      <td>0</td>\n",
       "      <td>0</td>\n",
       "      <td>0</td>\n",
       "      <td>0</td>\n",
       "      <td>0</td>\n",
       "      <td>0</td>\n",
       "      <td>12.761392</td>\n",
       "      <td>3.539108</td>\n",
       "    </tr>\n",
       "    <tr>\n",
       "      <th>1</th>\n",
       "      <td>entp</td>\n",
       "      <td>23.40</td>\n",
       "      <td>187.4756</td>\n",
       "      <td>0</td>\n",
       "      <td>0</td>\n",
       "      <td>0</td>\n",
       "      <td>1</td>\n",
       "      <td>0</td>\n",
       "      <td>0</td>\n",
       "      <td>0</td>\n",
       "      <td>...</td>\n",
       "      <td>0</td>\n",
       "      <td>0</td>\n",
       "      <td>0</td>\n",
       "      <td>0</td>\n",
       "      <td>0</td>\n",
       "      <td>0</td>\n",
       "      <td>0</td>\n",
       "      <td>0</td>\n",
       "      <td>9.733282</td>\n",
       "      <td>0.578183</td>\n",
       "    </tr>\n",
       "    <tr>\n",
       "      <th>2</th>\n",
       "      <td>intp</td>\n",
       "      <td>16.72</td>\n",
       "      <td>180.6900</td>\n",
       "      <td>0</td>\n",
       "      <td>0</td>\n",
       "      <td>0</td>\n",
       "      <td>0</td>\n",
       "      <td>0</td>\n",
       "      <td>0</td>\n",
       "      <td>0</td>\n",
       "      <td>...</td>\n",
       "      <td>0</td>\n",
       "      <td>0</td>\n",
       "      <td>0</td>\n",
       "      <td>1</td>\n",
       "      <td>0</td>\n",
       "      <td>0</td>\n",
       "      <td>0</td>\n",
       "      <td>0</td>\n",
       "      <td>12.002575</td>\n",
       "      <td>4.193234</td>\n",
       "    </tr>\n",
       "    <tr>\n",
       "      <th>3</th>\n",
       "      <td>intj</td>\n",
       "      <td>21.28</td>\n",
       "      <td>181.8324</td>\n",
       "      <td>0</td>\n",
       "      <td>0</td>\n",
       "      <td>0</td>\n",
       "      <td>0</td>\n",
       "      <td>0</td>\n",
       "      <td>0</td>\n",
       "      <td>0</td>\n",
       "      <td>...</td>\n",
       "      <td>0</td>\n",
       "      <td>0</td>\n",
       "      <td>1</td>\n",
       "      <td>0</td>\n",
       "      <td>0</td>\n",
       "      <td>0</td>\n",
       "      <td>0</td>\n",
       "      <td>0</td>\n",
       "      <td>9.521256</td>\n",
       "      <td>1.823716</td>\n",
       "    </tr>\n",
       "    <tr>\n",
       "      <th>4</th>\n",
       "      <td>entj</td>\n",
       "      <td>19.34</td>\n",
       "      <td>196.4576</td>\n",
       "      <td>0</td>\n",
       "      <td>0</td>\n",
       "      <td>1</td>\n",
       "      <td>0</td>\n",
       "      <td>0</td>\n",
       "      <td>0</td>\n",
       "      <td>0</td>\n",
       "      <td>...</td>\n",
       "      <td>0</td>\n",
       "      <td>0</td>\n",
       "      <td>0</td>\n",
       "      <td>0</td>\n",
       "      <td>0</td>\n",
       "      <td>0</td>\n",
       "      <td>0</td>\n",
       "      <td>0</td>\n",
       "      <td>11.170195</td>\n",
       "      <td>0.726455</td>\n",
       "    </tr>\n",
       "  </tbody>\n",
       "</table>\n",
       "<p>5 rows × 21 columns</p>\n",
       "</div>"
      ],
      "text/plain": [
       "   type  words_per_comment  variance_of_word_counts  enfj  enfp  entj  entp  \\\n",
       "0  infj              11.12                 135.2900     0     0     0     0   \n",
       "1  entp              23.40                 187.4756     0     0     0     1   \n",
       "2  intp              16.72                 180.6900     0     0     0     0   \n",
       "3  intj              21.28                 181.8324     0     0     0     0   \n",
       "4  entj              19.34                 196.4576     0     0     1     0   \n",
       "\n",
       "   esfj  esfp  estj  ...  infj  infp  intj  intp  isfj  isfp  istj  istp  \\\n",
       "0     0     0     0  ...     1     0     0     0     0     0     0     0   \n",
       "1     0     0     0  ...     0     0     0     0     0     0     0     0   \n",
       "2     0     0     0  ...     0     0     0     1     0     0     0     0   \n",
       "3     0     0     0  ...     0     0     1     0     0     0     0     0   \n",
       "4     0     0     0  ...     0     0     0     0     0     0     0     0   \n",
       "\n",
       "           0         1  \n",
       "0  12.761392  3.539108  \n",
       "1   9.733282  0.578183  \n",
       "2  12.002575  4.193234  \n",
       "3   9.521256  1.823716  \n",
       "4  11.170195  0.726455  \n",
       "\n",
       "[5 rows x 21 columns]"
      ]
     },
     "execution_count": 39,
     "metadata": {},
     "output_type": "execute_result"
    }
   ],
   "source": [
    "result_umap_svd_types.head()"
   ]
  },
  {
   "cell_type": "code",
   "execution_count": 40,
   "metadata": {
    "ExecuteTime": {
     "end_time": "2020-05-30T23:40:58.051285Z",
     "start_time": "2020-05-30T23:40:58.045301Z"
    }
   },
   "outputs": [
    {
     "data": {
      "text/plain": [
       "(8675, 21)"
      ]
     },
     "execution_count": 40,
     "metadata": {},
     "output_type": "execute_result"
    }
   ],
   "source": [
    "result_umap_svd_types.shape"
   ]
  },
  {
   "cell_type": "code",
   "execution_count": 41,
   "metadata": {
    "ExecuteTime": {
     "end_time": "2020-05-30T23:40:58.786324Z",
     "start_time": "2020-05-30T23:40:58.780336Z"
    }
   },
   "outputs": [],
   "source": [
    "X = result_umap_svd_types.drop([\"type\",\"enfj\", \"enfp\", \"entj\", \"entp\", \"esfj\", \"esfp\", \"estj\", \"estp\",\"infj\", \"infp\", \"intj\",\n",
    "                               \"intp\", \"isfj\", \"isfp\", \"istj\", \"istp\"], axis=1).values\n",
    "y = result_umap_svd_types[\"type\"].values"
   ]
  },
  {
   "cell_type": "code",
   "execution_count": 42,
   "metadata": {
    "ExecuteTime": {
     "end_time": "2020-05-30T23:40:59.518081Z",
     "start_time": "2020-05-30T23:40:59.510102Z"
    },
    "scrolled": true
   },
   "outputs": [
    {
     "name": "stdout",
     "output_type": "stream",
     "text": [
      "(6940, 4) (6940,) (1735, 4) (1735,)\n"
     ]
    }
   ],
   "source": [
    "X_train, X_test, y_train, y_test = train_test_split(X, y, random_state=42, test_size=0.2)\n",
    "print ((X_train.shape),(y_train.shape),(X_test.shape),(y_test.shape))"
   ]
  },
  {
   "cell_type": "code",
   "execution_count": 43,
   "metadata": {
    "ExecuteTime": {
     "end_time": "2020-05-30T23:41:00.199016Z",
     "start_time": "2020-05-30T23:41:00.189046Z"
    }
   },
   "outputs": [],
   "source": [
    "def baseline_report(model, X_train, X_test, y_train, y_test, name):\n",
    "    strat_k_fold = StratifiedKFold(n_splits=5, shuffle=True)\n",
    "    model.fit(X_train, y_train)\n",
    "    accuracy     = np.mean(cross_val_score(model, X_train, y_train, cv=strat_k_fold, scoring='accuracy'))\n",
    "    precision    = np.mean(cross_val_score(model, X_train, y_train, cv=strat_k_fold, scoring='precision_weighted'))\n",
    "    recall       = np.mean(cross_val_score(model, X_train, y_train, cv=strat_k_fold, scoring='recall_weighted'))\n",
    "    f1score      = np.mean(cross_val_score(model, X_train, y_train, cv=strat_k_fold, scoring='f1_weighted'))\n",
    "    y_pred = model.predict(X_test)\n",
    "    mcm = multilabel_confusion_matrix(y_test, y_pred)\n",
    "    tn = mcm[:, 0, 0]\n",
    "    tp = mcm[:, 1, 1]\n",
    "    fn = mcm[:, 1, 0]\n",
    "    fp = mcm[:, 0, 1]\n",
    "    specificities = tn / (tn+fp)\n",
    "    specificity = (specificities.sum())/ 16\n",
    "\n",
    "    df_model = pd.DataFrame({'model'        : [name],\n",
    "                             'accuracy'     : [accuracy],\n",
    "                             'precision'    : [precision],\n",
    "                             'recall'       : [recall],\n",
    "                             'f1score'      : [f1score],\n",
    "                             'specificity': [specificity]\n",
    "                            })   \n",
    "    return df_model"
   ]
  },
  {
   "cell_type": "code",
   "execution_count": 44,
   "metadata": {
    "ExecuteTime": {
     "end_time": "2020-05-30T23:41:00.861856Z",
     "start_time": "2020-05-30T23:41:00.854848Z"
    }
   },
   "outputs": [],
   "source": [
    "models = {'gnb': GaussianNB(),\n",
    "          'logit': LogisticRegression(),\n",
    "          'knn': KNeighborsClassifier(),\n",
    "          'decisiontree': DecisionTreeClassifier(),\n",
    "          'randomforest': RandomForestClassifier(),\n",
    "          'xgboost': GradientBoostingClassifier(),\n",
    "          'MLPC': MLPClassifier()\n",
    "         }"
   ]
  },
  {
   "cell_type": "code",
   "execution_count": 45,
   "metadata": {
    "ExecuteTime": {
     "end_time": "2020-05-30T23:47:04.578477Z",
     "start_time": "2020-05-30T23:41:01.523583Z"
    },
    "scrolled": false
   },
   "outputs": [
    {
     "data": {
      "text/html": [
       "<div>\n",
       "<style scoped>\n",
       "    .dataframe tbody tr th:only-of-type {\n",
       "        vertical-align: middle;\n",
       "    }\n",
       "\n",
       "    .dataframe tbody tr th {\n",
       "        vertical-align: top;\n",
       "    }\n",
       "\n",
       "    .dataframe thead th {\n",
       "        text-align: right;\n",
       "    }\n",
       "</style>\n",
       "<table border=\"1\" class=\"dataframe\">\n",
       "  <thead>\n",
       "    <tr style=\"text-align: right;\">\n",
       "      <th></th>\n",
       "      <th>model</th>\n",
       "      <th>accuracy</th>\n",
       "      <th>precision</th>\n",
       "      <th>recall</th>\n",
       "      <th>f1score</th>\n",
       "      <th>specificity</th>\n",
       "    </tr>\n",
       "  </thead>\n",
       "  <tbody>\n",
       "    <tr>\n",
       "      <th>0</th>\n",
       "      <td>gnb</td>\n",
       "      <td>0.339049</td>\n",
       "      <td>0.270229</td>\n",
       "      <td>0.340778</td>\n",
       "      <td>0.286999</td>\n",
       "      <td>0.950001</td>\n",
       "    </tr>\n",
       "    <tr>\n",
       "      <th>0</th>\n",
       "      <td>logit</td>\n",
       "      <td>0.293084</td>\n",
       "      <td>0.224370</td>\n",
       "      <td>0.299280</td>\n",
       "      <td>0.229524</td>\n",
       "      <td>0.946228</td>\n",
       "    </tr>\n",
       "    <tr>\n",
       "      <th>0</th>\n",
       "      <td>knn</td>\n",
       "      <td>0.240634</td>\n",
       "      <td>0.230644</td>\n",
       "      <td>0.240778</td>\n",
       "      <td>0.232345</td>\n",
       "      <td>0.945984</td>\n",
       "    </tr>\n",
       "    <tr>\n",
       "      <th>0</th>\n",
       "      <td>decisiontree</td>\n",
       "      <td>0.314553</td>\n",
       "      <td>0.315976</td>\n",
       "      <td>0.318444</td>\n",
       "      <td>0.319963</td>\n",
       "      <td>0.951963</td>\n",
       "    </tr>\n",
       "    <tr>\n",
       "      <th>0</th>\n",
       "      <td>randomforest</td>\n",
       "      <td>0.422334</td>\n",
       "      <td>0.427817</td>\n",
       "      <td>0.425793</td>\n",
       "      <td>0.405750</td>\n",
       "      <td>0.957707</td>\n",
       "    </tr>\n",
       "    <tr>\n",
       "      <th>0</th>\n",
       "      <td>xgboost</td>\n",
       "      <td>0.413833</td>\n",
       "      <td>0.417326</td>\n",
       "      <td>0.410663</td>\n",
       "      <td>0.404245</td>\n",
       "      <td>0.957822</td>\n",
       "    </tr>\n",
       "    <tr>\n",
       "      <th>0</th>\n",
       "      <td>MLPC</td>\n",
       "      <td>0.281412</td>\n",
       "      <td>0.256085</td>\n",
       "      <td>0.285735</td>\n",
       "      <td>0.201371</td>\n",
       "      <td>0.943266</td>\n",
       "    </tr>\n",
       "  </tbody>\n",
       "</table>\n",
       "</div>"
      ],
      "text/plain": [
       "          model  accuracy  precision    recall   f1score  specificity\n",
       "0           gnb  0.339049   0.270229  0.340778  0.286999     0.950001\n",
       "0         logit  0.293084   0.224370  0.299280  0.229524     0.946228\n",
       "0           knn  0.240634   0.230644  0.240778  0.232345     0.945984\n",
       "0  decisiontree  0.314553   0.315976  0.318444  0.319963     0.951963\n",
       "0  randomforest  0.422334   0.427817  0.425793  0.405750     0.957707\n",
       "0       xgboost  0.413833   0.417326  0.410663  0.404245     0.957822\n",
       "0          MLPC  0.281412   0.256085  0.285735  0.201371     0.943266"
      ]
     },
     "execution_count": 45,
     "metadata": {},
     "output_type": "execute_result"
    }
   ],
   "source": [
    "# Evaluation of models\n",
    "models_df = pd.concat([baseline_report(model, X_train, X_test, y_train, y_test, name) for (name, model) in models.items()])\n",
    "models_df.to_csv(\"data/output_csv/models_umap_svd.csv\")\n",
    "models_df"
   ]
  },
  {
   "cell_type": "markdown",
   "metadata": {},
   "source": [
    "##### resampled"
   ]
  },
  {
   "cell_type": "code",
   "execution_count": 46,
   "metadata": {
    "ExecuteTime": {
     "end_time": "2020-05-30T23:47:05.273713Z",
     "start_time": "2020-05-30T23:47:05.251677Z"
    }
   },
   "outputs": [],
   "source": [
    "result_umap_svd_types  = pd.read_csv(\"data/output_csv/result_umap_svd_types.csv\")\n",
    "result_umap_svd_types.drop([\"Unnamed: 0\"], axis=1, inplace=True)"
   ]
  },
  {
   "cell_type": "code",
   "execution_count": 47,
   "metadata": {
    "ExecuteTime": {
     "end_time": "2020-05-30T23:47:05.955708Z",
     "start_time": "2020-05-30T23:47:05.934851Z"
    }
   },
   "outputs": [
    {
     "data": {
      "text/html": [
       "<div>\n",
       "<style scoped>\n",
       "    .dataframe tbody tr th:only-of-type {\n",
       "        vertical-align: middle;\n",
       "    }\n",
       "\n",
       "    .dataframe tbody tr th {\n",
       "        vertical-align: top;\n",
       "    }\n",
       "\n",
       "    .dataframe thead th {\n",
       "        text-align: right;\n",
       "    }\n",
       "</style>\n",
       "<table border=\"1\" class=\"dataframe\">\n",
       "  <thead>\n",
       "    <tr style=\"text-align: right;\">\n",
       "      <th></th>\n",
       "      <th>type</th>\n",
       "      <th>words_per_comment</th>\n",
       "      <th>variance_of_word_counts</th>\n",
       "      <th>enfj</th>\n",
       "      <th>enfp</th>\n",
       "      <th>entj</th>\n",
       "      <th>entp</th>\n",
       "      <th>esfj</th>\n",
       "      <th>esfp</th>\n",
       "      <th>estj</th>\n",
       "      <th>...</th>\n",
       "      <th>infj</th>\n",
       "      <th>infp</th>\n",
       "      <th>intj</th>\n",
       "      <th>intp</th>\n",
       "      <th>isfj</th>\n",
       "      <th>isfp</th>\n",
       "      <th>istj</th>\n",
       "      <th>istp</th>\n",
       "      <th>0</th>\n",
       "      <th>1</th>\n",
       "    </tr>\n",
       "  </thead>\n",
       "  <tbody>\n",
       "    <tr>\n",
       "      <th>0</th>\n",
       "      <td>infj</td>\n",
       "      <td>11.12</td>\n",
       "      <td>135.2900</td>\n",
       "      <td>0</td>\n",
       "      <td>0</td>\n",
       "      <td>0</td>\n",
       "      <td>0</td>\n",
       "      <td>0</td>\n",
       "      <td>0</td>\n",
       "      <td>0</td>\n",
       "      <td>...</td>\n",
       "      <td>1</td>\n",
       "      <td>0</td>\n",
       "      <td>0</td>\n",
       "      <td>0</td>\n",
       "      <td>0</td>\n",
       "      <td>0</td>\n",
       "      <td>0</td>\n",
       "      <td>0</td>\n",
       "      <td>12.761392</td>\n",
       "      <td>3.539108</td>\n",
       "    </tr>\n",
       "    <tr>\n",
       "      <th>1</th>\n",
       "      <td>entp</td>\n",
       "      <td>23.40</td>\n",
       "      <td>187.4756</td>\n",
       "      <td>0</td>\n",
       "      <td>0</td>\n",
       "      <td>0</td>\n",
       "      <td>1</td>\n",
       "      <td>0</td>\n",
       "      <td>0</td>\n",
       "      <td>0</td>\n",
       "      <td>...</td>\n",
       "      <td>0</td>\n",
       "      <td>0</td>\n",
       "      <td>0</td>\n",
       "      <td>0</td>\n",
       "      <td>0</td>\n",
       "      <td>0</td>\n",
       "      <td>0</td>\n",
       "      <td>0</td>\n",
       "      <td>9.733282</td>\n",
       "      <td>0.578183</td>\n",
       "    </tr>\n",
       "    <tr>\n",
       "      <th>2</th>\n",
       "      <td>intp</td>\n",
       "      <td>16.72</td>\n",
       "      <td>180.6900</td>\n",
       "      <td>0</td>\n",
       "      <td>0</td>\n",
       "      <td>0</td>\n",
       "      <td>0</td>\n",
       "      <td>0</td>\n",
       "      <td>0</td>\n",
       "      <td>0</td>\n",
       "      <td>...</td>\n",
       "      <td>0</td>\n",
       "      <td>0</td>\n",
       "      <td>0</td>\n",
       "      <td>1</td>\n",
       "      <td>0</td>\n",
       "      <td>0</td>\n",
       "      <td>0</td>\n",
       "      <td>0</td>\n",
       "      <td>12.002575</td>\n",
       "      <td>4.193234</td>\n",
       "    </tr>\n",
       "    <tr>\n",
       "      <th>3</th>\n",
       "      <td>intj</td>\n",
       "      <td>21.28</td>\n",
       "      <td>181.8324</td>\n",
       "      <td>0</td>\n",
       "      <td>0</td>\n",
       "      <td>0</td>\n",
       "      <td>0</td>\n",
       "      <td>0</td>\n",
       "      <td>0</td>\n",
       "      <td>0</td>\n",
       "      <td>...</td>\n",
       "      <td>0</td>\n",
       "      <td>0</td>\n",
       "      <td>1</td>\n",
       "      <td>0</td>\n",
       "      <td>0</td>\n",
       "      <td>0</td>\n",
       "      <td>0</td>\n",
       "      <td>0</td>\n",
       "      <td>9.521256</td>\n",
       "      <td>1.823716</td>\n",
       "    </tr>\n",
       "    <tr>\n",
       "      <th>4</th>\n",
       "      <td>entj</td>\n",
       "      <td>19.34</td>\n",
       "      <td>196.4576</td>\n",
       "      <td>0</td>\n",
       "      <td>0</td>\n",
       "      <td>1</td>\n",
       "      <td>0</td>\n",
       "      <td>0</td>\n",
       "      <td>0</td>\n",
       "      <td>0</td>\n",
       "      <td>...</td>\n",
       "      <td>0</td>\n",
       "      <td>0</td>\n",
       "      <td>0</td>\n",
       "      <td>0</td>\n",
       "      <td>0</td>\n",
       "      <td>0</td>\n",
       "      <td>0</td>\n",
       "      <td>0</td>\n",
       "      <td>11.170195</td>\n",
       "      <td>0.726455</td>\n",
       "    </tr>\n",
       "  </tbody>\n",
       "</table>\n",
       "<p>5 rows × 21 columns</p>\n",
       "</div>"
      ],
      "text/plain": [
       "   type  words_per_comment  variance_of_word_counts  enfj  enfp  entj  entp  \\\n",
       "0  infj              11.12                 135.2900     0     0     0     0   \n",
       "1  entp              23.40                 187.4756     0     0     0     1   \n",
       "2  intp              16.72                 180.6900     0     0     0     0   \n",
       "3  intj              21.28                 181.8324     0     0     0     0   \n",
       "4  entj              19.34                 196.4576     0     0     1     0   \n",
       "\n",
       "   esfj  esfp  estj  ...  infj  infp  intj  intp  isfj  isfp  istj  istp  \\\n",
       "0     0     0     0  ...     1     0     0     0     0     0     0     0   \n",
       "1     0     0     0  ...     0     0     0     0     0     0     0     0   \n",
       "2     0     0     0  ...     0     0     0     1     0     0     0     0   \n",
       "3     0     0     0  ...     0     0     1     0     0     0     0     0   \n",
       "4     0     0     0  ...     0     0     0     0     0     0     0     0   \n",
       "\n",
       "           0         1  \n",
       "0  12.761392  3.539108  \n",
       "1   9.733282  0.578183  \n",
       "2  12.002575  4.193234  \n",
       "3   9.521256  1.823716  \n",
       "4  11.170195  0.726455  \n",
       "\n",
       "[5 rows x 21 columns]"
      ]
     },
     "execution_count": 47,
     "metadata": {},
     "output_type": "execute_result"
    }
   ],
   "source": [
    "result_umap_svd_types.head()"
   ]
  },
  {
   "cell_type": "code",
   "execution_count": 48,
   "metadata": {
    "ExecuteTime": {
     "end_time": "2020-05-30T23:47:06.616907Z",
     "start_time": "2020-05-30T23:47:06.610929Z"
    }
   },
   "outputs": [
    {
     "data": {
      "text/plain": [
       "(8675, 21)"
      ]
     },
     "execution_count": 48,
     "metadata": {},
     "output_type": "execute_result"
    }
   ],
   "source": [
    "result_umap_svd_types.shape"
   ]
  },
  {
   "cell_type": "code",
   "execution_count": 49,
   "metadata": {
    "ExecuteTime": {
     "end_time": "2020-05-30T23:47:07.323020Z",
     "start_time": "2020-05-30T23:47:07.296092Z"
    }
   },
   "outputs": [],
   "source": [
    "def sampling_k_elements(group, k=39):\n",
    "    if len(group) < k:\n",
    "        return group\n",
    "    return group.sample(k)\n",
    "\n",
    "balanced_umap_svd = result_umap_svd_types.groupby(\"type\").apply(sampling_k_elements).reset_index(drop=True)"
   ]
  },
  {
   "cell_type": "code",
   "execution_count": 50,
   "metadata": {
    "ExecuteTime": {
     "end_time": "2020-05-30T23:47:08.073015Z",
     "start_time": "2020-05-30T23:47:08.067031Z"
    }
   },
   "outputs": [],
   "source": [
    "X = balanced_umap_svd.drop([\"type\",\"enfj\", \"enfp\", \"entj\", \"entp\", \"esfj\", \"esfp\", \"estj\", \"estp\",\"infj\", \"infp\", \"intj\",\n",
    "                               \"intp\", \"isfj\", \"isfp\", \"istj\", \"istp\"], axis=1).values\n",
    "y = balanced_umap_svd[\"type\"].values"
   ]
  },
  {
   "cell_type": "code",
   "execution_count": 51,
   "metadata": {
    "ExecuteTime": {
     "end_time": "2020-05-30T23:47:08.844029Z",
     "start_time": "2020-05-30T23:47:08.837049Z"
    },
    "scrolled": true
   },
   "outputs": [
    {
     "name": "stdout",
     "output_type": "stream",
     "text": [
      "(499, 4) (499,) (125, 4) (125,)\n"
     ]
    }
   ],
   "source": [
    "X_train, X_test, y_train, y_test = train_test_split(X, y, random_state=42, test_size=0.2)\n",
    "print ((X_train.shape),(y_train.shape),(X_test.shape),(y_test.shape))"
   ]
  },
  {
   "cell_type": "code",
   "execution_count": 52,
   "metadata": {
    "ExecuteTime": {
     "end_time": "2020-05-30T23:47:09.661191Z",
     "start_time": "2020-05-30T23:47:09.652215Z"
    }
   },
   "outputs": [],
   "source": [
    "def baseline_report(model, X_train, X_test, y_train, y_test, name):\n",
    "    strat_k_fold = StratifiedKFold(n_splits=5, shuffle=True)\n",
    "    model.fit(X_train, y_train)\n",
    "    accuracy     = np.mean(cross_val_score(model, X_train, y_train, cv=strat_k_fold, scoring='accuracy'))\n",
    "    precision    = np.mean(cross_val_score(model, X_train, y_train, cv=strat_k_fold, scoring='precision_weighted'))\n",
    "    recall       = np.mean(cross_val_score(model, X_train, y_train, cv=strat_k_fold, scoring='recall_weighted'))\n",
    "    f1score      = np.mean(cross_val_score(model, X_train, y_train, cv=strat_k_fold, scoring='f1_weighted'))\n",
    "    y_pred = model.predict(X_test)\n",
    "    mcm = multilabel_confusion_matrix(y_test, y_pred)\n",
    "    tn = mcm[:, 0, 0]\n",
    "    tp = mcm[:, 1, 1]\n",
    "    fn = mcm[:, 1, 0]\n",
    "    fp = mcm[:, 0, 1]\n",
    "    specificities = tn / (tn+fp)\n",
    "    specificity = (specificities.sum())/ 16\n",
    "\n",
    "    df_model = pd.DataFrame({'model'        : [name],\n",
    "                             'accuracy'     : [accuracy],\n",
    "                             'precision'    : [precision],\n",
    "                             'recall'       : [recall],\n",
    "                             'f1score'      : [f1score],\n",
    "                             'specificity': [specificity]\n",
    "                            })   \n",
    "    return df_model"
   ]
  },
  {
   "cell_type": "code",
   "execution_count": 53,
   "metadata": {
    "ExecuteTime": {
     "end_time": "2020-05-30T23:47:10.488977Z",
     "start_time": "2020-05-30T23:47:10.471034Z"
    }
   },
   "outputs": [],
   "source": [
    "models = {'gnb': GaussianNB(),\n",
    "          'logit': LogisticRegression(),\n",
    "          'knn': KNeighborsClassifier(),\n",
    "          'decisiontree': DecisionTreeClassifier(),\n",
    "          'randomforest': RandomForestClassifier(),\n",
    "          'xgboost': GradientBoostingClassifier(),\n",
    "          'MLPC': MLPClassifier()\n",
    "         }"
   ]
  },
  {
   "cell_type": "code",
   "execution_count": 54,
   "metadata": {
    "ExecuteTime": {
     "end_time": "2020-05-30T23:47:59.503115Z",
     "start_time": "2020-05-30T23:47:11.293826Z"
    },
    "scrolled": false
   },
   "outputs": [
    {
     "data": {
      "text/html": [
       "<div>\n",
       "<style scoped>\n",
       "    .dataframe tbody tr th:only-of-type {\n",
       "        vertical-align: middle;\n",
       "    }\n",
       "\n",
       "    .dataframe tbody tr th {\n",
       "        vertical-align: top;\n",
       "    }\n",
       "\n",
       "    .dataframe thead th {\n",
       "        text-align: right;\n",
       "    }\n",
       "</style>\n",
       "<table border=\"1\" class=\"dataframe\">\n",
       "  <thead>\n",
       "    <tr style=\"text-align: right;\">\n",
       "      <th></th>\n",
       "      <th>model</th>\n",
       "      <th>accuracy</th>\n",
       "      <th>precision</th>\n",
       "      <th>recall</th>\n",
       "      <th>f1score</th>\n",
       "      <th>specificity</th>\n",
       "    </tr>\n",
       "  </thead>\n",
       "  <tbody>\n",
       "    <tr>\n",
       "      <th>0</th>\n",
       "      <td>gnb</td>\n",
       "      <td>0.156444</td>\n",
       "      <td>0.130570</td>\n",
       "      <td>0.150404</td>\n",
       "      <td>0.132592</td>\n",
       "      <td>0.939869</td>\n",
       "    </tr>\n",
       "    <tr>\n",
       "      <th>0</th>\n",
       "      <td>logit</td>\n",
       "      <td>0.120202</td>\n",
       "      <td>0.122049</td>\n",
       "      <td>0.104202</td>\n",
       "      <td>0.081437</td>\n",
       "      <td>0.940397</td>\n",
       "    </tr>\n",
       "    <tr>\n",
       "      <th>0</th>\n",
       "      <td>knn</td>\n",
       "      <td>0.102162</td>\n",
       "      <td>0.106539</td>\n",
       "      <td>0.084202</td>\n",
       "      <td>0.062824</td>\n",
       "      <td>0.938562</td>\n",
       "    </tr>\n",
       "    <tr>\n",
       "      <th>0</th>\n",
       "      <td>decisiontree</td>\n",
       "      <td>0.218384</td>\n",
       "      <td>0.265145</td>\n",
       "      <td>0.220444</td>\n",
       "      <td>0.221238</td>\n",
       "      <td>0.947618</td>\n",
       "    </tr>\n",
       "    <tr>\n",
       "      <th>0</th>\n",
       "      <td>randomforest</td>\n",
       "      <td>0.282606</td>\n",
       "      <td>0.292066</td>\n",
       "      <td>0.282545</td>\n",
       "      <td>0.294965</td>\n",
       "      <td>0.950609</td>\n",
       "    </tr>\n",
       "    <tr>\n",
       "      <th>0</th>\n",
       "      <td>xgboost</td>\n",
       "      <td>0.256465</td>\n",
       "      <td>0.268333</td>\n",
       "      <td>0.266505</td>\n",
       "      <td>0.249536</td>\n",
       "      <td>0.949004</td>\n",
       "    </tr>\n",
       "    <tr>\n",
       "      <th>0</th>\n",
       "      <td>MLPC</td>\n",
       "      <td>0.124222</td>\n",
       "      <td>0.107258</td>\n",
       "      <td>0.134263</td>\n",
       "      <td>0.104470</td>\n",
       "      <td>0.938578</td>\n",
       "    </tr>\n",
       "  </tbody>\n",
       "</table>\n",
       "</div>"
      ],
      "text/plain": [
       "          model  accuracy  precision    recall   f1score  specificity\n",
       "0           gnb  0.156444   0.130570  0.150404  0.132592     0.939869\n",
       "0         logit  0.120202   0.122049  0.104202  0.081437     0.940397\n",
       "0           knn  0.102162   0.106539  0.084202  0.062824     0.938562\n",
       "0  decisiontree  0.218384   0.265145  0.220444  0.221238     0.947618\n",
       "0  randomforest  0.282606   0.292066  0.282545  0.294965     0.950609\n",
       "0       xgboost  0.256465   0.268333  0.266505  0.249536     0.949004\n",
       "0          MLPC  0.124222   0.107258  0.134263  0.104470     0.938578"
      ]
     },
     "execution_count": 54,
     "metadata": {},
     "output_type": "execute_result"
    }
   ],
   "source": [
    "# Evaluation of models\n",
    "models_df = pd.concat([baseline_report(model, X_train, X_test, y_train, y_test, name) for (name, model) in models.items()])\n",
    "models_df.to_csv(\"data/output_csv/models_umap_svd_resampled.csv\")\n",
    "models_df"
   ]
  },
  {
   "cell_type": "markdown",
   "metadata": {},
   "source": [
    "### Using dimensions"
   ]
  },
  {
   "cell_type": "markdown",
   "metadata": {},
   "source": [
    "Before proceeding further to Deep Learning methods and fine tuning of the models previously evalueted, we will try training the models on each 4 dimensions using the methods and sample that worked better."
   ]
  },
  {
   "cell_type": "markdown",
   "metadata": {
    "ExecuteTime": {
     "end_time": "2020-05-28T13:21:39.942592Z",
     "start_time": "2020-05-28T13:21:39.939887Z"
    }
   },
   "source": [
    "#### Truncated SVD with the original sample"
   ]
  },
  {
   "cell_type": "code",
   "execution_count": 55,
   "metadata": {
    "ExecuteTime": {
     "end_time": "2020-05-30T23:48:00.524449Z",
     "start_time": "2020-05-30T23:48:00.315942Z"
    }
   },
   "outputs": [],
   "source": [
    "result_svd_vec_dimensions  = pd.read_csv(\"data/output_csv/result_svd_vec_dimensions.csv\")\n",
    "result_svd_vec_dimensions.drop([\"Unnamed: 0\"], axis=1, inplace=True)"
   ]
  },
  {
   "cell_type": "code",
   "execution_count": 56,
   "metadata": {
    "ExecuteTime": {
     "end_time": "2020-05-30T23:48:01.461822Z",
     "start_time": "2020-05-30T23:48:01.438925Z"
    }
   },
   "outputs": [
    {
     "data": {
      "text/html": [
       "<div>\n",
       "<style scoped>\n",
       "    .dataframe tbody tr th:only-of-type {\n",
       "        vertical-align: middle;\n",
       "    }\n",
       "\n",
       "    .dataframe tbody tr th {\n",
       "        vertical-align: top;\n",
       "    }\n",
       "\n",
       "    .dataframe thead th {\n",
       "        text-align: right;\n",
       "    }\n",
       "</style>\n",
       "<table border=\"1\" class=\"dataframe\">\n",
       "  <thead>\n",
       "    <tr style=\"text-align: right;\">\n",
       "      <th></th>\n",
       "      <th>type</th>\n",
       "      <th>words_per_comment</th>\n",
       "      <th>variance_of_word_counts</th>\n",
       "      <th>i-e</th>\n",
       "      <th>n-s</th>\n",
       "      <th>t-f</th>\n",
       "      <th>j-p</th>\n",
       "      <th>0</th>\n",
       "      <th>1</th>\n",
       "      <th>2</th>\n",
       "      <th>...</th>\n",
       "      <th>90</th>\n",
       "      <th>91</th>\n",
       "      <th>92</th>\n",
       "      <th>93</th>\n",
       "      <th>94</th>\n",
       "      <th>95</th>\n",
       "      <th>96</th>\n",
       "      <th>97</th>\n",
       "      <th>98</th>\n",
       "      <th>99</th>\n",
       "    </tr>\n",
       "  </thead>\n",
       "  <tbody>\n",
       "    <tr>\n",
       "      <th>0</th>\n",
       "      <td>infj</td>\n",
       "      <td>11.12</td>\n",
       "      <td>135.2900</td>\n",
       "      <td>0</td>\n",
       "      <td>0</td>\n",
       "      <td>1</td>\n",
       "      <td>0</td>\n",
       "      <td>0.575864</td>\n",
       "      <td>0.341900</td>\n",
       "      <td>0.330206</td>\n",
       "      <td>...</td>\n",
       "      <td>0.343928</td>\n",
       "      <td>0.360159</td>\n",
       "      <td>0.358680</td>\n",
       "      <td>0.351273</td>\n",
       "      <td>0.402498</td>\n",
       "      <td>0.357498</td>\n",
       "      <td>0.376758</td>\n",
       "      <td>0.379303</td>\n",
       "      <td>0.367843</td>\n",
       "      <td>0.375516</td>\n",
       "    </tr>\n",
       "    <tr>\n",
       "      <th>1</th>\n",
       "      <td>entp</td>\n",
       "      <td>23.40</td>\n",
       "      <td>187.4756</td>\n",
       "      <td>1</td>\n",
       "      <td>0</td>\n",
       "      <td>0</td>\n",
       "      <td>1</td>\n",
       "      <td>0.668875</td>\n",
       "      <td>0.391520</td>\n",
       "      <td>0.354378</td>\n",
       "      <td>...</td>\n",
       "      <td>0.351512</td>\n",
       "      <td>0.375683</td>\n",
       "      <td>0.352008</td>\n",
       "      <td>0.356475</td>\n",
       "      <td>0.332874</td>\n",
       "      <td>0.386907</td>\n",
       "      <td>0.356917</td>\n",
       "      <td>0.354533</td>\n",
       "      <td>0.377601</td>\n",
       "      <td>0.337164</td>\n",
       "    </tr>\n",
       "    <tr>\n",
       "      <th>2</th>\n",
       "      <td>intp</td>\n",
       "      <td>16.72</td>\n",
       "      <td>180.6900</td>\n",
       "      <td>0</td>\n",
       "      <td>0</td>\n",
       "      <td>0</td>\n",
       "      <td>1</td>\n",
       "      <td>0.632933</td>\n",
       "      <td>0.323963</td>\n",
       "      <td>0.318553</td>\n",
       "      <td>...</td>\n",
       "      <td>0.332374</td>\n",
       "      <td>0.354798</td>\n",
       "      <td>0.362468</td>\n",
       "      <td>0.352909</td>\n",
       "      <td>0.367732</td>\n",
       "      <td>0.342600</td>\n",
       "      <td>0.336408</td>\n",
       "      <td>0.357758</td>\n",
       "      <td>0.344202</td>\n",
       "      <td>0.391195</td>\n",
       "    </tr>\n",
       "    <tr>\n",
       "      <th>3</th>\n",
       "      <td>intj</td>\n",
       "      <td>21.28</td>\n",
       "      <td>181.8324</td>\n",
       "      <td>0</td>\n",
       "      <td>0</td>\n",
       "      <td>0</td>\n",
       "      <td>0</td>\n",
       "      <td>0.678780</td>\n",
       "      <td>0.478042</td>\n",
       "      <td>0.341578</td>\n",
       "      <td>...</td>\n",
       "      <td>0.370720</td>\n",
       "      <td>0.335693</td>\n",
       "      <td>0.393478</td>\n",
       "      <td>0.349815</td>\n",
       "      <td>0.373543</td>\n",
       "      <td>0.380157</td>\n",
       "      <td>0.381040</td>\n",
       "      <td>0.335247</td>\n",
       "      <td>0.360196</td>\n",
       "      <td>0.377249</td>\n",
       "    </tr>\n",
       "    <tr>\n",
       "      <th>4</th>\n",
       "      <td>entj</td>\n",
       "      <td>19.34</td>\n",
       "      <td>196.4576</td>\n",
       "      <td>1</td>\n",
       "      <td>0</td>\n",
       "      <td>0</td>\n",
       "      <td>0</td>\n",
       "      <td>0.632917</td>\n",
       "      <td>0.335554</td>\n",
       "      <td>0.338666</td>\n",
       "      <td>...</td>\n",
       "      <td>0.337362</td>\n",
       "      <td>0.363822</td>\n",
       "      <td>0.328088</td>\n",
       "      <td>0.336720</td>\n",
       "      <td>0.373329</td>\n",
       "      <td>0.376424</td>\n",
       "      <td>0.356934</td>\n",
       "      <td>0.367272</td>\n",
       "      <td>0.333998</td>\n",
       "      <td>0.381967</td>\n",
       "    </tr>\n",
       "  </tbody>\n",
       "</table>\n",
       "<p>5 rows × 107 columns</p>\n",
       "</div>"
      ],
      "text/plain": [
       "   type  words_per_comment  variance_of_word_counts  i-e  n-s  t-f  j-p  \\\n",
       "0  infj              11.12                 135.2900    0    0    1    0   \n",
       "1  entp              23.40                 187.4756    1    0    0    1   \n",
       "2  intp              16.72                 180.6900    0    0    0    1   \n",
       "3  intj              21.28                 181.8324    0    0    0    0   \n",
       "4  entj              19.34                 196.4576    1    0    0    0   \n",
       "\n",
       "          0         1         2  ...        90        91        92        93  \\\n",
       "0  0.575864  0.341900  0.330206  ...  0.343928  0.360159  0.358680  0.351273   \n",
       "1  0.668875  0.391520  0.354378  ...  0.351512  0.375683  0.352008  0.356475   \n",
       "2  0.632933  0.323963  0.318553  ...  0.332374  0.354798  0.362468  0.352909   \n",
       "3  0.678780  0.478042  0.341578  ...  0.370720  0.335693  0.393478  0.349815   \n",
       "4  0.632917  0.335554  0.338666  ...  0.337362  0.363822  0.328088  0.336720   \n",
       "\n",
       "         94        95        96        97        98        99  \n",
       "0  0.402498  0.357498  0.376758  0.379303  0.367843  0.375516  \n",
       "1  0.332874  0.386907  0.356917  0.354533  0.377601  0.337164  \n",
       "2  0.367732  0.342600  0.336408  0.357758  0.344202  0.391195  \n",
       "3  0.373543  0.380157  0.381040  0.335247  0.360196  0.377249  \n",
       "4  0.373329  0.376424  0.356934  0.367272  0.333998  0.381967  \n",
       "\n",
       "[5 rows x 107 columns]"
      ]
     },
     "execution_count": 56,
     "metadata": {},
     "output_type": "execute_result"
    }
   ],
   "source": [
    "result_svd_vec_dimensions.head()"
   ]
  },
  {
   "cell_type": "code",
   "execution_count": 57,
   "metadata": {
    "ExecuteTime": {
     "end_time": "2020-05-30T23:48:02.387373Z",
     "start_time": "2020-05-30T23:48:02.382359Z"
    }
   },
   "outputs": [
    {
     "data": {
      "text/plain": [
       "(8675, 107)"
      ]
     },
     "execution_count": 57,
     "metadata": {},
     "output_type": "execute_result"
    }
   ],
   "source": [
    "result_svd_vec_dimensions.shape"
   ]
  },
  {
   "cell_type": "markdown",
   "metadata": {},
   "source": [
    "##### Introversion (I) – Extroversion (E)"
   ]
  },
  {
   "cell_type": "code",
   "execution_count": 87,
   "metadata": {
    "ExecuteTime": {
     "end_time": "2020-05-31T06:42:26.696125Z",
     "start_time": "2020-05-31T06:42:26.686152Z"
    }
   },
   "outputs": [],
   "source": [
    "X = result_svd_vec_dimensions.drop([\"type\",\"i-e\", \"n-s\", \"t-f\", \"j-p\"], axis=1).values\n",
    "y = result_svd_vec_dimensions[\"i-e\"].values"
   ]
  },
  {
   "cell_type": "code",
   "execution_count": 88,
   "metadata": {
    "ExecuteTime": {
     "end_time": "2020-05-31T06:42:27.572782Z",
     "start_time": "2020-05-31T06:42:27.556824Z"
    },
    "scrolled": true
   },
   "outputs": [
    {
     "name": "stdout",
     "output_type": "stream",
     "text": [
      "(6940, 102) (6940,) (1735, 102) (1735,)\n"
     ]
    }
   ],
   "source": [
    "X_train, X_test, y_train, y_test = train_test_split(X, y, random_state=42, test_size=0.2)\n",
    "print ((X_train.shape),(y_train.shape),(X_test.shape),(y_test.shape))"
   ]
  },
  {
   "cell_type": "code",
   "execution_count": 60,
   "metadata": {
    "ExecuteTime": {
     "end_time": "2020-05-30T23:48:05.156746Z",
     "start_time": "2020-05-30T23:48:05.148767Z"
    }
   },
   "outputs": [],
   "source": [
    "def baseline_report(model, X_train, X_test, y_train, y_test, name):\n",
    "    strat_k_fold = StratifiedKFold(n_splits=5, shuffle=True)\n",
    "    model.fit(X_train, y_train)\n",
    "    accuracy     = np.mean(cross_val_score(model, X_train, y_train, cv=strat_k_fold, scoring='accuracy'))\n",
    "    precision    = np.mean(cross_val_score(model, X_train, y_train, cv=strat_k_fold, scoring='precision_weighted'))\n",
    "    recall       = np.mean(cross_val_score(model, X_train, y_train, cv=strat_k_fold, scoring='recall_weighted'))\n",
    "    f1score      = np.mean(cross_val_score(model, X_train, y_train, cv=strat_k_fold, scoring='f1_weighted'))\n",
    "    y_pred = model.predict(X_test)\n",
    "    tn, fp, fn, tp = confusion_matrix(y_pred, y_test).ravel()\n",
    "    specificity = tn / (tn+fp)\n",
    "\n",
    "    df_model = pd.DataFrame({'model'        : [name],\n",
    "                             'accuracy'     : [accuracy],\n",
    "                             'precision'    : [precision],\n",
    "                             'recall'       : [recall],\n",
    "                             'f1score'      : [f1score],\n",
    "                             'specificity'  : [specificity]\n",
    "                            })   \n",
    "    return df_model"
   ]
  },
  {
   "cell_type": "code",
   "execution_count": 61,
   "metadata": {
    "ExecuteTime": {
     "end_time": "2020-05-30T23:48:06.027419Z",
     "start_time": "2020-05-30T23:48:06.020437Z"
    }
   },
   "outputs": [],
   "source": [
    "models = {'gnb': GaussianNB(),\n",
    "          'randomforest': RandomForestClassifier(),\n",
    "          'xgboost': GradientBoostingClassifier(),\n",
    "          'MLPC': MLPClassifier()\n",
    "         }"
   ]
  },
  {
   "cell_type": "code",
   "execution_count": 62,
   "metadata": {
    "ExecuteTime": {
     "end_time": "2020-05-30T23:57:54.809477Z",
     "start_time": "2020-05-30T23:48:06.930005Z"
    }
   },
   "outputs": [
    {
     "data": {
      "text/html": [
       "<div>\n",
       "<style scoped>\n",
       "    .dataframe tbody tr th:only-of-type {\n",
       "        vertical-align: middle;\n",
       "    }\n",
       "\n",
       "    .dataframe tbody tr th {\n",
       "        vertical-align: top;\n",
       "    }\n",
       "\n",
       "    .dataframe thead th {\n",
       "        text-align: right;\n",
       "    }\n",
       "</style>\n",
       "<table border=\"1\" class=\"dataframe\">\n",
       "  <thead>\n",
       "    <tr style=\"text-align: right;\">\n",
       "      <th></th>\n",
       "      <th>model</th>\n",
       "      <th>accuracy</th>\n",
       "      <th>precision</th>\n",
       "      <th>recall</th>\n",
       "      <th>f1score</th>\n",
       "      <th>specificity</th>\n",
       "    </tr>\n",
       "  </thead>\n",
       "  <tbody>\n",
       "    <tr>\n",
       "      <th>0</th>\n",
       "      <td>gnb</td>\n",
       "      <td>0.774784</td>\n",
       "      <td>0.767974</td>\n",
       "      <td>0.773919</td>\n",
       "      <td>0.770990</td>\n",
       "      <td>0.859971</td>\n",
       "    </tr>\n",
       "    <tr>\n",
       "      <th>0</th>\n",
       "      <td>randomforest</td>\n",
       "      <td>0.829107</td>\n",
       "      <td>0.829767</td>\n",
       "      <td>0.827522</td>\n",
       "      <td>0.798421</td>\n",
       "      <td>0.845321</td>\n",
       "    </tr>\n",
       "    <tr>\n",
       "      <th>0</th>\n",
       "      <td>xgboost</td>\n",
       "      <td>0.848271</td>\n",
       "      <td>0.847998</td>\n",
       "      <td>0.853746</td>\n",
       "      <td>0.835934</td>\n",
       "      <td>0.872155</td>\n",
       "    </tr>\n",
       "    <tr>\n",
       "      <th>0</th>\n",
       "      <td>MLPC</td>\n",
       "      <td>0.826225</td>\n",
       "      <td>0.828161</td>\n",
       "      <td>0.835735</td>\n",
       "      <td>0.833699</td>\n",
       "      <td>0.895565</td>\n",
       "    </tr>\n",
       "  </tbody>\n",
       "</table>\n",
       "</div>"
      ],
      "text/plain": [
       "          model  accuracy  precision    recall   f1score  specificity\n",
       "0           gnb  0.774784   0.767974  0.773919  0.770990     0.859971\n",
       "0  randomforest  0.829107   0.829767  0.827522  0.798421     0.845321\n",
       "0       xgboost  0.848271   0.847998  0.853746  0.835934     0.872155\n",
       "0          MLPC  0.826225   0.828161  0.835735  0.833699     0.895565"
      ]
     },
     "execution_count": 62,
     "metadata": {},
     "output_type": "execute_result"
    }
   ],
   "source": [
    "# Evaluation of models\n",
    "models_df = pd.concat([baseline_report(model, X_train, X_test, y_train, y_test, name) for (name, model) in models.items()])\n",
    "models_df.to_csv(\"data/output_csv/models_i-e.csv\")\n",
    "models_df"
   ]
  },
  {
   "cell_type": "markdown",
   "metadata": {},
   "source": [
    "###### Feature importance"
   ]
  },
  {
   "cell_type": "code",
   "execution_count": 89,
   "metadata": {
    "ExecuteTime": {
     "end_time": "2020-05-31T06:44:03.162712Z",
     "start_time": "2020-05-31T06:43:41.534350Z"
    }
   },
   "outputs": [
    {
     "data": {
      "image/png": "[encoded data removed]",
      "text/plain": [
       "<Figure size 720x1440 with 1 Axes>"
      ]
     },
     "metadata": {},
     "output_type": "display_data"
    }
   ],
   "source": [
    "xgboost = GradientBoostingClassifier().fit(X_train, y_train)\n",
    "\n",
    "fig, ax = plt.subplots(figsize=(10,20))\n",
    "viz = FeatureImportances(xgboost)\n",
    "viz.fit(X, y)\n",
    "viz.show(outpath=\"images/output_images/feature_importance_i-e.png\")\n",
    "sns.set_context(\"talk\")\n",
    "plt.show()"
   ]
  },
  {
   "cell_type": "markdown",
   "metadata": {},
   "source": [
    "##### Intuition (N) – Sensing (S)"
   ]
  },
  {
   "cell_type": "code",
   "execution_count": 90,
   "metadata": {
    "ExecuteTime": {
     "end_time": "2020-05-31T06:42:50.913160Z",
     "start_time": "2020-05-31T06:42:50.902190Z"
    }
   },
   "outputs": [],
   "source": [
    "X = result_svd_vec_dimensions.drop([\"type\",\"i-e\", \"n-s\", \"t-f\", \"j-p\"], axis=1).values\n",
    "y = result_svd_vec_dimensions[\"n-s\"].values"
   ]
  },
  {
   "cell_type": "code",
   "execution_count": 91,
   "metadata": {
    "ExecuteTime": {
     "end_time": "2020-05-31T06:42:51.798439Z",
     "start_time": "2020-05-31T06:42:51.782836Z"
    },
    "scrolled": true
   },
   "outputs": [
    {
     "name": "stdout",
     "output_type": "stream",
     "text": [
      "(6940, 102) (6940,) (1735, 102) (1735,)\n"
     ]
    }
   ],
   "source": [
    "X_train, X_test, y_train, y_test = train_test_split(X, y, random_state=42, test_size=0.2)\n",
    "print ((X_train.shape),(y_train.shape),(X_test.shape),(y_test.shape))"
   ]
  },
  {
   "cell_type": "code",
   "execution_count": 66,
   "metadata": {
    "ExecuteTime": {
     "end_time": "2020-05-30T23:58:20.181396Z",
     "start_time": "2020-05-30T23:58:20.153471Z"
    }
   },
   "outputs": [],
   "source": [
    "def baseline_report(model, X_train, X_test, y_train, y_test, name):\n",
    "    strat_k_fold = StratifiedKFold(n_splits=5, shuffle=True)\n",
    "    model.fit(X_train, y_train)\n",
    "    accuracy     = np.mean(cross_val_score(model, X_train, y_train, cv=strat_k_fold, scoring='accuracy'))\n",
    "    precision    = np.mean(cross_val_score(model, X_train, y_train, cv=strat_k_fold, scoring='precision_weighted'))\n",
    "    recall       = np.mean(cross_val_score(model, X_train, y_train, cv=strat_k_fold, scoring='recall_weighted'))\n",
    "    f1score      = np.mean(cross_val_score(model, X_train, y_train, cv=strat_k_fold, scoring='f1_weighted'))\n",
    "    y_pred = model.predict(X_test)\n",
    "    tn, fp, fn, tp = confusion_matrix(y_pred, y_test).ravel()\n",
    "    specificity = tn / (tn+fp)\n",
    "\n",
    "    df_model = pd.DataFrame({'model'        : [name],\n",
    "                             'accuracy'     : [accuracy],\n",
    "                             'precision'    : [precision],\n",
    "                             'recall'       : [recall],\n",
    "                             'f1score'      : [f1score],\n",
    "                             'specificity'  : [specificity]\n",
    "                            })   \n",
    "    return df_model"
   ]
  },
  {
   "cell_type": "code",
   "execution_count": 67,
   "metadata": {
    "ExecuteTime": {
     "end_time": "2020-05-30T23:58:21.126433Z",
     "start_time": "2020-05-30T23:58:21.119451Z"
    }
   },
   "outputs": [],
   "source": [
    "models = {'gnb': GaussianNB(),\n",
    "          'randomforest': RandomForestClassifier(),\n",
    "          'xgboost': GradientBoostingClassifier(),\n",
    "          'MLPC': MLPClassifier()\n",
    "         }"
   ]
  },
  {
   "cell_type": "code",
   "execution_count": 68,
   "metadata": {
    "ExecuteTime": {
     "end_time": "2020-05-31T00:08:23.398927Z",
     "start_time": "2020-05-30T23:58:22.002091Z"
    }
   },
   "outputs": [
    {
     "data": {
      "text/html": [
       "<div>\n",
       "<style scoped>\n",
       "    .dataframe tbody tr th:only-of-type {\n",
       "        vertical-align: middle;\n",
       "    }\n",
       "\n",
       "    .dataframe tbody tr th {\n",
       "        vertical-align: top;\n",
       "    }\n",
       "\n",
       "    .dataframe thead th {\n",
       "        text-align: right;\n",
       "    }\n",
       "</style>\n",
       "<table border=\"1\" class=\"dataframe\">\n",
       "  <thead>\n",
       "    <tr style=\"text-align: right;\">\n",
       "      <th></th>\n",
       "      <th>model</th>\n",
       "      <th>accuracy</th>\n",
       "      <th>precision</th>\n",
       "      <th>recall</th>\n",
       "      <th>f1score</th>\n",
       "      <th>specificity</th>\n",
       "    </tr>\n",
       "  </thead>\n",
       "  <tbody>\n",
       "    <tr>\n",
       "      <th>0</th>\n",
       "      <td>gnb</td>\n",
       "      <td>0.840778</td>\n",
       "      <td>0.847715</td>\n",
       "      <td>0.843228</td>\n",
       "      <td>0.843977</td>\n",
       "      <td>0.920112</td>\n",
       "    </tr>\n",
       "    <tr>\n",
       "      <th>0</th>\n",
       "      <td>randomforest</td>\n",
       "      <td>0.886599</td>\n",
       "      <td>0.879122</td>\n",
       "      <td>0.886023</td>\n",
       "      <td>0.859567</td>\n",
       "      <td>0.888221</td>\n",
       "    </tr>\n",
       "    <tr>\n",
       "      <th>0</th>\n",
       "      <td>xgboost</td>\n",
       "      <td>0.900288</td>\n",
       "      <td>0.888329</td>\n",
       "      <td>0.900288</td>\n",
       "      <td>0.886778</td>\n",
       "      <td>0.918648</td>\n",
       "    </tr>\n",
       "    <tr>\n",
       "      <th>0</th>\n",
       "      <td>MLPC</td>\n",
       "      <td>0.878386</td>\n",
       "      <td>0.871289</td>\n",
       "      <td>0.881556</td>\n",
       "      <td>0.857432</td>\n",
       "      <td>0.875813</td>\n",
       "    </tr>\n",
       "  </tbody>\n",
       "</table>\n",
       "</div>"
      ],
      "text/plain": [
       "          model  accuracy  precision    recall   f1score  specificity\n",
       "0           gnb  0.840778   0.847715  0.843228  0.843977     0.920112\n",
       "0  randomforest  0.886599   0.879122  0.886023  0.859567     0.888221\n",
       "0       xgboost  0.900288   0.888329  0.900288  0.886778     0.918648\n",
       "0          MLPC  0.878386   0.871289  0.881556  0.857432     0.875813"
      ]
     },
     "execution_count": 68,
     "metadata": {},
     "output_type": "execute_result"
    }
   ],
   "source": [
    "# Evaluation of models\n",
    "models_df = pd.concat([baseline_report(model, X_train, X_test, y_train, y_test, name) for (name, model) in models.items()])\n",
    "models_df.to_csv(\"data/output_csv/models_n-s.csv\")\n",
    "models_df"
   ]
  },
  {
   "cell_type": "markdown",
   "metadata": {},
   "source": [
    "###### Feature importance"
   ]
  },
  {
   "cell_type": "code",
   "execution_count": 92,
   "metadata": {
    "ExecuteTime": {
     "end_time": "2020-05-31T06:44:03.162712Z",
     "start_time": "2020-05-31T06:43:41.534350Z"
    }
   },
   "outputs": [
    {
     "data": {
      "image/png": "[encoded data removed]",
      "text/plain": [
       "<Figure size 720x1440 with 1 Axes>"
      ]
     },
     "metadata": {},
     "output_type": "display_data"
    }
   ],
   "source": [
    "xgboost = GradientBoostingClassifier().fit(X_train, y_train)\n",
    "\n",
    "fig, ax = plt.subplots(figsize=(10,20))\n",
    "viz = FeatureImportances(xgboost)\n",
    "viz.fit(X, y)\n",
    "viz.show(outpath=\"images/output_images/feature_importance_n-s.png\")\n",
    "sns.set_context(\"talk\")\n",
    "plt.show()"
   ]
  },
  {
   "cell_type": "markdown",
   "metadata": {},
   "source": [
    "##### Thinking (T) – Feeling (F)"
   ]
  },
  {
   "cell_type": "code",
   "execution_count": 93,
   "metadata": {
    "ExecuteTime": {
     "end_time": "2020-05-31T06:43:15.482763Z",
     "start_time": "2020-05-31T06:43:15.471759Z"
    }
   },
   "outputs": [],
   "source": [
    "X = result_svd_vec_dimensions.drop([\"type\",\"i-e\", \"n-s\", \"t-f\", \"j-p\"], axis=1).values\n",
    "y = result_svd_vec_dimensions[\"t-f\"].values"
   ]
  },
  {
   "cell_type": "code",
   "execution_count": 94,
   "metadata": {
    "ExecuteTime": {
     "end_time": "2020-05-31T06:43:16.358688Z",
     "start_time": "2020-05-31T06:43:16.343443Z"
    },
    "scrolled": true
   },
   "outputs": [
    {
     "name": "stdout",
     "output_type": "stream",
     "text": [
      "(6940, 102) (6940,) (1735, 102) (1735,)\n"
     ]
    }
   ],
   "source": [
    "X_train, X_test, y_train, y_test = train_test_split(X, y, random_state=42, test_size=0.2)\n",
    "print ((X_train.shape),(y_train.shape),(X_test.shape),(y_test.shape))"
   ]
  },
  {
   "cell_type": "code",
   "execution_count": 73,
   "metadata": {
    "ExecuteTime": {
     "end_time": "2020-05-31T00:11:44.682454Z",
     "start_time": "2020-05-31T00:11:44.674476Z"
    }
   },
   "outputs": [],
   "source": [
    "def baseline_report(model, X_train, X_test, y_train, y_test, name):\n",
    "    strat_k_fold = StratifiedKFold(n_splits=5, shuffle=True)\n",
    "    model.fit(X_train, y_train)\n",
    "    accuracy     = np.mean(cross_val_score(model, X_train, y_train, cv=strat_k_fold, scoring='accuracy'))\n",
    "    precision    = np.mean(cross_val_score(model, X_train, y_train, cv=strat_k_fold, scoring='precision_weighted'))\n",
    "    recall       = np.mean(cross_val_score(model, X_train, y_train, cv=strat_k_fold, scoring='recall_weighted'))\n",
    "    f1score      = np.mean(cross_val_score(model, X_train, y_train, cv=strat_k_fold, scoring='f1_weighted'))\n",
    "    y_pred = model.predict(X_test)\n",
    "    tn, fp, fn, tp = confusion_matrix(y_pred, y_test).ravel()\n",
    "    specificity = tn / (tn+fp)\n",
    "\n",
    "    df_model = pd.DataFrame({'model'        : [name],\n",
    "                             'accuracy'     : [accuracy],\n",
    "                             'precision'    : [precision],\n",
    "                             'recall'       : [recall],\n",
    "                             'f1score'      : [f1score],\n",
    "                             'specificity'  : [specificity]\n",
    "                            })   \n",
    "    return df_model"
   ]
  },
  {
   "cell_type": "code",
   "execution_count": 74,
   "metadata": {
    "ExecuteTime": {
     "end_time": "2020-05-31T00:11:45.605985Z",
     "start_time": "2020-05-31T00:11:45.600002Z"
    }
   },
   "outputs": [],
   "source": [
    "models = {'gnb': GaussianNB(),\n",
    "          'randomforest': RandomForestClassifier(),\n",
    "          'xgboost': GradientBoostingClassifier(),\n",
    "          'MLPC': MLPClassifier()\n",
    "         }"
   ]
  },
  {
   "cell_type": "code",
   "execution_count": 75,
   "metadata": {
    "ExecuteTime": {
     "end_time": "2020-05-31T00:21:07.741875Z",
     "start_time": "2020-05-31T00:11:46.488626Z"
    }
   },
   "outputs": [
    {
     "data": {
      "text/html": [
       "<div>\n",
       "<style scoped>\n",
       "    .dataframe tbody tr th:only-of-type {\n",
       "        vertical-align: middle;\n",
       "    }\n",
       "\n",
       "    .dataframe tbody tr th {\n",
       "        vertical-align: top;\n",
       "    }\n",
       "\n",
       "    .dataframe thead th {\n",
       "        text-align: right;\n",
       "    }\n",
       "</style>\n",
       "<table border=\"1\" class=\"dataframe\">\n",
       "  <thead>\n",
       "    <tr style=\"text-align: right;\">\n",
       "      <th></th>\n",
       "      <th>model</th>\n",
       "      <th>accuracy</th>\n",
       "      <th>precision</th>\n",
       "      <th>recall</th>\n",
       "      <th>f1score</th>\n",
       "      <th>specificity</th>\n",
       "    </tr>\n",
       "  </thead>\n",
       "  <tbody>\n",
       "    <tr>\n",
       "      <th>0</th>\n",
       "      <td>gnb</td>\n",
       "      <td>0.711816</td>\n",
       "      <td>0.723637</td>\n",
       "      <td>0.712248</td>\n",
       "      <td>0.711940</td>\n",
       "      <td>0.671351</td>\n",
       "    </tr>\n",
       "    <tr>\n",
       "      <th>0</th>\n",
       "      <td>randomforest</td>\n",
       "      <td>0.829539</td>\n",
       "      <td>0.831603</td>\n",
       "      <td>0.829251</td>\n",
       "      <td>0.826015</td>\n",
       "      <td>0.837432</td>\n",
       "    </tr>\n",
       "    <tr>\n",
       "      <th>0</th>\n",
       "      <td>xgboost</td>\n",
       "      <td>0.844957</td>\n",
       "      <td>0.844915</td>\n",
       "      <td>0.848271</td>\n",
       "      <td>0.843207</td>\n",
       "      <td>0.833333</td>\n",
       "    </tr>\n",
       "    <tr>\n",
       "      <th>0</th>\n",
       "      <td>MLPC</td>\n",
       "      <td>0.849135</td>\n",
       "      <td>0.852541</td>\n",
       "      <td>0.841931</td>\n",
       "      <td>0.845091</td>\n",
       "      <td>0.868195</td>\n",
       "    </tr>\n",
       "  </tbody>\n",
       "</table>\n",
       "</div>"
      ],
      "text/plain": [
       "          model  accuracy  precision    recall   f1score  specificity\n",
       "0           gnb  0.711816   0.723637  0.712248  0.711940     0.671351\n",
       "0  randomforest  0.829539   0.831603  0.829251  0.826015     0.837432\n",
       "0       xgboost  0.844957   0.844915  0.848271  0.843207     0.833333\n",
       "0          MLPC  0.849135   0.852541  0.841931  0.845091     0.868195"
      ]
     },
     "execution_count": 75,
     "metadata": {},
     "output_type": "execute_result"
    }
   ],
   "source": [
    "# Evaluation of models\n",
    "models_df = pd.concat([baseline_report(model, X_train, X_test, y_train, y_test, name) for (name, model) in models.items()])\n",
    "models_df.to_csv(\"data/output_csv/models_t-f.csv\")\n",
    "models_df"
   ]
  },
  {
   "cell_type": "markdown",
   "metadata": {},
   "source": [
    "###### Feature importance"
   ]
  },
  {
   "cell_type": "code",
   "execution_count": 95,
   "metadata": {
    "ExecuteTime": {
     "end_time": "2020-05-31T06:44:03.162712Z",
     "start_time": "2020-05-31T06:43:41.534350Z"
    }
   },
   "outputs": [
    {
     "data": {
      "image/png": "[encoded data removed]",
      "text/plain": [
       "<Figure size 720x1440 with 1 Axes>"
      ]
     },
     "metadata": {},
     "output_type": "display_data"
    }
   ],
   "source": [
    "xgboost = GradientBoostingClassifier().fit(X_train, y_train)\n",
    "\n",
    "fig, ax = plt.subplots(figsize=(10,20))\n",
    "viz = FeatureImportances(xgboost)\n",
    "viz.fit(X, y)\n",
    "viz.show(outpath=\"images/output_images/feature_importance_t-f.png\")\n",
    "sns.set_context(\"talk\")\n",
    "plt.show()"
   ]
  },
  {
   "cell_type": "markdown",
   "metadata": {},
   "source": [
    "##### Judging (J) – Perceiving (P)"
   ]
  },
  {
   "cell_type": "code",
   "execution_count": 96,
   "metadata": {
    "ExecuteTime": {
     "end_time": "2020-05-31T06:43:39.788537Z",
     "start_time": "2020-05-31T06:43:39.778564Z"
    }
   },
   "outputs": [],
   "source": [
    "X = result_svd_vec_dimensions.drop([\"type\",\"i-e\", \"n-s\", \"t-f\", \"j-p\"], axis=1).values\n",
    "y = result_svd_vec_dimensions[\"j-p\"].values"
   ]
  },
  {
   "cell_type": "code",
   "execution_count": 97,
   "metadata": {
    "ExecuteTime": {
     "end_time": "2020-05-31T06:43:40.671204Z",
     "start_time": "2020-05-31T06:43:40.655220Z"
    },
    "scrolled": true
   },
   "outputs": [
    {
     "name": "stdout",
     "output_type": "stream",
     "text": [
      "(6940, 102) (6940,) (1735, 102) (1735,)\n"
     ]
    }
   ],
   "source": [
    "X_train, X_test, y_train, y_test = train_test_split(X, y, random_state=42, test_size=0.2)\n",
    "print ((X_train.shape),(y_train.shape),(X_test.shape),(y_test.shape))"
   ]
  },
  {
   "cell_type": "code",
   "execution_count": 79,
   "metadata": {
    "ExecuteTime": {
     "end_time": "2020-05-31T00:21:33.068919Z",
     "start_time": "2020-05-31T00:21:33.058945Z"
    }
   },
   "outputs": [],
   "source": [
    "def baseline_report(model, X_train, X_test, y_train, y_test, name):\n",
    "    strat_k_fold = StratifiedKFold(n_splits=5, shuffle=True)\n",
    "    model.fit(X_train, y_train)\n",
    "    accuracy     = np.mean(cross_val_score(model, X_train, y_train, cv=strat_k_fold, scoring='accuracy'))\n",
    "    precision    = np.mean(cross_val_score(model, X_train, y_train, cv=strat_k_fold, scoring='precision_weighted'))\n",
    "    recall       = np.mean(cross_val_score(model, X_train, y_train, cv=strat_k_fold, scoring='recall_weighted'))\n",
    "    f1score      = np.mean(cross_val_score(model, X_train, y_train, cv=strat_k_fold, scoring='f1_weighted'))\n",
    "    y_pred = model.predict(X_test)\n",
    "    tn, fp, fn, tp = confusion_matrix(y_pred, y_test).ravel()\n",
    "    specificity = tn / (tn+fp)\n",
    "\n",
    "    df_model = pd.DataFrame({'model'        : [name],\n",
    "                             'accuracy'     : [accuracy],\n",
    "                             'precision'    : [precision],\n",
    "                             'recall'       : [recall],\n",
    "                             'f1score'      : [f1score],\n",
    "                             'specificity'  : [specificity]\n",
    "                            })   \n",
    "    return df_model"
   ]
  },
  {
   "cell_type": "code",
   "execution_count": 80,
   "metadata": {
    "ExecuteTime": {
     "end_time": "2020-05-31T00:21:33.922637Z",
     "start_time": "2020-05-31T00:21:33.915656Z"
    }
   },
   "outputs": [],
   "source": [
    "models = {'gnb': GaussianNB(),\n",
    "          'randomforest': RandomForestClassifier(),\n",
    "          'xgboost': GradientBoostingClassifier(),\n",
    "          'MLPC': MLPClassifier()\n",
    "         }"
   ]
  },
  {
   "cell_type": "code",
   "execution_count": 81,
   "metadata": {
    "ExecuteTime": {
     "end_time": "2020-05-31T00:31:06.447833Z",
     "start_time": "2020-05-31T00:21:34.834200Z"
    }
   },
   "outputs": [
    {
     "data": {
      "text/html": [
       "<div>\n",
       "<style scoped>\n",
       "    .dataframe tbody tr th:only-of-type {\n",
       "        vertical-align: middle;\n",
       "    }\n",
       "\n",
       "    .dataframe tbody tr th {\n",
       "        vertical-align: top;\n",
       "    }\n",
       "\n",
       "    .dataframe thead th {\n",
       "        text-align: right;\n",
       "    }\n",
       "</style>\n",
       "<table border=\"1\" class=\"dataframe\">\n",
       "  <thead>\n",
       "    <tr style=\"text-align: right;\">\n",
       "      <th></th>\n",
       "      <th>model</th>\n",
       "      <th>accuracy</th>\n",
       "      <th>precision</th>\n",
       "      <th>recall</th>\n",
       "      <th>f1score</th>\n",
       "      <th>specificity</th>\n",
       "    </tr>\n",
       "  </thead>\n",
       "  <tbody>\n",
       "    <tr>\n",
       "      <th>0</th>\n",
       "      <td>gnb</td>\n",
       "      <td>0.716571</td>\n",
       "      <td>0.718007</td>\n",
       "      <td>0.715562</td>\n",
       "      <td>0.706528</td>\n",
       "      <td>0.681250</td>\n",
       "    </tr>\n",
       "    <tr>\n",
       "      <th>0</th>\n",
       "      <td>randomforest</td>\n",
       "      <td>0.773055</td>\n",
       "      <td>0.784808</td>\n",
       "      <td>0.779107</td>\n",
       "      <td>0.770559</td>\n",
       "      <td>0.800000</td>\n",
       "    </tr>\n",
       "    <tr>\n",
       "      <th>0</th>\n",
       "      <td>xgboost</td>\n",
       "      <td>0.787320</td>\n",
       "      <td>0.789693</td>\n",
       "      <td>0.790058</td>\n",
       "      <td>0.788014</td>\n",
       "      <td>0.790441</td>\n",
       "    </tr>\n",
       "    <tr>\n",
       "      <th>0</th>\n",
       "      <td>MLPC</td>\n",
       "      <td>0.736023</td>\n",
       "      <td>0.778140</td>\n",
       "      <td>0.734582</td>\n",
       "      <td>0.788530</td>\n",
       "      <td>0.831633</td>\n",
       "    </tr>\n",
       "  </tbody>\n",
       "</table>\n",
       "</div>"
      ],
      "text/plain": [
       "          model  accuracy  precision    recall   f1score  specificity\n",
       "0           gnb  0.716571   0.718007  0.715562  0.706528     0.681250\n",
       "0  randomforest  0.773055   0.784808  0.779107  0.770559     0.800000\n",
       "0       xgboost  0.787320   0.789693  0.790058  0.788014     0.790441\n",
       "0          MLPC  0.736023   0.778140  0.734582  0.788530     0.831633"
      ]
     },
     "execution_count": 81,
     "metadata": {},
     "output_type": "execute_result"
    }
   ],
   "source": [
    "# Evaluation of models\n",
    "models_df = pd.concat([baseline_report(model, X_train, X_test, y_train, y_test, name) for (name, model) in models.items()])\n",
    "models_df.to_csv(\"data/output_csv/models_j-p.csv\")\n",
    "models_df"
   ]
  },
  {
   "cell_type": "markdown",
   "metadata": {},
   "source": [
    "###### Feature importance"
   ]
  },
  {
   "cell_type": "code",
   "execution_count": 98,
   "metadata": {
    "ExecuteTime": {
     "end_time": "2020-05-31T06:44:03.162712Z",
     "start_time": "2020-05-31T06:43:41.534350Z"
    }
   },
   "outputs": [
    {
     "data": {
      "image/png": "[encoded data removed]",
      "text/plain": [
       "<Figure size 720x1440 with 1 Axes>"
      ]
     },
     "metadata": {},
     "output_type": "display_data"
    }
   ],
   "source": [
    "xgboost = GradientBoostingClassifier().fit(X_train, y_train)\n",
    "\n",
    "fig, ax = plt.subplots(figsize=(10,20))\n",
    "viz = FeatureImportances(xgboost)\n",
    "viz.fit(X, y)\n",
    "viz.show(outpath=\"images/output_images/feature_importance_j-p.png\")\n",
    "sns.set_context(\"talk\")\n",
    "plt.show()"
   ]
  },
  {
   "cell_type": "markdown",
   "metadata": {},
   "source": [
    "**Comments**"
   ]
  },
  {
   "cell_type": "code",
   "execution_count": 99,
   "metadata": {
    "ExecuteTime": {
     "end_time": "2020-05-31T07:05:16.916683Z",
     "start_time": "2020-05-31T07:05:16.911697Z"
    }
   },
   "outputs": [
    {
     "name": "stdout",
     "output_type": "stream",
     "text": [
      "F1 Scores:\n",
      "Types = 0.622888 vs Dimensions = 0.4925553452527933\n"
     ]
    }
   ],
   "source": [
    "dimensions = 0.835934 * 0.886778 * 0.843207 * 0.788014\n",
    "types = 0.622888\n",
    "\n",
    "print(\"F1 Scores:\")\n",
    "print(\"Types =\", types,\"vs\",\"Dimensions =\", dimensions)"
   ]
  },
  {
   "cell_type": "markdown",
   "metadata": {},
   "source": [
    "So, in the end, the model trained using types predicts better that applying the 4 models for the different dimensions consecutively, unless we are particularly interested in 1 of the personality dimensions so that using the model for that particular dimension would be recommended. "
   ]
  },
  {
   "cell_type": "code",
   "execution_count": null,
   "metadata": {},
   "outputs": [],
   "source": []
  }
 ],
 "metadata": {
  "colab": {
   "collapsed_sections": [],
   "name": "3_MBTI Model building and evaluation.ipynb",
   "provenance": [],
   "toc_visible": true
  },
  "kernelspec": {
   "display_name": "Python 3",
   "language": "python",
   "name": "python3"
  },
  "language_info": {
   "codemirror_mode": {
    "name": "ipython",
    "version": 3
   },
   "file_extension": ".py",
   "mimetype": "text/x-python",
   "name": "python",
   "nbconvert_exporter": "python",
   "pygments_lexer": "ipython3",
   "version": "3.7.7"
  },
  "varInspector": {
   "cols": {
    "lenName": 16,
    "lenType": 16,
    "lenVar": 40
   },
   "kernels_config": {
    "python": {
     "delete_cmd_postfix": "",
     "delete_cmd_prefix": "del ",
     "library": "var_list.py",
     "varRefreshCmd": "print(var_dic_list())"
    },
    "r": {
     "delete_cmd_postfix": ") ",
     "delete_cmd_prefix": "rm(",
     "library": "var_list.r",
     "varRefreshCmd": "cat(var_dic_list()) "
    }
   },
   "types_to_exclude": [
    "module",
    "function",
    "builtin_function_or_method",
    "instance",
    "_Feature"
   ],
   "window_display": false
  }
 },
 "nbformat": 4,
 "nbformat_minor": 1
}
