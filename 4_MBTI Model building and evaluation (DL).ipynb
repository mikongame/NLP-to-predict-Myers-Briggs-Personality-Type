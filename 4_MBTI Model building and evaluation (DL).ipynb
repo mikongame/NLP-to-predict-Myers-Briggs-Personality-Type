{
 "cells": [
  {
   "cell_type": "markdown",
   "metadata": {},
   "source": [
    "<img src=\"https://bit.ly/2VnXWr2\" width=\"100\" align=\"left\">"
   ]
  },
  {
   "cell_type": "markdown",
   "metadata": {},
   "source": [
    "# Final project: NLP to predict Myers-Briggs Personality Type"
   ]
  },
  {
   "cell_type": "markdown",
   "metadata": {},
   "source": [
    "## Imports"
   ]
  },
  {
   "cell_type": "code",
   "execution_count": null,
   "metadata": {},
   "outputs": [],
   "source": [
    "\"\"\"\n",
    "You'll first need to download glove.6B.100d.txt from https://nlp.stanford.edu/projects/glove/ and save it to the following\n",
    "path (NLP-to-predict-Myers-Briggs-Personality-Type/glove_data/glove.6B/)of your local version of my project's reopsitory\n",
    "\"\"\""
   ]
  },
  {
   "cell_type": "code",
   "execution_count": 1,
   "metadata": {
    "ExecuteTime": {
     "end_time": "2020-06-04T12:18:33.228840Z",
     "start_time": "2020-06-04T12:18:28.704686Z"
    }
   },
   "outputs": [
    {
     "name": "stderr",
     "output_type": "stream",
     "text": [
      "Using TensorFlow backend.\n",
      "C:\\Users\\Miguel\\Anaconda3\\lib\\site-packages\\tensorflow\\python\\framework\\dtypes.py:526: FutureWarning: Passing (type, 1) or '1type' as a synonym of type is deprecated; in a future version of numpy, it will be understood as (type, (1,)) / '(1,)type'.\n",
      "  _np_qint8 = np.dtype([(\"qint8\", np.int8, 1)])\n",
      "C:\\Users\\Miguel\\Anaconda3\\lib\\site-packages\\tensorflow\\python\\framework\\dtypes.py:527: FutureWarning: Passing (type, 1) or '1type' as a synonym of type is deprecated; in a future version of numpy, it will be understood as (type, (1,)) / '(1,)type'.\n",
      "  _np_quint8 = np.dtype([(\"quint8\", np.uint8, 1)])\n",
      "C:\\Users\\Miguel\\Anaconda3\\lib\\site-packages\\tensorflow\\python\\framework\\dtypes.py:528: FutureWarning: Passing (type, 1) or '1type' as a synonym of type is deprecated; in a future version of numpy, it will be understood as (type, (1,)) / '(1,)type'.\n",
      "  _np_qint16 = np.dtype([(\"qint16\", np.int16, 1)])\n",
      "C:\\Users\\Miguel\\Anaconda3\\lib\\site-packages\\tensorflow\\python\\framework\\dtypes.py:529: FutureWarning: Passing (type, 1) or '1type' as a synonym of type is deprecated; in a future version of numpy, it will be understood as (type, (1,)) / '(1,)type'.\n",
      "  _np_quint16 = np.dtype([(\"quint16\", np.uint16, 1)])\n",
      "C:\\Users\\Miguel\\Anaconda3\\lib\\site-packages\\tensorflow\\python\\framework\\dtypes.py:530: FutureWarning: Passing (type, 1) or '1type' as a synonym of type is deprecated; in a future version of numpy, it will be understood as (type, (1,)) / '(1,)type'.\n",
      "  _np_qint32 = np.dtype([(\"qint32\", np.int32, 1)])\n",
      "C:\\Users\\Miguel\\Anaconda3\\lib\\site-packages\\tensorflow\\python\\framework\\dtypes.py:535: FutureWarning: Passing (type, 1) or '1type' as a synonym of type is deprecated; in a future version of numpy, it will be understood as (type, (1,)) / '(1,)type'.\n",
      "  np_resource = np.dtype([(\"resource\", np.ubyte, 1)])\n"
     ]
    }
   ],
   "source": [
    "import re\n",
    "import pandas as pd\n",
    "import numpy as np\n",
    "import spacy\n",
    "import matplotlib.pyplot as plt\n",
    "import seaborn as sns\n",
    "import math\n",
    "\n",
    "import pickle as pkl\n",
    "\n",
    "from sklearn.model_selection import train_test_split\n",
    "\n",
    "import keras.metrics\n",
    "from keras import regularizers, initializers, optimizers, callbacks\n",
    "from keras.preprocessing.sequence import pad_sequences\n",
    "from keras.preprocessing.text import Tokenizer\n",
    "from keras.utils.np_utils import to_categorical\n",
    "from sklearn.utils import class_weight\n",
    "from keras.layers import *\n",
    "from keras.models import Model"
   ]
  },
  {
   "cell_type": "markdown",
   "metadata": {
    "ExecuteTime": {
     "end_time": "2020-05-29T18:09:27.528161Z",
     "start_time": "2020-05-29T18:09:27.525169Z"
    }
   },
   "source": [
    "## 4. Model building and evaluation: Deep Learning"
   ]
  },
  {
   "cell_type": "code",
   "execution_count": 2,
   "metadata": {
    "ExecuteTime": {
     "end_time": "2020-06-04T12:18:34.080411Z",
     "start_time": "2020-06-04T12:18:33.230100Z"
    }
   },
   "outputs": [],
   "source": [
    "spacy_nlp = spacy.load('en_core_web_sm')"
   ]
  },
  {
   "cell_type": "code",
   "execution_count": 3,
   "metadata": {
    "ExecuteTime": {
     "end_time": "2020-06-04T12:18:34.086290Z",
     "start_time": "2020-06-04T12:18:34.082265Z"
    }
   },
   "outputs": [],
   "source": [
    "stopwords = spacy.lang.en.stop_words.STOP_WORDS"
   ]
  },
  {
   "cell_type": "code",
   "execution_count": 4,
   "metadata": {
    "ExecuteTime": {
     "end_time": "2020-06-04T12:18:34.194761Z",
     "start_time": "2020-06-04T12:18:34.088251Z"
    }
   },
   "outputs": [],
   "source": [
    "MAX_NB_WORDS = 100000    # max no. of words for tokenizer\n",
    "MAX_SEQUENCE_LENGTH = 200 # max length of each entry (sentence), including padding\n",
    "VALIDATION_SPLIT = 0.2   # data for validation (not used in training)\n",
    "EMBEDDING_DIM = 100      # embedding dimensions for word vectors (word2vec/GloVe)\n",
    "GLOVE_DIR = \"glove_data/glove.6B/glove.6B.\"+str(EMBEDDING_DIM)+\"d.txt\""
   ]
  },
  {
   "cell_type": "markdown",
   "metadata": {},
   "source": [
    "### Using Types"
   ]
  },
  {
   "cell_type": "code",
   "execution_count": 5,
   "metadata": {
    "ExecuteTime": {
     "end_time": "2020-06-04T12:18:34.459053Z",
     "start_time": "2020-06-04T12:18:34.196755Z"
    }
   },
   "outputs": [],
   "source": [
    "mbti_df_clean = pd.read_pickle(\"data/output_pickles/mbti_clean_text.pkl\")\n",
    "result_umap_types  = pd.read_csv(\"data/output_csv/result_umap_types.csv\")"
   ]
  },
  {
   "cell_type": "code",
   "execution_count": 6,
   "metadata": {
    "ExecuteTime": {
     "end_time": "2020-06-04T12:18:34.474421Z",
     "start_time": "2020-06-04T12:18:34.460585Z"
    }
   },
   "outputs": [
    {
     "data": {
      "text/html": [
       "<div>\n",
       "<style scoped>\n",
       "    .dataframe tbody tr th:only-of-type {\n",
       "        vertical-align: middle;\n",
       "    }\n",
       "\n",
       "    .dataframe tbody tr th {\n",
       "        vertical-align: top;\n",
       "    }\n",
       "\n",
       "    .dataframe thead th {\n",
       "        text-align: right;\n",
       "    }\n",
       "</style>\n",
       "<table border=\"1\" class=\"dataframe\">\n",
       "  <thead>\n",
       "    <tr style=\"text-align: right;\">\n",
       "      <th></th>\n",
       "      <th>type</th>\n",
       "      <th>posts</th>\n",
       "      <th>type_clean</th>\n",
       "      <th>posts_clean</th>\n",
       "      <th>type_lemma</th>\n",
       "      <th>posts_lemma</th>\n",
       "    </tr>\n",
       "  </thead>\n",
       "  <tbody>\n",
       "    <tr>\n",
       "      <th>0</th>\n",
       "      <td>infj</td>\n",
       "      <td>'http://www.youtube.com/watch?v=qsXHcwe3krw|||...</td>\n",
       "      <td>infj</td>\n",
       "      <td>intj moments sportscenter plays pranks life ch...</td>\n",
       "      <td>infj</td>\n",
       "      <td>intj moment sportscent play prank life change ...</td>\n",
       "    </tr>\n",
       "    <tr>\n",
       "      <th>1</th>\n",
       "      <td>entp</td>\n",
       "      <td>'I'm finding the lack of me in these posts ver...</td>\n",
       "      <td>entp</td>\n",
       "      <td>finding lack posts alarming sex boring positio...</td>\n",
       "      <td>entp</td>\n",
       "      <td>find lack post alarming sex bore position exam...</td>\n",
       "    </tr>\n",
       "    <tr>\n",
       "      <th>2</th>\n",
       "      <td>intp</td>\n",
       "      <td>'Good one  _____   https://www.youtube.com/wat...</td>\n",
       "      <td>intp</td>\n",
       "      <td>good course know blessing curse absolutely pos...</td>\n",
       "      <td>intp</td>\n",
       "      <td>good course know blessing curse absolutely pos...</td>\n",
       "    </tr>\n",
       "    <tr>\n",
       "      <th>3</th>\n",
       "      <td>intj</td>\n",
       "      <td>'Dear INTP,   I enjoyed our conversation the o...</td>\n",
       "      <td>intj</td>\n",
       "      <td>dear intp enjoyed conversation day esoteric ga...</td>\n",
       "      <td>intj</td>\n",
       "      <td>dear intp enjoy conversation day esoteric gabb...</td>\n",
       "    </tr>\n",
       "    <tr>\n",
       "      <th>4</th>\n",
       "      <td>entj</td>\n",
       "      <td>'You're fired.|||That's another silly misconce...</td>\n",
       "      <td>entj</td>\n",
       "      <td>fired silly misconception approaching logicall...</td>\n",
       "      <td>entj</td>\n",
       "      <td>fire silly misconception approach logically go...</td>\n",
       "    </tr>\n",
       "  </tbody>\n",
       "</table>\n",
       "</div>"
      ],
      "text/plain": [
       "   type                                              posts type_clean  \\\n",
       "0  infj  'http://www.youtube.com/watch?v=qsXHcwe3krw|||...       infj   \n",
       "1  entp  'I'm finding the lack of me in these posts ver...       entp   \n",
       "2  intp  'Good one  _____   https://www.youtube.com/wat...       intp   \n",
       "3  intj  'Dear INTP,   I enjoyed our conversation the o...       intj   \n",
       "4  entj  'You're fired.|||That's another silly misconce...       entj   \n",
       "\n",
       "                                         posts_clean type_lemma  \\\n",
       "0  intj moments sportscenter plays pranks life ch...       infj   \n",
       "1  finding lack posts alarming sex boring positio...       entp   \n",
       "2  good course know blessing curse absolutely pos...       intp   \n",
       "3  dear intp enjoyed conversation day esoteric ga...       intj   \n",
       "4  fired silly misconception approaching logicall...       entj   \n",
       "\n",
       "                                         posts_lemma  \n",
       "0  intj moment sportscent play prank life change ...  \n",
       "1  find lack post alarming sex bore position exam...  \n",
       "2  good course know blessing curse absolutely pos...  \n",
       "3  dear intp enjoy conversation day esoteric gabb...  \n",
       "4  fire silly misconception approach logically go...  "
      ]
     },
     "execution_count": 6,
     "metadata": {},
     "output_type": "execute_result"
    }
   ],
   "source": [
    "mbti_df_clean.head()"
   ]
  },
  {
   "cell_type": "code",
   "execution_count": 7,
   "metadata": {
    "ExecuteTime": {
     "end_time": "2020-06-04T12:18:34.583661Z",
     "start_time": "2020-06-04T12:18:34.476009Z"
    }
   },
   "outputs": [
    {
     "data": {
      "text/html": [
       "<div>\n",
       "<style scoped>\n",
       "    .dataframe tbody tr th:only-of-type {\n",
       "        vertical-align: middle;\n",
       "    }\n",
       "\n",
       "    .dataframe tbody tr th {\n",
       "        vertical-align: top;\n",
       "    }\n",
       "\n",
       "    .dataframe thead th {\n",
       "        text-align: right;\n",
       "    }\n",
       "</style>\n",
       "<table border=\"1\" class=\"dataframe\">\n",
       "  <thead>\n",
       "    <tr style=\"text-align: right;\">\n",
       "      <th></th>\n",
       "      <th>Unnamed: 0</th>\n",
       "      <th>type</th>\n",
       "      <th>words_per_comment</th>\n",
       "      <th>variance_of_word_counts</th>\n",
       "      <th>enfj</th>\n",
       "      <th>enfp</th>\n",
       "      <th>entj</th>\n",
       "      <th>entp</th>\n",
       "      <th>esfj</th>\n",
       "      <th>esfp</th>\n",
       "      <th>...</th>\n",
       "      <th>infj</th>\n",
       "      <th>infp</th>\n",
       "      <th>intj</th>\n",
       "      <th>intp</th>\n",
       "      <th>isfj</th>\n",
       "      <th>isfp</th>\n",
       "      <th>istj</th>\n",
       "      <th>istp</th>\n",
       "      <th>0</th>\n",
       "      <th>1</th>\n",
       "    </tr>\n",
       "  </thead>\n",
       "  <tbody>\n",
       "    <tr>\n",
       "      <th>0</th>\n",
       "      <td>0</td>\n",
       "      <td>infj</td>\n",
       "      <td>11.12</td>\n",
       "      <td>135.2900</td>\n",
       "      <td>0</td>\n",
       "      <td>0</td>\n",
       "      <td>0</td>\n",
       "      <td>0</td>\n",
       "      <td>0</td>\n",
       "      <td>0</td>\n",
       "      <td>...</td>\n",
       "      <td>1</td>\n",
       "      <td>0</td>\n",
       "      <td>0</td>\n",
       "      <td>0</td>\n",
       "      <td>0</td>\n",
       "      <td>0</td>\n",
       "      <td>0</td>\n",
       "      <td>0</td>\n",
       "      <td>3.910143</td>\n",
       "      <td>7.477874</td>\n",
       "    </tr>\n",
       "    <tr>\n",
       "      <th>1</th>\n",
       "      <td>1</td>\n",
       "      <td>entp</td>\n",
       "      <td>23.40</td>\n",
       "      <td>187.4756</td>\n",
       "      <td>0</td>\n",
       "      <td>0</td>\n",
       "      <td>0</td>\n",
       "      <td>1</td>\n",
       "      <td>0</td>\n",
       "      <td>0</td>\n",
       "      <td>...</td>\n",
       "      <td>0</td>\n",
       "      <td>0</td>\n",
       "      <td>0</td>\n",
       "      <td>0</td>\n",
       "      <td>0</td>\n",
       "      <td>0</td>\n",
       "      <td>0</td>\n",
       "      <td>0</td>\n",
       "      <td>3.938040</td>\n",
       "      <td>5.939636</td>\n",
       "    </tr>\n",
       "    <tr>\n",
       "      <th>2</th>\n",
       "      <td>2</td>\n",
       "      <td>intp</td>\n",
       "      <td>16.72</td>\n",
       "      <td>180.6900</td>\n",
       "      <td>0</td>\n",
       "      <td>0</td>\n",
       "      <td>0</td>\n",
       "      <td>0</td>\n",
       "      <td>0</td>\n",
       "      <td>0</td>\n",
       "      <td>...</td>\n",
       "      <td>0</td>\n",
       "      <td>0</td>\n",
       "      <td>0</td>\n",
       "      <td>1</td>\n",
       "      <td>0</td>\n",
       "      <td>0</td>\n",
       "      <td>0</td>\n",
       "      <td>0</td>\n",
       "      <td>3.740153</td>\n",
       "      <td>5.486389</td>\n",
       "    </tr>\n",
       "    <tr>\n",
       "      <th>3</th>\n",
       "      <td>3</td>\n",
       "      <td>intj</td>\n",
       "      <td>21.28</td>\n",
       "      <td>181.8324</td>\n",
       "      <td>0</td>\n",
       "      <td>0</td>\n",
       "      <td>0</td>\n",
       "      <td>0</td>\n",
       "      <td>0</td>\n",
       "      <td>0</td>\n",
       "      <td>...</td>\n",
       "      <td>0</td>\n",
       "      <td>0</td>\n",
       "      <td>1</td>\n",
       "      <td>0</td>\n",
       "      <td>0</td>\n",
       "      <td>0</td>\n",
       "      <td>0</td>\n",
       "      <td>0</td>\n",
       "      <td>5.415134</td>\n",
       "      <td>7.452929</td>\n",
       "    </tr>\n",
       "    <tr>\n",
       "      <th>4</th>\n",
       "      <td>4</td>\n",
       "      <td>entj</td>\n",
       "      <td>19.34</td>\n",
       "      <td>196.4576</td>\n",
       "      <td>0</td>\n",
       "      <td>0</td>\n",
       "      <td>1</td>\n",
       "      <td>0</td>\n",
       "      <td>0</td>\n",
       "      <td>0</td>\n",
       "      <td>...</td>\n",
       "      <td>0</td>\n",
       "      <td>0</td>\n",
       "      <td>0</td>\n",
       "      <td>0</td>\n",
       "      <td>0</td>\n",
       "      <td>0</td>\n",
       "      <td>0</td>\n",
       "      <td>0</td>\n",
       "      <td>2.083198</td>\n",
       "      <td>7.512875</td>\n",
       "    </tr>\n",
       "  </tbody>\n",
       "</table>\n",
       "<p>5 rows × 22 columns</p>\n",
       "</div>"
      ],
      "text/plain": [
       "   Unnamed: 0  type  words_per_comment  variance_of_word_counts  enfj  enfp  \\\n",
       "0           0  infj              11.12                 135.2900     0     0   \n",
       "1           1  entp              23.40                 187.4756     0     0   \n",
       "2           2  intp              16.72                 180.6900     0     0   \n",
       "3           3  intj              21.28                 181.8324     0     0   \n",
       "4           4  entj              19.34                 196.4576     0     0   \n",
       "\n",
       "   entj  entp  esfj  esfp  ...  infj  infp  intj  intp  isfj  isfp  istj  \\\n",
       "0     0     0     0     0  ...     1     0     0     0     0     0     0   \n",
       "1     0     1     0     0  ...     0     0     0     0     0     0     0   \n",
       "2     0     0     0     0  ...     0     0     0     1     0     0     0   \n",
       "3     0     0     0     0  ...     0     0     1     0     0     0     0   \n",
       "4     1     0     0     0  ...     0     0     0     0     0     0     0   \n",
       "\n",
       "   istp         0         1  \n",
       "0     0  3.910143  7.477874  \n",
       "1     0  3.938040  5.939636  \n",
       "2     0  3.740153  5.486389  \n",
       "3     0  5.415134  7.452929  \n",
       "4     0  2.083198  7.512875  \n",
       "\n",
       "[5 rows x 22 columns]"
      ]
     },
     "execution_count": 7,
     "metadata": {},
     "output_type": "execute_result"
    }
   ],
   "source": [
    "result_umap_types.head()"
   ]
  },
  {
   "cell_type": "code",
   "execution_count": 8,
   "metadata": {
    "ExecuteTime": {
     "end_time": "2020-06-04T12:18:34.671154Z",
     "start_time": "2020-06-04T12:18:34.586635Z"
    },
    "cell_style": "center"
   },
   "outputs": [
    {
     "name": "stdout",
     "output_type": "stream",
     "text": [
      "Total: 8675\n",
      "    enfj: 190 (2.19% of total)\n",
      "\n",
      "Total: 8675\n",
      "    enfp: 675 (7.78% of total)\n",
      "\n",
      "Total: 8675\n",
      "    entj: 231 (2.66% of total)\n",
      "\n",
      "Total: 8675\n",
      "    entp: 685 (7.90% of total)\n",
      "\n",
      "Total: 8675\n",
      "    esfj: 42 (0.48% of total)\n",
      "\n",
      "Total: 8675\n",
      "    esfp: 48 (0.55% of total)\n",
      "\n",
      "Total: 8675\n",
      "    estj: 39 (0.45% of total)\n",
      "\n",
      "Total: 8675\n",
      "    estp: 89 (1.03% of total)\n",
      "\n",
      "Total: 8675\n",
      "    infj: 1470 (16.95% of total)\n",
      "\n",
      "Total: 8675\n",
      "    infp: 1832 (21.12% of total)\n",
      "\n",
      "Total: 8675\n",
      "    intj: 1091 (12.58% of total)\n",
      "\n",
      "Total: 8675\n",
      "    intp: 1304 (15.03% of total)\n",
      "\n",
      "Total: 8675\n",
      "    isfj: 166 (1.91% of total)\n",
      "\n",
      "Total: 8675\n",
      "    isfp: 271 (3.12% of total)\n",
      "\n",
      "Total: 8675\n",
      "    istj: 205 (2.36% of total)\n",
      "\n",
      "Total: 8675\n",
      "    istp: 337 (3.88% of total)\n",
      "\n"
     ]
    }
   ],
   "source": [
    "neg, pos = np.bincount(result_umap_types[\"enfj\"])\n",
    "total = neg + pos\n",
    "print('Total: {}\\n    enfj: {} ({:.2f}% of total)\\n'.format(total, pos, 100 * pos / total))\n",
    "\n",
    "neg, pos = np.bincount(result_umap_types[\"enfp\"])\n",
    "total = neg + pos\n",
    "print('Total: {}\\n    enfp: {} ({:.2f}% of total)\\n'.format(total, pos, 100 * pos / total))\n",
    "\n",
    "neg, pos = np.bincount(result_umap_types[\"entj\"])\n",
    "total = neg + pos\n",
    "print('Total: {}\\n    entj: {} ({:.2f}% of total)\\n'.format(total, pos, 100 * pos / total))\n",
    "\n",
    "neg, pos = np.bincount(result_umap_types[\"entp\"])\n",
    "total = neg + pos\n",
    "print('Total: {}\\n    entp: {} ({:.2f}% of total)\\n'.format(total, pos, 100 * pos / total))\n",
    "\n",
    "neg, pos = np.bincount(result_umap_types[\"esfj\"])\n",
    "total = neg + pos\n",
    "print('Total: {}\\n    esfj: {} ({:.2f}% of total)\\n'.format(total, pos, 100 * pos / total))\n",
    "\n",
    "neg, pos = np.bincount(result_umap_types[\"esfp\"])\n",
    "total = neg + pos\n",
    "print('Total: {}\\n    esfp: {} ({:.2f}% of total)\\n'.format(total, pos, 100 * pos / total))\n",
    "\n",
    "neg, pos = np.bincount(result_umap_types[\"estj\"])\n",
    "total = neg + pos\n",
    "print('Total: {}\\n    estj: {} ({:.2f}% of total)\\n'.format(total, pos, 100 * pos / total))\n",
    "\n",
    "neg, pos = np.bincount(result_umap_types[\"estp\"])\n",
    "total = neg + pos\n",
    "print('Total: {}\\n    estp: {} ({:.2f}% of total)\\n'.format(total, pos, 100 * pos / total))\n",
    "\n",
    "neg, pos = np.bincount(result_umap_types[\"infj\"])\n",
    "total = neg + pos\n",
    "print('Total: {}\\n    infj: {} ({:.2f}% of total)\\n'.format(total, pos, 100 * pos / total))\n",
    "\n",
    "neg, pos = np.bincount(result_umap_types[\"infp\"])\n",
    "total = neg + pos\n",
    "print('Total: {}\\n    infp: {} ({:.2f}% of total)\\n'.format(total, pos, 100 * pos / total))\n",
    "\n",
    "neg, pos = np.bincount(result_umap_types[\"intj\"])\n",
    "total = neg + pos\n",
    "print('Total: {}\\n    intj: {} ({:.2f}% of total)\\n'.format(total, pos, 100 * pos / total))\n",
    "\n",
    "neg, pos = np.bincount(result_umap_types[\"intp\"])\n",
    "total = neg + pos\n",
    "print('Total: {}\\n    intp: {} ({:.2f}% of total)\\n'.format(total, pos, 100 * pos / total))\n",
    "\n",
    "neg, pos = np.bincount(result_umap_types[\"isfj\"])\n",
    "total = neg + pos\n",
    "print('Total: {}\\n    isfj: {} ({:.2f}% of total)\\n'.format(total, pos, 100 * pos / total))\n",
    "\n",
    "neg, pos = np.bincount(result_umap_types[\"isfp\"])\n",
    "total = neg + pos\n",
    "print('Total: {}\\n    isfp: {} ({:.2f}% of total)\\n'.format(total, pos, 100 * pos / total))\n",
    "\n",
    "neg, pos = np.bincount(result_umap_types[\"istj\"])\n",
    "total = neg + pos\n",
    "print('Total: {}\\n    istj: {} ({:.2f}% of total)\\n'.format(total, pos, 100 * pos / total))\n",
    "\n",
    "neg, pos = np.bincount(result_umap_types[\"istp\"])\n",
    "total = neg + pos\n",
    "print('Total: {}\\n    istp: {} ({:.2f}% of total)\\n'.format(total, pos, 100 * pos / total))"
   ]
  },
  {
   "cell_type": "code",
   "execution_count": 9,
   "metadata": {
    "ExecuteTime": {
     "end_time": "2020-06-04T12:18:34.805246Z",
     "start_time": "2020-06-04T12:18:34.673979Z"
    },
    "cell_style": "center"
   },
   "outputs": [],
   "source": [
    "labels_dict = {0: 190 , 1: 675, 2: 231, 3: 685, 4: 42, 5: 48, 6: 39, 7: 89, 8: 1470,\n",
    "                9: 1832, 10: 1091, 11: 1304, 12: 166, 13: 271, 14: 205, 15: 337}"
   ]
  },
  {
   "cell_type": "code",
   "execution_count": 10,
   "metadata": {
    "ExecuteTime": {
     "end_time": "2020-06-04T12:18:34.900249Z",
     "start_time": "2020-06-04T12:18:34.806139Z"
    }
   },
   "outputs": [],
   "source": [
    "def create_class_weight(labels_dict):\n",
    "    total = 8675\n",
    "    keys = labels_dict.keys()\n",
    "    class_weight = dict()\n",
    "\n",
    "    for key in keys:\n",
    "        score = math.log(total/float(labels_dict[key]))\n",
    "        class_weight[key] = score if score > 1.0 else 1.0\n",
    "\n",
    "    return class_weight\n",
    "\n",
    "class_weights = create_class_weight(labels_dict)"
   ]
  },
  {
   "cell_type": "code",
   "execution_count": 11,
   "metadata": {
    "ExecuteTime": {
     "end_time": "2020-06-04T12:18:34.972064Z",
     "start_time": "2020-06-04T12:18:34.902086Z"
    },
    "cell_style": "center"
   },
   "outputs": [],
   "source": [
    "labels = [\"enfj\", \"enfp\", \"entj\", \"entp\", \"esfj\", \"esfp\", \"estj\", \"estp\", \"infj\", \"infp\", \"intj\", \"intp\", \"isfj\", \n",
    "          \"isfp\", \"istj\", \"istp\"]\n",
    "y = result_umap_types[labels].values\n",
    "X = mbti_df_clean[\"posts_clean\"]"
   ]
  },
  {
   "cell_type": "code",
   "execution_count": 12,
   "metadata": {
    "ExecuteTime": {
     "end_time": "2020-06-04T12:18:35.069809Z",
     "start_time": "2020-06-04T12:18:34.973567Z"
    }
   },
   "outputs": [
    {
     "name": "stdout",
     "output_type": "stream",
     "text": [
      "(6940,) (6940, 16) (1735,) (1735, 16)\n"
     ]
    }
   ],
   "source": [
    "X_train, X_test, y_train, y_test = train_test_split(X, y, random_state=42, test_size=0.2)\n",
    "print ((X_train.shape),(y_train.shape),(X_test.shape),(y_test.shape))"
   ]
  },
  {
   "cell_type": "code",
   "execution_count": 13,
   "metadata": {
    "ExecuteTime": {
     "end_time": "2020-06-04T12:18:35.161618Z",
     "start_time": "2020-06-04T12:18:35.071767Z"
    }
   },
   "outputs": [],
   "source": [
    "X_train = list(X_train)"
   ]
  },
  {
   "cell_type": "code",
   "execution_count": 14,
   "metadata": {
    "ExecuteTime": {
     "end_time": "2020-06-04T12:18:35.254815Z",
     "start_time": "2020-06-04T12:18:35.162791Z"
    }
   },
   "outputs": [],
   "source": [
    "texts = [line for line in X_train] "
   ]
  },
  {
   "cell_type": "code",
   "execution_count": 15,
   "metadata": {
    "ExecuteTime": {
     "end_time": "2020-06-04T12:18:38.442295Z",
     "start_time": "2020-06-04T12:18:35.255812Z"
    }
   },
   "outputs": [],
   "source": [
    "tokenizer = Tokenizer(num_words=MAX_NB_WORDS)\n",
    "tokenizer.fit_on_texts(texts)"
   ]
  },
  {
   "cell_type": "code",
   "execution_count": 16,
   "metadata": {
    "ExecuteTime": {
     "end_time": "2020-06-04T12:18:40.241870Z",
     "start_time": "2020-06-04T12:18:38.443534Z"
    }
   },
   "outputs": [
    {
     "name": "stdout",
     "output_type": "stream",
     "text": [
      "Vocabulary size: 90265\n"
     ]
    }
   ],
   "source": [
    "sequences = tokenizer.texts_to_sequences(texts)\n",
    "word_index = tokenizer.word_index\n",
    "print('Vocabulary size:', len(word_index))"
   ]
  },
  {
   "cell_type": "code",
   "execution_count": 17,
   "metadata": {
    "ExecuteTime": {
     "end_time": "2020-06-04T12:18:40.401113Z",
     "start_time": "2020-06-04T12:18:40.243849Z"
    }
   },
   "outputs": [
    {
     "name": "stdout",
     "output_type": "stream",
     "text": [
      "Shape of data tensor: (6940, 200)\n",
      "Shape of label tensor: (6940, 16)\n"
     ]
    }
   ],
   "source": [
    "data = pad_sequences(sequences, padding = 'post', maxlen = MAX_SEQUENCE_LENGTH)\n",
    "\n",
    "print('Shape of data tensor:', data.shape)\n",
    "print('Shape of label tensor:', y_train.shape)"
   ]
  },
  {
   "cell_type": "code",
   "execution_count": 18,
   "metadata": {
    "ExecuteTime": {
     "end_time": "2020-06-04T12:18:40.411614Z",
     "start_time": "2020-06-04T12:18:40.402617Z"
    }
   },
   "outputs": [],
   "source": [
    "indices = np.arange(data.shape[0])\n",
    "np.random.shuffle(indices)\n",
    "data = data[indices]\n",
    "labels = y_train[indices]"
   ]
  },
  {
   "cell_type": "code",
   "execution_count": 19,
   "metadata": {
    "ExecuteTime": {
     "end_time": "2020-06-04T12:18:40.493773Z",
     "start_time": "2020-06-04T12:18:40.413609Z"
    }
   },
   "outputs": [
    {
     "name": "stdout",
     "output_type": "stream",
     "text": [
      "(5552, 200) (5552, 16) (1388, 200) (1388, 16)\n"
     ]
    }
   ],
   "source": [
    "num_validation_samples = int(VALIDATION_SPLIT*data.shape[0])\n",
    "x_train = data[: -num_validation_samples]\n",
    "y_train = labels[: -num_validation_samples]\n",
    "x_val = data[-num_validation_samples: ]\n",
    "y_val = labels[-num_validation_samples: ]\n",
    "\n",
    "print ((x_train.shape),(y_train.shape),(x_val.shape),(y_val.shape))"
   ]
  },
  {
   "cell_type": "code",
   "execution_count": 20,
   "metadata": {
    "ExecuteTime": {
     "end_time": "2020-06-04T12:18:40.605288Z",
     "start_time": "2020-06-04T12:18:40.495773Z"
    }
   },
   "outputs": [
    {
     "name": "stdout",
     "output_type": "stream",
     "text": [
      "Number of entries in each category:\n",
      "training:  [ 114  454  154  439   27   35   22   60  936 1183  713  794   98  168\n",
      "  135  220]\n",
      "validation:  [ 35  96  33 111   8   5  10  14 246 279 185 217  23  50  26  50]\n"
     ]
    }
   ],
   "source": [
    "print('Number of entries in each category:')\n",
    "print('training: ', y_train.sum(axis=0))\n",
    "print('validation: ', y_val.sum(axis=0))"
   ]
  },
  {
   "cell_type": "code",
   "execution_count": 21,
   "metadata": {
    "ExecuteTime": {
     "end_time": "2020-06-04T12:18:40.699039Z",
     "start_time": "2020-06-04T12:18:40.607283Z"
    }
   },
   "outputs": [
    {
     "name": "stdout",
     "output_type": "stream",
     "text": [
      "Tokenized sentences: \n",
      " [   27   147   128 52220  4434   381  2151  1169    97   194  5629    47\n",
      "     6   147  5153   434   625   194  9676   654    24    34   283   903\n",
      "   375    63    64   590  2977   420   129    67  1866  2481  1222   129\n",
      "   247  4725   248  1199    15  2649  1938   169   624 10832  1675   517\n",
      "    72  6212   198  1870   147   157   571    20   107    32    79 12752\n",
      "   115   152  2045    82  6225   189  2179     1    32  2073    16    90\n",
      "     2  2999   305 11192   256   147    51  2188   122   267  7878    82\n",
      "  1670  1202  2188  3489  2073    16   551   585   260   295    27  1215\n",
      "  1970    64  1140  4895   260  1678 38428   464  1464    85   774    74\n",
      "   705   542 38428    27   283  9881   239 25128   260  1346   260   712\n",
      "   101  2306  2067   116  1977     6   293  1678   101  2067  7307   260\n",
      "   712 24744  2000   359     6  4086   292   235 12962   624  6645    54\n",
      "    75   114    73  3389    48 27969   520   624  2022   624   105 52221\n",
      "  6645    75   114    73 38426   175  2067   101   147  4279  2056     1\n",
      "   268     6   293   821   606   312   360   559    21  5929    78   140\n",
      "  1333   172    65    57  1282   461    72   227  3071  1115    92   477\n",
      "  2181  5683   227     4  2181   202   176  1434]\n",
      "One hot label: \n",
      " [1 0 0 0 0 0 0 0 0 0 0 0 0 0 0 0]\n"
     ]
    }
   ],
   "source": [
    "print('Tokenized sentences: \\n', data[10])\n",
    "print('One hot label: \\n', labels[10])"
   ]
  },
  {
   "cell_type": "code",
   "execution_count": 22,
   "metadata": {
    "ExecuteTime": {
     "end_time": "2020-06-04T12:18:56.674354Z",
     "start_time": "2020-06-04T12:18:40.700259Z"
    }
   },
   "outputs": [
    {
     "name": "stdout",
     "output_type": "stream",
     "text": [
      "Loading GloVe from: glove_data/glove.6B/glove.6B.100d.txt ...Done.\n",
      " Proceeding with Embedding Matrix... Completed!\n"
     ]
    }
   ],
   "source": [
    "embeddings_index = {}\n",
    "f = open(GLOVE_DIR, encoding=\"UTF-8\")\n",
    "print('Loading GloVe from:', GLOVE_DIR,'...', end='')\n",
    "for line in f:\n",
    "    values = line.split()\n",
    "    word = values[0]\n",
    "    embeddings_index[word] = np.asarray(values[1:], dtype='float32')\n",
    "f.close()\n",
    "print(\"Done.\\n Proceeding with Embedding Matrix...\", end=\"\")\n",
    "\n",
    "embedding_matrix = np.random.random((len(word_index) + 1, EMBEDDING_DIM))\n",
    "for word, i in word_index.items():\n",
    "    embedding_vector = embeddings_index.get(word)\n",
    "    if embedding_vector is not None:\n",
    "        embedding_matrix[i] = embedding_vector\n",
    "print(\" Completed!\")"
   ]
  },
  {
   "cell_type": "code",
   "execution_count": 23,
   "metadata": {
    "ExecuteTime": {
     "end_time": "2020-06-04T12:18:56.963790Z",
     "start_time": "2020-06-04T12:18:56.678339Z"
    }
   },
   "outputs": [
    {
     "name": "stdout",
     "output_type": "stream",
     "text": [
      "WARNING:tensorflow:From C:\\Users\\Miguel\\Anaconda3\\lib\\site-packages\\tensorflow\\python\\ops\\resource_variable_ops.py:435: colocate_with (from tensorflow.python.framework.ops) is deprecated and will be removed in a future version.\n",
      "Instructions for updating:\n",
      "Colocations handled automatically by placer.\n"
     ]
    }
   ],
   "source": [
    "sequence_input = Input(shape=(MAX_SEQUENCE_LENGTH,), dtype='int32')\n",
    "embedding_layer = Embedding(len(word_index) + 1,\n",
    "                           EMBEDDING_DIM,\n",
    "                           weights = [embedding_matrix],\n",
    "                           input_length = MAX_SEQUENCE_LENGTH,\n",
    "                           trainable=False,\n",
    "                           name = 'embeddings')\n",
    "embedded_sequences = embedding_layer(sequence_input)"
   ]
  },
  {
   "cell_type": "code",
   "execution_count": 24,
   "metadata": {
    "ExecuteTime": {
     "end_time": "2020-06-04T12:18:57.619714Z",
     "start_time": "2020-06-04T12:18:56.965829Z"
    }
   },
   "outputs": [],
   "source": [
    "x = LSTM(60, return_sequences=True,name='lstm_layer')(embedded_sequences)\n",
    "x = GlobalMaxPool1D()(x)\n",
    "x = Dropout(0.1)(x)\n",
    "x = Dense(50, activation=\"relu\")(x)\n",
    "x = Dropout(0.1)(x)\n",
    "preds = Dense(16, activation=\"softmax\")(x)"
   ]
  },
  {
   "cell_type": "code",
   "execution_count": 25,
   "metadata": {
    "ExecuteTime": {
     "end_time": "2020-06-04T12:18:57.871407Z",
     "start_time": "2020-06-04T12:18:57.620971Z"
    }
   },
   "outputs": [
    {
     "name": "stdout",
     "output_type": "stream",
     "text": [
      "Model: \"model_1\"\n",
      "_________________________________________________________________\n",
      "Layer (type)                 Output Shape              Param #   \n",
      "=================================================================\n",
      "input_1 (InputLayer)         (None, 200)               0         \n",
      "_________________________________________________________________\n",
      "embeddings (Embedding)       (None, 200, 100)          9026600   \n",
      "_________________________________________________________________\n",
      "lstm_layer (LSTM)            (None, 200, 60)           38640     \n",
      "_________________________________________________________________\n",
      "global_max_pooling1d_1 (Glob (None, 60)                0         \n",
      "_________________________________________________________________\n",
      "dropout_1 (Dropout)          (None, 60)                0         \n",
      "_________________________________________________________________\n",
      "dense_1 (Dense)              (None, 50)                3050      \n",
      "_________________________________________________________________\n",
      "dropout_2 (Dropout)          (None, 50)                0         \n",
      "_________________________________________________________________\n",
      "dense_2 (Dense)              (None, 16)                816       \n",
      "=================================================================\n",
      "Total params: 9,069,106\n",
      "Trainable params: 42,506\n",
      "Non-trainable params: 9,026,600\n",
      "_________________________________________________________________\n"
     ]
    }
   ],
   "source": [
    "opt = keras.optimizers.Adam()\n",
    "\n",
    "model = Model(sequence_input, preds)\n",
    "model.compile(loss = 'categorical_crossentropy',\n",
    "             optimizer=opt,\n",
    "             weighted_metrics=['accuracy', keras.metrics.Precision(), keras.metrics.Recall()])\n",
    "model.summary()"
   ]
  },
  {
   "cell_type": "code",
   "execution_count": 26,
   "metadata": {
    "ExecuteTime": {
     "end_time": "2020-06-04T12:21:08.812960Z",
     "start_time": "2020-06-04T12:18:57.873465Z"
    }
   },
   "outputs": [
    {
     "name": "stdout",
     "output_type": "stream",
     "text": [
      "Training progress:\n",
      "WARNING:tensorflow:From C:\\Users\\Miguel\\Anaconda3\\lib\\site-packages\\tensorflow\\python\\ops\\math_ops.py:3066: to_int32 (from tensorflow.python.ops.math_ops) is deprecated and will be removed in a future version.\n",
      "Instructions for updating:\n",
      "Use tf.cast instead.\n",
      "WARNING:tensorflow:From C:\\Users\\Miguel\\Anaconda3\\lib\\site-packages\\tensorflow\\python\\ops\\math_grad.py:102: div (from tensorflow.python.ops.math_ops) is deprecated and will be removed in a future version.\n",
      "Instructions for updating:\n",
      "Deprecated in favor of operator or tf.math.divide.\n",
      "Train on 5552 samples, validate on 1388 samples\n",
      "Epoch 1/10\n",
      " - 13s - loss: 5.8547 - accuracy: 0.1413 - precision_1: 0.0000e+00 - recall_1: 0.0000e+00 - val_loss: 2.2851 - val_accuracy: 0.2529 - val_precision_1: 0.0000e+00 - val_recall_1: 0.0000e+00\n",
      "Epoch 2/10\n",
      " - 13s - loss: 5.6190 - accuracy: 0.2036 - precision_1: 0.0000e+00 - recall_1: 0.0000e+00 - val_loss: 2.2486 - val_accuracy: 0.2997 - val_precision_1: 0.0000e+00 - val_recall_1: 0.0000e+00\n",
      "Epoch 3/10\n",
      " - 13s - loss: 5.4052 - accuracy: 0.2424 - precision_1: 0.6712 - recall_1: 0.0047 - val_loss: 2.1033 - val_accuracy: 0.3869 - val_precision_1: 0.7143 - val_recall_1: 0.0036\n",
      "Epoch 4/10\n",
      " - 13s - loss: 5.1426 - accuracy: 0.2789 - precision_1: 0.6541 - recall_1: 0.0222 - val_loss: 2.0161 - val_accuracy: 0.3761 - val_precision_1: 0.6034 - val_recall_1: 0.0504\n",
      "Epoch 5/10\n",
      " - 13s - loss: 4.8447 - accuracy: 0.3451 - precision_1: 0.6984 - recall_1: 0.0561 - val_loss: 1.9043 - val_accuracy: 0.4510 - val_precision_1: 0.7192 - val_recall_1: 0.1052\n",
      "Epoch 6/10\n",
      " - 13s - loss: 4.5135 - accuracy: 0.3870 - precision_1: 0.6819 - recall_1: 0.1140 - val_loss: 1.8031 - val_accuracy: 0.4712 - val_precision_1: 0.7254 - val_recall_1: 0.1484\n",
      "Epoch 7/10\n",
      " - 13s - loss: 4.2877 - accuracy: 0.4152 - precision_1: 0.6712 - recall_1: 0.1600 - val_loss: 1.7770 - val_accuracy: 0.4625 - val_precision_1: 0.6846 - val_recall_1: 0.1830\n",
      "Epoch 8/10\n",
      " - 13s - loss: 4.1014 - accuracy: 0.4372 - precision_1: 0.6944 - recall_1: 0.2017 - val_loss: 1.7248 - val_accuracy: 0.4741 - val_precision_1: 0.7239 - val_recall_1: 0.2097\n",
      "Epoch 9/10\n",
      " - 13s - loss: 3.8964 - accuracy: 0.4578 - precision_1: 0.7201 - recall_1: 0.2300 - val_loss: 1.6892 - val_accuracy: 0.4813 - val_precision_1: 0.6839 - val_recall_1: 0.2947\n",
      "Epoch 10/10\n",
      " - 13s - loss: 3.7299 - accuracy: 0.4899 - precision_1: 0.7281 - recall_1: 0.2538 - val_loss: 1.7504 - val_accuracy: 0.4683 - val_precision_1: 0.7056 - val_recall_1: 0.2089\n"
     ]
    }
   ],
   "source": [
    "print('Training progress:')\n",
    "history = model.fit(x_train, y_train, epochs = 10, batch_size=32, validation_data=(x_val, y_val), verbose=2, \n",
    "                    class_weight=class_weights)\n",
    "keras.backend.clear_session()"
   ]
  },
  {
   "cell_type": "code",
   "execution_count": 27,
   "metadata": {
    "ExecuteTime": {
     "end_time": "2020-06-04T12:21:08.824792Z",
     "start_time": "2020-06-04T12:21:08.814955Z"
    }
   },
   "outputs": [],
   "source": [
    "hist_df = pd.DataFrame(history.history) \n",
    "\n",
    "hist_df.to_csv(\"data/output_csv/types_hist_df.csv\")"
   ]
  },
  {
   "cell_type": "code",
   "execution_count": 28,
   "metadata": {
    "ExecuteTime": {
     "end_time": "2020-06-04T12:21:08.996989Z",
     "start_time": "2020-06-04T12:21:08.826655Z"
    }
   },
   "outputs": [],
   "source": [
    "types_hist_df = pd.read_csv(\"data/output_csv/types_hist_df.csv\")\n",
    "types_hist_df.drop([\"Unnamed: 0\"], axis=1, inplace=True)"
   ]
  },
  {
   "cell_type": "code",
   "execution_count": 29,
   "metadata": {
    "ExecuteTime": {
     "end_time": "2020-06-04T12:21:09.111704Z",
     "start_time": "2020-06-04T12:21:08.998013Z"
    }
   },
   "outputs": [],
   "source": [
    "types_hist_df['val_f1'] = ((types_hist_df[\"val_precision_1\"]*types_hist_df[\"val_recall_1\"])/\n",
    "                           (types_hist_df[\"val_precision_1\"]+types_hist_df[\"val_recall_1\"]))"
   ]
  },
  {
   "cell_type": "code",
   "execution_count": 30,
   "metadata": {
    "ExecuteTime": {
     "end_time": "2020-06-04T12:21:09.227692Z",
     "start_time": "2020-06-04T12:21:09.112840Z"
    }
   },
   "outputs": [
    {
     "data": {
      "text/html": [
       "<div>\n",
       "<style scoped>\n",
       "    .dataframe tbody tr th:only-of-type {\n",
       "        vertical-align: middle;\n",
       "    }\n",
       "\n",
       "    .dataframe tbody tr th {\n",
       "        vertical-align: top;\n",
       "    }\n",
       "\n",
       "    .dataframe thead th {\n",
       "        text-align: right;\n",
       "    }\n",
       "</style>\n",
       "<table border=\"1\" class=\"dataframe\">\n",
       "  <thead>\n",
       "    <tr style=\"text-align: right;\">\n",
       "      <th></th>\n",
       "      <th>val_loss</th>\n",
       "      <th>loss</th>\n",
       "      <th>val_accuracy</th>\n",
       "      <th>accuracy</th>\n",
       "      <th>val_precision_1</th>\n",
       "      <th>precision_1</th>\n",
       "      <th>val_recall_1</th>\n",
       "      <th>recall_1</th>\n",
       "      <th>val_f1</th>\n",
       "    </tr>\n",
       "  </thead>\n",
       "  <tbody>\n",
       "    <tr>\n",
       "      <th>0</th>\n",
       "      <td>2.285122</td>\n",
       "      <td>5.854738</td>\n",
       "      <td>0.252882</td>\n",
       "      <td>0.141347</td>\n",
       "      <td>0.000000</td>\n",
       "      <td>0.000000</td>\n",
       "      <td>0.000000</td>\n",
       "      <td>0.000000</td>\n",
       "      <td>NaN</td>\n",
       "    </tr>\n",
       "    <tr>\n",
       "      <th>1</th>\n",
       "      <td>2.248610</td>\n",
       "      <td>5.619026</td>\n",
       "      <td>0.299712</td>\n",
       "      <td>0.203618</td>\n",
       "      <td>0.000000</td>\n",
       "      <td>0.000000</td>\n",
       "      <td>0.000000</td>\n",
       "      <td>0.000000</td>\n",
       "      <td>NaN</td>\n",
       "    </tr>\n",
       "    <tr>\n",
       "      <th>2</th>\n",
       "      <td>2.103251</td>\n",
       "      <td>5.405204</td>\n",
       "      <td>0.386888</td>\n",
       "      <td>0.242368</td>\n",
       "      <td>0.714286</td>\n",
       "      <td>0.671247</td>\n",
       "      <td>0.003602</td>\n",
       "      <td>0.004749</td>\n",
       "      <td>0.003584</td>\n",
       "    </tr>\n",
       "    <tr>\n",
       "      <th>3</th>\n",
       "      <td>2.016147</td>\n",
       "      <td>5.142599</td>\n",
       "      <td>0.376081</td>\n",
       "      <td>0.278860</td>\n",
       "      <td>0.603448</td>\n",
       "      <td>0.654125</td>\n",
       "      <td>0.050432</td>\n",
       "      <td>0.022229</td>\n",
       "      <td>0.046543</td>\n",
       "    </tr>\n",
       "    <tr>\n",
       "      <th>4</th>\n",
       "      <td>1.904330</td>\n",
       "      <td>4.844652</td>\n",
       "      <td>0.451009</td>\n",
       "      <td>0.345077</td>\n",
       "      <td>0.719212</td>\n",
       "      <td>0.698353</td>\n",
       "      <td>0.105187</td>\n",
       "      <td>0.056147</td>\n",
       "      <td>0.091766</td>\n",
       "    </tr>\n",
       "    <tr>\n",
       "      <th>5</th>\n",
       "      <td>1.803093</td>\n",
       "      <td>4.513499</td>\n",
       "      <td>0.471182</td>\n",
       "      <td>0.387046</td>\n",
       "      <td>0.725352</td>\n",
       "      <td>0.681921</td>\n",
       "      <td>0.148415</td>\n",
       "      <td>0.113993</td>\n",
       "      <td>0.123206</td>\n",
       "    </tr>\n",
       "    <tr>\n",
       "      <th>6</th>\n",
       "      <td>1.777016</td>\n",
       "      <td>4.287656</td>\n",
       "      <td>0.462536</td>\n",
       "      <td>0.415177</td>\n",
       "      <td>0.684636</td>\n",
       "      <td>0.671154</td>\n",
       "      <td>0.182997</td>\n",
       "      <td>0.160014</td>\n",
       "      <td>0.144400</td>\n",
       "    </tr>\n",
       "    <tr>\n",
       "      <th>7</th>\n",
       "      <td>1.724843</td>\n",
       "      <td>4.101380</td>\n",
       "      <td>0.474063</td>\n",
       "      <td>0.437199</td>\n",
       "      <td>0.723881</td>\n",
       "      <td>0.694416</td>\n",
       "      <td>0.209654</td>\n",
       "      <td>0.201708</td>\n",
       "      <td>0.162570</td>\n",
       "    </tr>\n",
       "    <tr>\n",
       "      <th>8</th>\n",
       "      <td>1.689161</td>\n",
       "      <td>3.896417</td>\n",
       "      <td>0.481268</td>\n",
       "      <td>0.457848</td>\n",
       "      <td>0.683946</td>\n",
       "      <td>0.720135</td>\n",
       "      <td>0.294669</td>\n",
       "      <td>0.229980</td>\n",
       "      <td>0.205942</td>\n",
       "    </tr>\n",
       "    <tr>\n",
       "      <th>9</th>\n",
       "      <td>1.750420</td>\n",
       "      <td>3.729943</td>\n",
       "      <td>0.468300</td>\n",
       "      <td>0.489933</td>\n",
       "      <td>0.705596</td>\n",
       "      <td>0.728107</td>\n",
       "      <td>0.208934</td>\n",
       "      <td>0.253802</td>\n",
       "      <td>0.161201</td>\n",
       "    </tr>\n",
       "  </tbody>\n",
       "</table>\n",
       "</div>"
      ],
      "text/plain": [
       "   val_loss      loss  val_accuracy  accuracy  val_precision_1  precision_1  \\\n",
       "0  2.285122  5.854738      0.252882  0.141347         0.000000     0.000000   \n",
       "1  2.248610  5.619026      0.299712  0.203618         0.000000     0.000000   \n",
       "2  2.103251  5.405204      0.386888  0.242368         0.714286     0.671247   \n",
       "3  2.016147  5.142599      0.376081  0.278860         0.603448     0.654125   \n",
       "4  1.904330  4.844652      0.451009  0.345077         0.719212     0.698353   \n",
       "5  1.803093  4.513499      0.471182  0.387046         0.725352     0.681921   \n",
       "6  1.777016  4.287656      0.462536  0.415177         0.684636     0.671154   \n",
       "7  1.724843  4.101380      0.474063  0.437199         0.723881     0.694416   \n",
       "8  1.689161  3.896417      0.481268  0.457848         0.683946     0.720135   \n",
       "9  1.750420  3.729943      0.468300  0.489933         0.705596     0.728107   \n",
       "\n",
       "   val_recall_1  recall_1    val_f1  \n",
       "0      0.000000  0.000000       NaN  \n",
       "1      0.000000  0.000000       NaN  \n",
       "2      0.003602  0.004749  0.003584  \n",
       "3      0.050432  0.022229  0.046543  \n",
       "4      0.105187  0.056147  0.091766  \n",
       "5      0.148415  0.113993  0.123206  \n",
       "6      0.182997  0.160014  0.144400  \n",
       "7      0.209654  0.201708  0.162570  \n",
       "8      0.294669  0.229980  0.205942  \n",
       "9      0.208934  0.253802  0.161201  "
      ]
     },
     "execution_count": 30,
     "metadata": {},
     "output_type": "execute_result"
    }
   ],
   "source": [
    "types_hist_df = types_hist_df[['val_loss', 'loss', 'val_accuracy', 'accuracy', 'val_precision_1', 'precision_1',\n",
    "                  'val_recall_1', 'recall_1', 'val_f1']]\n",
    "types_hist_df"
   ]
  },
  {
   "cell_type": "code",
   "execution_count": 60,
   "metadata": {
    "ExecuteTime": {
     "end_time": "2020-06-04T12:40:00.553257Z",
     "start_time": "2020-06-04T12:40:00.206356Z"
    }
   },
   "outputs": [
    {
     "data": {
      "image/png": "[encoded data removed]",
      "text/plain": [
       "<Figure size 1296x720 with 1 Axes>"
      ]
     },
     "metadata": {
      "needs_background": "light"
     },
     "output_type": "display_data"
    }
   ],
   "source": [
    "plt.figure(figsize=(18,10))\n",
    "plt.plot(types_hist_df[['val_loss', 'val_accuracy', 'val_precision_1', 'val_recall_1', 'val_f1']])\n",
    "\n",
    "plt.title('Training and Validation: Types')\n",
    "plt.xlabel('Epochs')\n",
    "plt.ylabel('Metrics')\n",
    "plt.legend(['val_loss', 'val_accuracy', 'val_precision_1', 'val_recall_1', 'val_f1'])\n",
    "plt.savefig(\"images/output_images/types_history.png\")\n",
    "\n",
    "sns.set_context(\"talk\")\n",
    "plt.show()"
   ]
  },
  {
   "cell_type": "markdown",
   "metadata": {},
   "source": [
    "### Using dimensions"
   ]
  },
  {
   "cell_type": "markdown",
   "metadata": {},
   "source": [
    "<img src=\"https://www.nicepng.com/png/detail/148-1486992_discover-the-most-powerful-ways-to-automate-your.png\" width=\"1000\"> "
   ]
  },
  {
   "cell_type": "code",
   "execution_count": 32,
   "metadata": {
    "ExecuteTime": {
     "end_time": "2020-06-04T12:21:10.501350Z",
     "start_time": "2020-06-04T12:21:10.498358Z"
    }
   },
   "outputs": [],
   "source": [
    "#raise SystemExit(\"Here it comes another quite consuming memory process. You should better not start it till everything else has itereated propperly\")"
   ]
  },
  {
   "cell_type": "code",
   "execution_count": 88,
   "metadata": {
    "ExecuteTime": {
     "end_time": "2020-06-04T12:45:00.227296Z",
     "start_time": "2020-06-04T12:45:00.068953Z"
    }
   },
   "outputs": [],
   "source": [
    "mbti_df_clean = pd.read_pickle(\"data/output_pickles/mbti_clean_text.pkl\")\n",
    "result_umap_dimensions  = pd.read_csv(\"data/output_csv/result_umap_dimensions.csv\")"
   ]
  },
  {
   "cell_type": "code",
   "execution_count": 89,
   "metadata": {
    "ExecuteTime": {
     "end_time": "2020-06-04T12:45:02.296877Z",
     "start_time": "2020-06-04T12:45:02.285883Z"
    }
   },
   "outputs": [
    {
     "data": {
      "text/html": [
       "<div>\n",
       "<style scoped>\n",
       "    .dataframe tbody tr th:only-of-type {\n",
       "        vertical-align: middle;\n",
       "    }\n",
       "\n",
       "    .dataframe tbody tr th {\n",
       "        vertical-align: top;\n",
       "    }\n",
       "\n",
       "    .dataframe thead th {\n",
       "        text-align: right;\n",
       "    }\n",
       "</style>\n",
       "<table border=\"1\" class=\"dataframe\">\n",
       "  <thead>\n",
       "    <tr style=\"text-align: right;\">\n",
       "      <th></th>\n",
       "      <th>type</th>\n",
       "      <th>posts</th>\n",
       "      <th>type_clean</th>\n",
       "      <th>posts_clean</th>\n",
       "      <th>type_lemma</th>\n",
       "      <th>posts_lemma</th>\n",
       "    </tr>\n",
       "  </thead>\n",
       "  <tbody>\n",
       "    <tr>\n",
       "      <th>0</th>\n",
       "      <td>infj</td>\n",
       "      <td>'http://www.youtube.com/watch?v=qsXHcwe3krw|||...</td>\n",
       "      <td>infj</td>\n",
       "      <td>intj moments sportscenter plays pranks life ch...</td>\n",
       "      <td>infj</td>\n",
       "      <td>intj moment sportscent play prank life change ...</td>\n",
       "    </tr>\n",
       "    <tr>\n",
       "      <th>1</th>\n",
       "      <td>entp</td>\n",
       "      <td>'I'm finding the lack of me in these posts ver...</td>\n",
       "      <td>entp</td>\n",
       "      <td>finding lack posts alarming sex boring positio...</td>\n",
       "      <td>entp</td>\n",
       "      <td>find lack post alarming sex bore position exam...</td>\n",
       "    </tr>\n",
       "    <tr>\n",
       "      <th>2</th>\n",
       "      <td>intp</td>\n",
       "      <td>'Good one  _____   https://www.youtube.com/wat...</td>\n",
       "      <td>intp</td>\n",
       "      <td>good course know blessing curse absolutely pos...</td>\n",
       "      <td>intp</td>\n",
       "      <td>good course know blessing curse absolutely pos...</td>\n",
       "    </tr>\n",
       "    <tr>\n",
       "      <th>3</th>\n",
       "      <td>intj</td>\n",
       "      <td>'Dear INTP,   I enjoyed our conversation the o...</td>\n",
       "      <td>intj</td>\n",
       "      <td>dear intp enjoyed conversation day esoteric ga...</td>\n",
       "      <td>intj</td>\n",
       "      <td>dear intp enjoy conversation day esoteric gabb...</td>\n",
       "    </tr>\n",
       "    <tr>\n",
       "      <th>4</th>\n",
       "      <td>entj</td>\n",
       "      <td>'You're fired.|||That's another silly misconce...</td>\n",
       "      <td>entj</td>\n",
       "      <td>fired silly misconception approaching logicall...</td>\n",
       "      <td>entj</td>\n",
       "      <td>fire silly misconception approach logically go...</td>\n",
       "    </tr>\n",
       "  </tbody>\n",
       "</table>\n",
       "</div>"
      ],
      "text/plain": [
       "   type                                              posts type_clean  \\\n",
       "0  infj  'http://www.youtube.com/watch?v=qsXHcwe3krw|||...       infj   \n",
       "1  entp  'I'm finding the lack of me in these posts ver...       entp   \n",
       "2  intp  'Good one  _____   https://www.youtube.com/wat...       intp   \n",
       "3  intj  'Dear INTP,   I enjoyed our conversation the o...       intj   \n",
       "4  entj  'You're fired.|||That's another silly misconce...       entj   \n",
       "\n",
       "                                         posts_clean type_lemma  \\\n",
       "0  intj moments sportscenter plays pranks life ch...       infj   \n",
       "1  finding lack posts alarming sex boring positio...       entp   \n",
       "2  good course know blessing curse absolutely pos...       intp   \n",
       "3  dear intp enjoyed conversation day esoteric ga...       intj   \n",
       "4  fired silly misconception approaching logicall...       entj   \n",
       "\n",
       "                                         posts_lemma  \n",
       "0  intj moment sportscent play prank life change ...  \n",
       "1  find lack post alarming sex bore position exam...  \n",
       "2  good course know blessing curse absolutely pos...  \n",
       "3  dear intp enjoy conversation day esoteric gabb...  \n",
       "4  fire silly misconception approach logically go...  "
      ]
     },
     "execution_count": 89,
     "metadata": {},
     "output_type": "execute_result"
    }
   ],
   "source": [
    "mbti_df_clean.head()"
   ]
  },
  {
   "cell_type": "code",
   "execution_count": 90,
   "metadata": {
    "ExecuteTime": {
     "end_time": "2020-06-04T12:45:04.152015Z",
     "start_time": "2020-06-04T12:45:04.140991Z"
    }
   },
   "outputs": [
    {
     "data": {
      "text/html": [
       "<div>\n",
       "<style scoped>\n",
       "    .dataframe tbody tr th:only-of-type {\n",
       "        vertical-align: middle;\n",
       "    }\n",
       "\n",
       "    .dataframe tbody tr th {\n",
       "        vertical-align: top;\n",
       "    }\n",
       "\n",
       "    .dataframe thead th {\n",
       "        text-align: right;\n",
       "    }\n",
       "</style>\n",
       "<table border=\"1\" class=\"dataframe\">\n",
       "  <thead>\n",
       "    <tr style=\"text-align: right;\">\n",
       "      <th></th>\n",
       "      <th>Unnamed: 0</th>\n",
       "      <th>type</th>\n",
       "      <th>words_per_comment</th>\n",
       "      <th>variance_of_word_counts</th>\n",
       "      <th>i-e</th>\n",
       "      <th>n-s</th>\n",
       "      <th>t-f</th>\n",
       "      <th>j-p</th>\n",
       "      <th>0</th>\n",
       "      <th>1</th>\n",
       "    </tr>\n",
       "  </thead>\n",
       "  <tbody>\n",
       "    <tr>\n",
       "      <th>0</th>\n",
       "      <td>0</td>\n",
       "      <td>infj</td>\n",
       "      <td>11.12</td>\n",
       "      <td>135.2900</td>\n",
       "      <td>0</td>\n",
       "      <td>0</td>\n",
       "      <td>1</td>\n",
       "      <td>0</td>\n",
       "      <td>3.910143</td>\n",
       "      <td>7.477874</td>\n",
       "    </tr>\n",
       "    <tr>\n",
       "      <th>1</th>\n",
       "      <td>1</td>\n",
       "      <td>entp</td>\n",
       "      <td>23.40</td>\n",
       "      <td>187.4756</td>\n",
       "      <td>1</td>\n",
       "      <td>0</td>\n",
       "      <td>0</td>\n",
       "      <td>1</td>\n",
       "      <td>3.938040</td>\n",
       "      <td>5.939636</td>\n",
       "    </tr>\n",
       "    <tr>\n",
       "      <th>2</th>\n",
       "      <td>2</td>\n",
       "      <td>intp</td>\n",
       "      <td>16.72</td>\n",
       "      <td>180.6900</td>\n",
       "      <td>0</td>\n",
       "      <td>0</td>\n",
       "      <td>0</td>\n",
       "      <td>1</td>\n",
       "      <td>3.740153</td>\n",
       "      <td>5.486389</td>\n",
       "    </tr>\n",
       "    <tr>\n",
       "      <th>3</th>\n",
       "      <td>3</td>\n",
       "      <td>intj</td>\n",
       "      <td>21.28</td>\n",
       "      <td>181.8324</td>\n",
       "      <td>0</td>\n",
       "      <td>0</td>\n",
       "      <td>0</td>\n",
       "      <td>0</td>\n",
       "      <td>5.415134</td>\n",
       "      <td>7.452929</td>\n",
       "    </tr>\n",
       "    <tr>\n",
       "      <th>4</th>\n",
       "      <td>4</td>\n",
       "      <td>entj</td>\n",
       "      <td>19.34</td>\n",
       "      <td>196.4576</td>\n",
       "      <td>1</td>\n",
       "      <td>0</td>\n",
       "      <td>0</td>\n",
       "      <td>0</td>\n",
       "      <td>2.083198</td>\n",
       "      <td>7.512875</td>\n",
       "    </tr>\n",
       "  </tbody>\n",
       "</table>\n",
       "</div>"
      ],
      "text/plain": [
       "   Unnamed: 0  type  words_per_comment  variance_of_word_counts  i-e  n-s  \\\n",
       "0           0  infj              11.12                 135.2900    0    0   \n",
       "1           1  entp              23.40                 187.4756    1    0   \n",
       "2           2  intp              16.72                 180.6900    0    0   \n",
       "3           3  intj              21.28                 181.8324    0    0   \n",
       "4           4  entj              19.34                 196.4576    1    0   \n",
       "\n",
       "   t-f  j-p         0         1  \n",
       "0    1    0  3.910143  7.477874  \n",
       "1    0    1  3.938040  5.939636  \n",
       "2    0    1  3.740153  5.486389  \n",
       "3    0    0  5.415134  7.452929  \n",
       "4    0    0  2.083198  7.512875  "
      ]
     },
     "execution_count": 90,
     "metadata": {},
     "output_type": "execute_result"
    }
   ],
   "source": [
    "result_umap_dimensions.head()"
   ]
  },
  {
   "cell_type": "code",
   "execution_count": 91,
   "metadata": {
    "ExecuteTime": {
     "end_time": "2020-06-04T12:45:06.133702Z",
     "start_time": "2020-06-04T12:45:06.125750Z"
    },
    "cell_style": "center"
   },
   "outputs": [
    {
     "name": "stdout",
     "output_type": "stream",
     "text": [
      "Total: 8675\n",
      "    i-e: 1999 (23.04% of total)\n",
      "\n",
      "Total: 8675\n",
      "    n-s: 1197 (13.80% of total)\n",
      "\n",
      "Total: 8675\n",
      "    t-f: 4694 (54.11% of total)\n",
      "\n",
      "Total: 8675\n",
      "    j-p: 5241 (60.41% of total)\n",
      "\n"
     ]
    }
   ],
   "source": [
    "neg, pos = np.bincount(result_umap_dimensions[\"i-e\"])\n",
    "total = neg + pos\n",
    "print('Total: {}\\n    i-e: {} ({:.2f}% of total)\\n'.format(total, pos, 100 * pos / total))\n",
    "\n",
    "neg, pos = np.bincount(result_umap_dimensions[\"n-s\"])\n",
    "total = neg + pos\n",
    "print('Total: {}\\n    n-s: {} ({:.2f}% of total)\\n'.format(total, pos, 100 * pos / total))\n",
    "\n",
    "neg, pos = np.bincount(result_umap_dimensions[\"t-f\"])\n",
    "total = neg + pos\n",
    "print('Total: {}\\n    t-f: {} ({:.2f}% of total)\\n'.format(total, pos, 100 * pos / total))\n",
    "\n",
    "neg, pos = np.bincount(result_umap_dimensions[\"j-p\"])\n",
    "total = neg + pos\n",
    "print('Total: {}\\n    j-p: {} ({:.2f}% of total)\\n'.format(total, pos, 100 * pos / total))\n"
   ]
  },
  {
   "cell_type": "code",
   "execution_count": 92,
   "metadata": {
    "ExecuteTime": {
     "end_time": "2020-06-04T12:45:14.007482Z",
     "start_time": "2020-06-04T12:45:13.987998Z"
    },
    "cell_style": "center"
   },
   "outputs": [],
   "source": [
    "labels_dict = {0: 1999 , 1: 1997, 2: 4694, 3: 5241}"
   ]
  },
  {
   "cell_type": "code",
   "execution_count": 93,
   "metadata": {
    "ExecuteTime": {
     "end_time": "2020-06-04T12:45:16.107974Z",
     "start_time": "2020-06-04T12:45:16.101990Z"
    }
   },
   "outputs": [],
   "source": [
    "def create_class_weight(labels_dict):\n",
    "    total = 8675\n",
    "    keys = labels_dict.keys()\n",
    "    class_weight = dict()\n",
    "\n",
    "    for key in keys:\n",
    "        score = math.log(total/float(labels_dict[key]))\n",
    "        class_weight[key] = score if score > 1.0 else 1.0\n",
    "\n",
    "    return class_weight\n",
    "\n",
    "class_weights = create_class_weight(labels_dict)"
   ]
  },
  {
   "cell_type": "code",
   "execution_count": 94,
   "metadata": {
    "ExecuteTime": {
     "end_time": "2020-06-04T12:45:17.921754Z",
     "start_time": "2020-06-04T12:45:17.917126Z"
    }
   },
   "outputs": [],
   "source": [
    "labels = [\"i-e\", \"n-s\", \"t-f\", \"j-p\"]\n",
    "y = result_umap_dimensions[labels].values\n",
    "X = mbti_df_clean[\"posts_clean\"]"
   ]
  },
  {
   "cell_type": "code",
   "execution_count": 95,
   "metadata": {
    "ExecuteTime": {
     "end_time": "2020-06-04T12:45:19.668413Z",
     "start_time": "2020-06-04T12:45:19.660407Z"
    }
   },
   "outputs": [
    {
     "name": "stdout",
     "output_type": "stream",
     "text": [
      "(6940,) (6940, 4) (1735,) (1735, 4)\n"
     ]
    }
   ],
   "source": [
    "X_train, X_test, y_train, y_test = train_test_split(X, y, random_state=42, test_size=0.2)\n",
    "print ((X_train.shape),(y_train.shape),(X_test.shape),(y_test.shape))"
   ]
  },
  {
   "cell_type": "code",
   "execution_count": 96,
   "metadata": {
    "ExecuteTime": {
     "end_time": "2020-06-04T12:45:21.249013Z",
     "start_time": "2020-06-04T12:45:21.244417Z"
    }
   },
   "outputs": [],
   "source": [
    "X_train = list(X_train)"
   ]
  },
  {
   "cell_type": "code",
   "execution_count": 97,
   "metadata": {
    "ExecuteTime": {
     "end_time": "2020-06-04T12:45:22.896975Z",
     "start_time": "2020-06-04T12:45:22.892975Z"
    }
   },
   "outputs": [],
   "source": [
    "texts = [line for line in X_train] "
   ]
  },
  {
   "cell_type": "code",
   "execution_count": 98,
   "metadata": {
    "ExecuteTime": {
     "end_time": "2020-06-04T12:45:27.319466Z",
     "start_time": "2020-06-04T12:45:24.668893Z"
    }
   },
   "outputs": [],
   "source": [
    "tokenizer = Tokenizer(num_words=MAX_NB_WORDS)\n",
    "tokenizer.fit_on_texts(texts)"
   ]
  },
  {
   "cell_type": "code",
   "execution_count": 99,
   "metadata": {
    "ExecuteTime": {
     "end_time": "2020-06-04T12:45:32.858410Z",
     "start_time": "2020-06-04T12:45:31.204929Z"
    }
   },
   "outputs": [
    {
     "name": "stdout",
     "output_type": "stream",
     "text": [
      "Vocabulary size: 90265\n"
     ]
    }
   ],
   "source": [
    "sequences = tokenizer.texts_to_sequences(texts)\n",
    "word_index = tokenizer.word_index\n",
    "print('Vocabulary size:', len(word_index))"
   ]
  },
  {
   "cell_type": "code",
   "execution_count": 100,
   "metadata": {
    "ExecuteTime": {
     "end_time": "2020-06-04T12:45:35.890268Z",
     "start_time": "2020-06-04T12:45:35.740895Z"
    }
   },
   "outputs": [
    {
     "name": "stdout",
     "output_type": "stream",
     "text": [
      "Shape of data tensor: (6940, 200)\n",
      "Shape of label tensor: (6940, 4)\n"
     ]
    }
   ],
   "source": [
    "data = pad_sequences(sequences, padding = 'post', maxlen = MAX_SEQUENCE_LENGTH)\n",
    "\n",
    "print('Shape of data tensor:', data.shape)\n",
    "print('Shape of label tensor:', y_train.shape)"
   ]
  },
  {
   "cell_type": "code",
   "execution_count": 101,
   "metadata": {
    "ExecuteTime": {
     "end_time": "2020-06-04T12:45:38.445604Z",
     "start_time": "2020-06-04T12:45:38.437625Z"
    }
   },
   "outputs": [],
   "source": [
    "indices = np.arange(data.shape[0])\n",
    "np.random.shuffle(indices)\n",
    "data = data[indices]\n",
    "labels = y_train[indices]"
   ]
  },
  {
   "cell_type": "code",
   "execution_count": 102,
   "metadata": {
    "ExecuteTime": {
     "end_time": "2020-06-04T12:45:40.737521Z",
     "start_time": "2020-06-04T12:45:40.732899Z"
    }
   },
   "outputs": [
    {
     "name": "stdout",
     "output_type": "stream",
     "text": [
      "(5552, 200) (5552, 4) (1388, 200) (1388, 4)\n"
     ]
    }
   ],
   "source": [
    "num_validation_samples = int(VALIDATION_SPLIT*data.shape[0])\n",
    "x_train = data[: -num_validation_samples]\n",
    "y_train = labels[: -num_validation_samples]\n",
    "x_val = data[-num_validation_samples: ]\n",
    "y_val = labels[-num_validation_samples: ]\n",
    "\n",
    "print ((x_train.shape),(y_train.shape),(x_val.shape),(y_val.shape))"
   ]
  },
  {
   "cell_type": "code",
   "execution_count": 103,
   "metadata": {
    "ExecuteTime": {
     "end_time": "2020-06-04T12:45:45.825558Z",
     "start_time": "2020-06-04T12:45:45.821122Z"
    }
   },
   "outputs": [
    {
     "name": "stdout",
     "output_type": "stream",
     "text": [
      "Number of entries in each category:\n",
      "training:  [1282  742 3006 3320]\n",
      "validation:  [335 209 751 855]\n"
     ]
    }
   ],
   "source": [
    "print('Number of entries in each category:')\n",
    "print('training: ', y_train.sum(axis=0))\n",
    "print('validation: ', y_val.sum(axis=0))"
   ]
  },
  {
   "cell_type": "code",
   "execution_count": 104,
   "metadata": {
    "ExecuteTime": {
     "end_time": "2020-06-04T12:45:49.569218Z",
     "start_time": "2020-06-04T12:45:49.564176Z"
    }
   },
   "outputs": [
    {
     "name": "stdout",
     "output_type": "stream",
     "text": [
      "Tokenized sentences: \n",
      " [ 1736 10502     7  1866   605 47533 11675  1425  4519  8340 30511 36246\n",
      "  7671 47534   649  3036  4311   905  3649  2954   141  7925  4052    53\n",
      "   169  3126    69   466 24122  1959 47535   110  6761  4717  1567    29\n",
      "   252   399   193    10  3296    38   578     9   496    62    21  2417\n",
      " 13342  1688   111 14375   751 47536 47537  1314 24123    77  4053  4224\n",
      " 26729   856    86  2195  1937  4583  8679 30512    21   673  5703  5065\n",
      "    59   258 47538   649   285 10503 17195  1423 10249  1051   366    49\n",
      " 47539  1346  4801   886  1871   321  5318 12071   752  1944   781  4433\n",
      "    84  5943  3312   331  2320   545   583  1828   741    45  2126    10\n",
      "  1102   659    10  4669 36247  4626  7151 47540 30512    37   509  1125\n",
      "     5 15640 15641  1930  8059   504 13825   540   274  1309  3190  2536\n",
      "  2964  1035  2062 17196   234  2221   685   771   581  4225 10504     5\n",
      "    47  3368  6007  3414  2574  1860   251  1068    31    49  1140   786\n",
      " 10760  1847   114     4     4   479   468   831   319  1124   100  1468\n",
      "   497   278 10760  4584   359   773  1235 47541   598  6588   114  2859\n",
      "   202   631   505    46  3112 30513 47542 47543   469   598   313   453\n",
      "  9582   349  2524     5    53  1657   579   313]\n",
      "One hot label: \n",
      " [1 0 0 1]\n"
     ]
    }
   ],
   "source": [
    "print('Tokenized sentences: \\n', data[10])\n",
    "print('One hot label: \\n', labels[10])"
   ]
  },
  {
   "cell_type": "code",
   "execution_count": 105,
   "metadata": {
    "ExecuteTime": {
     "end_time": "2020-06-04T12:46:10.442584Z",
     "start_time": "2020-06-04T12:45:54.845696Z"
    }
   },
   "outputs": [
    {
     "name": "stdout",
     "output_type": "stream",
     "text": [
      "Loading GloVe from: glove_data/glove.6B/glove.6B.100d.txt ...Done.\n",
      " Proceeding with Embedding Matrix... Completed!\n"
     ]
    }
   ],
   "source": [
    "embeddings_index = {}\n",
    "f = open(GLOVE_DIR, encoding=\"UTF-8\")\n",
    "print('Loading GloVe from:', GLOVE_DIR,'...', end='')\n",
    "for line in f:\n",
    "    values = line.split()\n",
    "    word = values[0]\n",
    "    embeddings_index[word] = np.asarray(values[1:], dtype='float32')\n",
    "f.close()\n",
    "print(\"Done.\\n Proceeding with Embedding Matrix...\", end=\"\")\n",
    "\n",
    "embedding_matrix = np.random.random((len(word_index) + 1, EMBEDDING_DIM))\n",
    "for word, i in word_index.items():\n",
    "    embedding_vector = embeddings_index.get(word)\n",
    "    if embedding_vector is not None:\n",
    "        embedding_matrix[i] = embedding_vector\n",
    "print(\" Completed!\")"
   ]
  },
  {
   "cell_type": "code",
   "execution_count": 106,
   "metadata": {
    "ExecuteTime": {
     "end_time": "2020-06-04T12:46:19.439073Z",
     "start_time": "2020-06-04T12:46:19.236927Z"
    }
   },
   "outputs": [],
   "source": [
    "sequence_input = Input(shape=(MAX_SEQUENCE_LENGTH,), dtype='int32')\n",
    "embedding_layer = Embedding(len(word_index) + 1,\n",
    "                           EMBEDDING_DIM,\n",
    "                           weights = [embedding_matrix],\n",
    "                           input_length = MAX_SEQUENCE_LENGTH,\n",
    "                           trainable=False,\n",
    "                           name = 'embeddings')\n",
    "embedded_sequences = embedding_layer(sequence_input)"
   ]
  },
  {
   "cell_type": "code",
   "execution_count": 107,
   "metadata": {
    "ExecuteTime": {
     "end_time": "2020-06-04T12:46:26.974804Z",
     "start_time": "2020-06-04T12:46:26.468982Z"
    }
   },
   "outputs": [],
   "source": [
    "x = LSTM(60, return_sequences=True,name='lstm_layer')(embedded_sequences)\n",
    "x = GlobalMaxPool1D()(x)\n",
    "x = Dropout(0.1)(x)\n",
    "x = Dense(50, activation=\"relu\")(x)\n",
    "x = Dropout(0.1)(x)\n",
    "preds = Dense(4, activation=\"softmax\")(x)"
   ]
  },
  {
   "cell_type": "code",
   "execution_count": 108,
   "metadata": {
    "ExecuteTime": {
     "end_time": "2020-06-04T12:46:31.310901Z",
     "start_time": "2020-06-04T12:46:31.108934Z"
    }
   },
   "outputs": [
    {
     "name": "stdout",
     "output_type": "stream",
     "text": [
      "Model: \"model_1\"\n",
      "_________________________________________________________________\n",
      "Layer (type)                 Output Shape              Param #   \n",
      "=================================================================\n",
      "input_1 (InputLayer)         (None, 200)               0         \n",
      "_________________________________________________________________\n",
      "embeddings (Embedding)       (None, 200, 100)          9026600   \n",
      "_________________________________________________________________\n",
      "lstm_layer (LSTM)            (None, 200, 60)           38640     \n",
      "_________________________________________________________________\n",
      "global_max_pooling1d_1 (Glob (None, 60)                0         \n",
      "_________________________________________________________________\n",
      "dropout_1 (Dropout)          (None, 60)                0         \n",
      "_________________________________________________________________\n",
      "dense_1 (Dense)              (None, 50)                3050      \n",
      "_________________________________________________________________\n",
      "dropout_2 (Dropout)          (None, 50)                0         \n",
      "_________________________________________________________________\n",
      "dense_2 (Dense)              (None, 4)                 204       \n",
      "=================================================================\n",
      "Total params: 9,068,494\n",
      "Trainable params: 41,894\n",
      "Non-trainable params: 9,026,600\n",
      "_________________________________________________________________\n"
     ]
    }
   ],
   "source": [
    "opt = keras.optimizers.Adam()\n",
    "\n",
    "model = Model(sequence_input, preds)\n",
    "model.compile(loss = 'categorical_crossentropy',\n",
    "             optimizer=opt,\n",
    "             weighted_metrics=['accuracy', keras.metrics.Precision(), keras.metrics.Recall()])\n",
    "model.summary()"
   ]
  },
  {
   "cell_type": "code",
   "execution_count": 109,
   "metadata": {
    "ExecuteTime": {
     "end_time": "2020-06-04T12:47:46.757769Z",
     "start_time": "2020-06-04T12:46:37.445948Z"
    }
   },
   "outputs": [
    {
     "name": "stdout",
     "output_type": "stream",
     "text": [
      "Training progress:\n",
      "Train on 5552 samples, validate on 1388 samples\n",
      "Epoch 1/5\n",
      " - 14s - loss: 2.3956 - accuracy: 0.1664 - precision_1: 0.7762 - recall_1: 6.7079e-04 - val_loss: 1.9356 - val_accuracy: 0.1419 - val_precision_1: 0.0000e+00 - val_recall_1: 0.0000e+00\n",
      "Epoch 2/5\n",
      " - 14s - loss: 2.3597 - accuracy: 0.2084 - precision_1: 0.8412 - recall_1: 0.0038 - val_loss: 1.8989 - val_accuracy: 0.3062 - val_precision_1: 1.0000 - val_recall_1: 9.3023e-04\n",
      "Epoch 3/5\n",
      " - 14s - loss: 2.2972 - accuracy: 0.2632 - precision_1: 0.7968 - recall_1: 0.0456 - val_loss: 1.8426 - val_accuracy: 0.3970 - val_precision_1: 0.9157 - val_recall_1: 0.0758\n",
      "Epoch 4/5\n",
      " - 14s - loss: 2.2419 - accuracy: 0.3052 - precision_1: 0.7921 - recall_1: 0.0802 - val_loss: 1.7943 - val_accuracy: 0.3581 - val_precision_1: 0.7938 - val_recall_1: 0.1558\n",
      "Epoch 5/5\n",
      " - 14s - loss: 2.1851 - accuracy: 0.3367 - precision_1: 0.7638 - recall_1: 0.1292 - val_loss: 1.7722 - val_accuracy: 0.4071 - val_precision_1: 0.8297 - val_recall_1: 0.1223\n"
     ]
    }
   ],
   "source": [
    "print('Training progress:')\n",
    "history = model.fit(x_train, y_train, epochs = 5, batch_size=32, validation_data=(x_val, y_val), verbose=2, \n",
    "                    class_weight=class_weights)\n",
    "keras.backend.clear_session()"
   ]
  },
  {
   "cell_type": "code",
   "execution_count": 115,
   "metadata": {
    "ExecuteTime": {
     "end_time": "2020-06-04T12:51:34.580312Z",
     "start_time": "2020-06-04T12:51:34.572981Z"
    }
   },
   "outputs": [],
   "source": [
    "hist_df = pd.DataFrame(history.history) \n",
    "\n",
    "hist_df.to_csv(\"data/output_csv/dimensions_hist_df.csv\")"
   ]
  },
  {
   "cell_type": "code",
   "execution_count": 116,
   "metadata": {
    "ExecuteTime": {
     "end_time": "2020-06-04T12:51:38.861928Z",
     "start_time": "2020-06-04T12:51:38.852951Z"
    }
   },
   "outputs": [],
   "source": [
    "dimensions_hist_df = pd.read_csv(\"data/output_csv/dimensions_hist_df.csv\")\n",
    "dimensions_hist_df.drop([\"Unnamed: 0\"], axis=1, inplace=True)"
   ]
  },
  {
   "cell_type": "code",
   "execution_count": 117,
   "metadata": {
    "ExecuteTime": {
     "end_time": "2020-06-04T12:51:50.672712Z",
     "start_time": "2020-06-04T12:51:50.661709Z"
    }
   },
   "outputs": [
    {
     "data": {
      "text/html": [
       "<div>\n",
       "<style scoped>\n",
       "    .dataframe tbody tr th:only-of-type {\n",
       "        vertical-align: middle;\n",
       "    }\n",
       "\n",
       "    .dataframe tbody tr th {\n",
       "        vertical-align: top;\n",
       "    }\n",
       "\n",
       "    .dataframe thead th {\n",
       "        text-align: right;\n",
       "    }\n",
       "</style>\n",
       "<table border=\"1\" class=\"dataframe\">\n",
       "  <thead>\n",
       "    <tr style=\"text-align: right;\">\n",
       "      <th></th>\n",
       "      <th>val_loss</th>\n",
       "      <th>val_accuracy</th>\n",
       "      <th>val_precision_1</th>\n",
       "      <th>val_recall_1</th>\n",
       "      <th>loss</th>\n",
       "      <th>accuracy</th>\n",
       "      <th>precision_1</th>\n",
       "      <th>recall_1</th>\n",
       "    </tr>\n",
       "  </thead>\n",
       "  <tbody>\n",
       "    <tr>\n",
       "      <th>0</th>\n",
       "      <td>1.935583</td>\n",
       "      <td>0.141931</td>\n",
       "      <td>0.000000</td>\n",
       "      <td>0.000000</td>\n",
       "      <td>2.395565</td>\n",
       "      <td>0.166433</td>\n",
       "      <td>0.776176</td>\n",
       "      <td>0.000671</td>\n",
       "    </tr>\n",
       "    <tr>\n",
       "      <th>1</th>\n",
       "      <td>1.898879</td>\n",
       "      <td>0.306196</td>\n",
       "      <td>1.000000</td>\n",
       "      <td>0.000930</td>\n",
       "      <td>2.359707</td>\n",
       "      <td>0.208440</td>\n",
       "      <td>0.841181</td>\n",
       "      <td>0.003793</td>\n",
       "    </tr>\n",
       "    <tr>\n",
       "      <th>2</th>\n",
       "      <td>1.842561</td>\n",
       "      <td>0.396974</td>\n",
       "      <td>0.915730</td>\n",
       "      <td>0.075814</td>\n",
       "      <td>2.297188</td>\n",
       "      <td>0.263161</td>\n",
       "      <td>0.796757</td>\n",
       "      <td>0.045606</td>\n",
       "    </tr>\n",
       "    <tr>\n",
       "      <th>3</th>\n",
       "      <td>1.794269</td>\n",
       "      <td>0.358069</td>\n",
       "      <td>0.793839</td>\n",
       "      <td>0.155814</td>\n",
       "      <td>2.241864</td>\n",
       "      <td>0.305215</td>\n",
       "      <td>0.792060</td>\n",
       "      <td>0.080195</td>\n",
       "    </tr>\n",
       "    <tr>\n",
       "      <th>4</th>\n",
       "      <td>1.772235</td>\n",
       "      <td>0.407061</td>\n",
       "      <td>0.829653</td>\n",
       "      <td>0.122326</td>\n",
       "      <td>2.185081</td>\n",
       "      <td>0.336719</td>\n",
       "      <td>0.763816</td>\n",
       "      <td>0.129205</td>\n",
       "    </tr>\n",
       "  </tbody>\n",
       "</table>\n",
       "</div>"
      ],
      "text/plain": [
       "   val_loss  val_accuracy  val_precision_1  val_recall_1      loss  accuracy  \\\n",
       "0  1.935583      0.141931         0.000000      0.000000  2.395565  0.166433   \n",
       "1  1.898879      0.306196         1.000000      0.000930  2.359707  0.208440   \n",
       "2  1.842561      0.396974         0.915730      0.075814  2.297188  0.263161   \n",
       "3  1.794269      0.358069         0.793839      0.155814  2.241864  0.305215   \n",
       "4  1.772235      0.407061         0.829653      0.122326  2.185081  0.336719   \n",
       "\n",
       "   precision_1  recall_1  \n",
       "0     0.776176  0.000671  \n",
       "1     0.841181  0.003793  \n",
       "2     0.796757  0.045606  \n",
       "3     0.792060  0.080195  \n",
       "4     0.763816  0.129205  "
      ]
     },
     "execution_count": 117,
     "metadata": {},
     "output_type": "execute_result"
    }
   ],
   "source": [
    "dimensions_hist_df"
   ]
  },
  {
   "cell_type": "code",
   "execution_count": 118,
   "metadata": {
    "ExecuteTime": {
     "end_time": "2020-06-04T12:52:01.650123Z",
     "start_time": "2020-06-04T12:52:01.644139Z"
    }
   },
   "outputs": [],
   "source": [
    "dimensions_hist_df['val_f1'] = ((dimensions_hist_df[\"val_precision_1\"]*dimensions_hist_df[\"val_recall_1\"])/\n",
    "                                (dimensions_hist_df[\"val_precision_1\"]+dimensions_hist_df[\"val_recall_1\"]))"
   ]
  },
  {
   "cell_type": "code",
   "execution_count": 119,
   "metadata": {
    "ExecuteTime": {
     "end_time": "2020-06-04T12:52:05.252658Z",
     "start_time": "2020-06-04T12:52:05.234210Z"
    }
   },
   "outputs": [
    {
     "data": {
      "text/html": [
       "<div>\n",
       "<style scoped>\n",
       "    .dataframe tbody tr th:only-of-type {\n",
       "        vertical-align: middle;\n",
       "    }\n",
       "\n",
       "    .dataframe tbody tr th {\n",
       "        vertical-align: top;\n",
       "    }\n",
       "\n",
       "    .dataframe thead th {\n",
       "        text-align: right;\n",
       "    }\n",
       "</style>\n",
       "<table border=\"1\" class=\"dataframe\">\n",
       "  <thead>\n",
       "    <tr style=\"text-align: right;\">\n",
       "      <th></th>\n",
       "      <th>val_loss</th>\n",
       "      <th>loss</th>\n",
       "      <th>val_accuracy</th>\n",
       "      <th>accuracy</th>\n",
       "      <th>val_precision_1</th>\n",
       "      <th>precision_1</th>\n",
       "      <th>val_recall_1</th>\n",
       "      <th>recall_1</th>\n",
       "      <th>val_f1</th>\n",
       "    </tr>\n",
       "  </thead>\n",
       "  <tbody>\n",
       "    <tr>\n",
       "      <th>0</th>\n",
       "      <td>1.935583</td>\n",
       "      <td>2.395565</td>\n",
       "      <td>0.141931</td>\n",
       "      <td>0.166433</td>\n",
       "      <td>0.000000</td>\n",
       "      <td>0.776176</td>\n",
       "      <td>0.000000</td>\n",
       "      <td>0.000671</td>\n",
       "      <td>NaN</td>\n",
       "    </tr>\n",
       "    <tr>\n",
       "      <th>1</th>\n",
       "      <td>1.898879</td>\n",
       "      <td>2.359707</td>\n",
       "      <td>0.306196</td>\n",
       "      <td>0.208440</td>\n",
       "      <td>1.000000</td>\n",
       "      <td>0.841181</td>\n",
       "      <td>0.000930</td>\n",
       "      <td>0.003793</td>\n",
       "      <td>0.000929</td>\n",
       "    </tr>\n",
       "    <tr>\n",
       "      <th>2</th>\n",
       "      <td>1.842561</td>\n",
       "      <td>2.297188</td>\n",
       "      <td>0.396974</td>\n",
       "      <td>0.263161</td>\n",
       "      <td>0.915730</td>\n",
       "      <td>0.796757</td>\n",
       "      <td>0.075814</td>\n",
       "      <td>0.045606</td>\n",
       "      <td>0.070017</td>\n",
       "    </tr>\n",
       "    <tr>\n",
       "      <th>3</th>\n",
       "      <td>1.794269</td>\n",
       "      <td>2.241864</td>\n",
       "      <td>0.358069</td>\n",
       "      <td>0.305215</td>\n",
       "      <td>0.793839</td>\n",
       "      <td>0.792060</td>\n",
       "      <td>0.155814</td>\n",
       "      <td>0.080195</td>\n",
       "      <td>0.130249</td>\n",
       "    </tr>\n",
       "    <tr>\n",
       "      <th>4</th>\n",
       "      <td>1.772235</td>\n",
       "      <td>2.185081</td>\n",
       "      <td>0.407061</td>\n",
       "      <td>0.336719</td>\n",
       "      <td>0.829653</td>\n",
       "      <td>0.763816</td>\n",
       "      <td>0.122326</td>\n",
       "      <td>0.129205</td>\n",
       "      <td>0.106607</td>\n",
       "    </tr>\n",
       "  </tbody>\n",
       "</table>\n",
       "</div>"
      ],
      "text/plain": [
       "   val_loss      loss  val_accuracy  accuracy  val_precision_1  precision_1  \\\n",
       "0  1.935583  2.395565      0.141931  0.166433         0.000000     0.776176   \n",
       "1  1.898879  2.359707      0.306196  0.208440         1.000000     0.841181   \n",
       "2  1.842561  2.297188      0.396974  0.263161         0.915730     0.796757   \n",
       "3  1.794269  2.241864      0.358069  0.305215         0.793839     0.792060   \n",
       "4  1.772235  2.185081      0.407061  0.336719         0.829653     0.763816   \n",
       "\n",
       "   val_recall_1  recall_1    val_f1  \n",
       "0      0.000000  0.000671       NaN  \n",
       "1      0.000930  0.003793  0.000929  \n",
       "2      0.075814  0.045606  0.070017  \n",
       "3      0.155814  0.080195  0.130249  \n",
       "4      0.122326  0.129205  0.106607  "
      ]
     },
     "execution_count": 119,
     "metadata": {},
     "output_type": "execute_result"
    }
   ],
   "source": [
    "dimensions_hist_df = dimensions_hist_df[['val_loss', 'loss', 'val_accuracy', 'accuracy', 'val_precision_1', 'precision_1',\n",
    "                  'val_recall_1', 'recall_1', 'val_f1']]\n",
    "dimensions_hist_df"
   ]
  },
  {
   "cell_type": "code",
   "execution_count": 120,
   "metadata": {
    "ExecuteTime": {
     "end_time": "2020-06-04T12:52:37.881640Z",
     "start_time": "2020-06-04T12:52:37.525498Z"
    }
   },
   "outputs": [
    {
     "data": {
      "image/png": "[encoded data removed]",
      "text/plain": [
       "<Figure size 1296x720 with 1 Axes>"
      ]
     },
     "metadata": {
      "needs_background": "light"
     },
     "output_type": "display_data"
    }
   ],
   "source": [
    "plt.figure(figsize=(18,10))\n",
    "plt.plot(dimensions_hist_df[['val_accuracy', 'val_precision_1', 'val_recall_1', 'val_f1']])\n",
    "\n",
    "plt.title('Training and Validation: Dimensions')\n",
    "plt.xlabel('Epochs')\n",
    "plt.ylabel('Metrics')\n",
    "plt.legend(['val_accuracy', 'val_precision_1', 'val_recall_1', 'val_f1'])\n",
    "plt.savefig(\"images/output_images/dimensions_history.png\")\n",
    "\n",
    "sns.set_context(\"talk\")\n",
    "plt.show()"
   ]
  },
  {
   "cell_type": "markdown",
   "metadata": {},
   "source": [
    "#### Comments"
   ]
  },
  {
   "cell_type": "markdown",
   "metadata": {},
   "source": [
    "Best F1 Scores for both models, the one using types and the one using dimensions are of 0.205942 and 0.130249 respectively, still much lower than the scores obtained using ML models."
   ]
  }
 ],
 "metadata": {
  "kernelspec": {
   "display_name": "Python 3",
   "language": "python",
   "name": "python3"
  },
  "language_info": {
   "codemirror_mode": {
    "name": "ipython",
    "version": 3
   },
   "file_extension": ".py",
   "mimetype": "text/x-python",
   "name": "python",
   "nbconvert_exporter": "python",
   "pygments_lexer": "ipython3",
   "version": "3.7.7"
  },
  "varInspector": {
   "cols": {
    "lenName": 16,
    "lenType": 16,
    "lenVar": 40
   },
   "kernels_config": {
    "python": {
     "delete_cmd_postfix": "",
     "delete_cmd_prefix": "del ",
     "library": "var_list.py",
     "varRefreshCmd": "print(var_dic_list())"
    },
    "r": {
     "delete_cmd_postfix": ") ",
     "delete_cmd_prefix": "rm(",
     "library": "var_list.r",
     "varRefreshCmd": "cat(var_dic_list()) "
    }
   },
   "types_to_exclude": [
    "module",
    "function",
    "builtin_function_or_method",
    "instance",
    "_Feature"
   ],
   "window_display": false
  }
 },
 "nbformat": 4,
 "nbformat_minor": 2
}
