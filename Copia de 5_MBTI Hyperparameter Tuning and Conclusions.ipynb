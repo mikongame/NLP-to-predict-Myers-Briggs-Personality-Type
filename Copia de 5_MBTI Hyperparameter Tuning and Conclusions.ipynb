{
 "cells": [
  {
   "cell_type": "markdown",
   "metadata": {
    "colab_type": "text",
    "id": "Fn0Y6V3rGgmt"
   },
   "source": [
    "<img src=\"https://bit.ly/2VnXWr2\" width=\"100\" align=\"left\">"
   ]
  },
  {
   "cell_type": "markdown",
   "metadata": {
    "colab_type": "text",
    "id": "yz39tEdQGgmv"
   },
   "source": [
    "# Project | ML: Job offers' Fraud-Detection with NLP"
   ]
  },
  {
   "cell_type": "markdown",
   "metadata": {
    "colab_type": "text",
    "id": "UberHSprGgm_"
   },
   "source": [
    "### Imports"
   ]
  },
  {
   "cell_type": "code",
   "execution_count": 1,
   "metadata": {
    "ExecuteTime": {
     "end_time": "2020-06-03T19:34:16.953801Z",
     "start_time": "2020-06-03T19:34:08.433897Z"
    },
    "colab": {
     "base_uri": "https://localhost:8080/",
     "height": 71
    },
    "colab_type": "code",
    "executionInfo": {
     "elapsed": 1421,
     "status": "ok",
     "timestamp": 1591212556843,
     "user": {
      "displayName": "Miguel García",
      "photoUrl": "https://lh3.googleusercontent.com/a-/AOh14GjHMdmvJ_WMlf2HEZh6ax8DclugVwWOt7FeMQntBA=s64",
      "userId": "11447040328825408526"
     },
     "user_tz": -120
    },
    "id": "oHCuLYENGgnF",
    "outputId": "aa90b29a-aee3-494f-a327-bd4d6ac39b16"
   },
   "outputs": [],
   "source": [
    "# Data Analysis\n",
    "import pandas as pd\n",
    "import numpy as np\n",
    "\n",
    "# Data Visualization\n",
    "import seaborn as sns\n",
    "import matplotlib.pyplot as plt\n",
    "\n",
    "\n",
    "# Ignore noise warning\n",
    "import warnings\n",
    "warnings.filterwarnings('ignore')\n",
    "\n",
    "# Work with pickles\n",
    "import pickle\n",
    "\n",
    "#Metrics\n",
    "from sklearn.metrics import r2_score, mean_squared_error, mean_absolute_error, accuracy_score, balanced_accuracy_score\n",
    "from sklearn.metrics import precision_score, recall_score, f1_score, multilabel_confusion_matrix, confusion_matrix\n",
    "from sklearn.metrics import classification_report\n",
    "\n",
    "# Model training and evaluation\n",
    "from sklearn.model_selection import train_test_split\n",
    "from sklearn.model_selection import GridSearchCV, StratifiedKFold, cross_val_score, RandomizedSearchCV\n",
    "\n",
    "from sklearn.ensemble import RandomForestClassifier, GradientBoostingClassifier"
   ]
  },
  {
   "cell_type": "markdown",
   "metadata": {
    "colab_type": "text",
    "id": "kMmS6WqVGgnP"
   },
   "source": [
    "## 5. Hyperparameter Tuning of the Models (types)"
   ]
  },
  {
   "cell_type": "markdown",
   "metadata": {
    "colab_type": "text",
    "id": "4jaQh-JLGgnQ"
   },
   "source": [
    "Althought the metrics of the different models are really good, we can still improve the performance of the models. Therefore, a fine tunning of the different parameters of each models has to be done."
   ]
  },
  {
   "cell_type": "code",
   "execution_count": 2,
   "metadata": {
    "ExecuteTime": {
     "end_time": "2020-06-03T19:34:42.542148Z",
     "start_time": "2020-06-03T19:34:41.834750Z"
    },
    "colab": {},
    "colab_type": "code",
    "id": "XhmDdIUbKW-R"
   },
   "outputs": [],
   "source": [
    "result_svd_vec_types  = pd.read_csv(\"data/output_csv/result_svd_vec_types.csv\")\n",
    "result_svd_vec_types.drop([\"Unnamed: 0\"], axis=1, inplace=True)"
   ]
  },
  {
   "cell_type": "code",
   "execution_count": 3,
   "metadata": {
    "ExecuteTime": {
     "end_time": "2020-06-03T19:34:43.984272Z",
     "start_time": "2020-06-03T19:34:43.153125Z"
    },
    "colab": {
     "base_uri": "https://localhost:8080/",
     "height": 34
    },
    "colab_type": "code",
    "executionInfo": {
     "elapsed": 5418,
     "status": "ok",
     "timestamp": 1591212634053,
     "user": {
      "displayName": "Miguel García",
      "photoUrl": "https://lh3.googleusercontent.com/a-/AOh14GjHMdmvJ_WMlf2HEZh6ax8DclugVwWOt7FeMQntBA=s64",
      "userId": "11447040328825408526"
     },
     "user_tz": -120
    },
    "id": "ZpTtmX_dKsnL",
    "outputId": "f44ba932-8b01-43e6-dca7-02893ba7233a"
   },
   "outputs": [
    {
     "name": "stdout",
     "output_type": "stream",
     "text": [
      "(6940, 102) (6940,) (1735, 102) (1735,)\n"
     ]
    }
   ],
   "source": [
    "X = result_svd_vec_types.drop([\"type\",\"enfj\", \"enfp\", \"entj\", \"entp\", \"esfj\", \"esfp\", \"estj\", \"estp\",\"infj\", \"infp\", \"intj\",\n",
    "                               \"intp\", \"isfj\", \"isfp\", \"istj\", \"istp\"], axis=1).values\n",
    "y = result_svd_vec_types[\"type\"].values\n",
    "\n",
    "X_train, X_test, y_train, y_test = train_test_split(X, y, random_state=42, test_size=0.2)\n",
    "print ((X_train.shape),(y_train.shape),(X_test.shape),(y_test.shape))"
   ]
  },
  {
   "cell_type": "markdown",
   "metadata": {
    "ExecuteTime": {
     "end_time": "2020-05-07T10:48:29.190167Z",
     "start_time": "2020-05-07T10:48:29.185180Z"
    },
    "colab_type": "text",
    "id": "pufBDI6aGgnT"
   },
   "source": [
    "<img src=\"https://www.nicepng.com/png/detail/148-1486992_discover-the-most-powerful-ways-to-automate-your.png\" width=\"1000\">"
   ]
  },
  {
   "cell_type": "code",
   "execution_count": 0,
   "metadata": {
    "ExecuteTime": {
     "end_time": "2020-05-07T18:17:55.575064Z",
     "start_time": "2020-05-07T18:17:55.570099Z"
    },
    "colab": {},
    "colab_type": "code",
    "id": "Y1XV5hrrGgnU",
    "outputId": "d64ee25b-ff81-4adc-edc9-02aa19d4e69e"
   },
   "outputs": [
    {
     "ename": "SystemExit",
     "evalue": "Stop right there! The following cells takes some time to complete.",
     "output_type": "error",
     "traceback": [
      "An exception has occurred, use %tb to see the full traceback.\n",
      "\u001b[1;31mSystemExit\u001b[0m\u001b[1;31m:\u001b[0m Stop right there! The following cells takes some time to complete.\n"
     ]
    }
   ],
   "source": [
    "raise SystemExit(\"Stop right there! The following cells takes some time to complete.\")"
   ]
  },
  {
   "cell_type": "markdown",
   "metadata": {
    "colab_type": "text",
    "id": "quN0y-XxLxSJ"
   },
   "source": [
    "##### RandomSearchCV"
   ]
  },
  {
   "cell_type": "code",
   "execution_count": null,
   "metadata": {
    "ExecuteTime": {
     "end_time": "2020-06-04T08:47:38.837913Z",
     "start_time": "2020-06-04T08:18:34.598541Z"
    },
    "colab": {
     "base_uri": "https://localhost:8080/",
     "height": 51
    },
    "colab_type": "code",
    "id": "FJ5ru-iwGgoD",
    "outputId": "d7a63c57-5c9b-41e9-d56d-ed9c16224a60",
    "scrolled": true
   },
   "outputs": [],
   "source": [
    "gradient_booster = GradientBoostingClassifier(random_state = 42)\n",
    "\n",
    "param_grid =  {\"loss\":[\"deviance\"],\n",
    "               \"learning_rate\": [0.075],\n",
    "               'max_depth': [3], \n",
    "               'n_estimators' : [99],\n",
    "               'min_samples_leaf': np.arange(1,20),\n",
    "               'min_samples_split': np.arange(2,25),\n",
    "               \"max_features\":['auto', 'sqrt', 'log2'],\n",
    "               \"criterion\": [\"friedman_mse\"],\n",
    "               \"subsample\":[0.9]\n",
    "              }\n",
    "\n",
    "\n",
    "\n",
    "grid = GridSearchCV(gradient_booster, param_grid, cv=5, scoring='f1_weighted',  verbose=2, n_jobs=-1, refit=True)\n",
    "\n",
    "grid.fit(X_train, y_train)\n",
    "\n",
    "grid.best_estimator_\n",
    "\n",
    "print(grid.best_params_)"
   ]
  },
  {
   "cell_type": "code",
   "execution_count": 0,
   "metadata": {
    "colab": {},
    "colab_type": "code",
    "id": "pAvOUtv4LDPS"
   },
   "outputs": [],
   "source": []
  }
 ],
 "metadata": {
  "colab": {
   "collapsed_sections": [],
   "name": "Copia de 5_MBTI Hyperparameter Tuning and Conclusions.ipynb",
   "provenance": []
  },
  "kernelspec": {
   "display_name": "Python 3",
   "language": "python",
   "name": "python3"
  },
  "language_info": {
   "codemirror_mode": {
    "name": "ipython",
    "version": 3
   },
   "file_extension": ".py",
   "mimetype": "text/x-python",
   "name": "python",
   "nbconvert_exporter": "python",
   "pygments_lexer": "ipython3",
   "version": "3.7.7"
  },
  "toc": {
   "base_numbering": 1,
   "nav_menu": {},
   "number_sections": true,
   "sideBar": true,
   "skip_h1_title": true,
   "title_cell": "Table of Contents",
   "title_sidebar": "Contents",
   "toc_cell": true,
   "toc_position": {
    "height": "calc(100% - 180px)",
    "left": "10px",
    "top": "150px",
    "width": "307.2px"
   },
   "toc_section_display": true,
   "toc_window_display": true
  },
  "varInspector": {
   "cols": {
    "lenName": 16,
    "lenType": 16,
    "lenVar": 40
   },
   "kernels_config": {
    "python": {
     "delete_cmd_postfix": "",
     "delete_cmd_prefix": "del ",
     "library": "var_list.py",
     "varRefreshCmd": "print(var_dic_list())"
    },
    "r": {
     "delete_cmd_postfix": ") ",
     "delete_cmd_prefix": "rm(",
     "library": "var_list.r",
     "varRefreshCmd": "cat(var_dic_list()) "
    }
   },
   "position": {
    "height": "347.4px",
    "left": "981px",
    "right": "20px",
    "top": "120px",
    "width": "477.4px"
   },
   "types_to_exclude": [
    "module",
    "function",
    "builtin_function_or_method",
    "instance",
    "_Feature"
   ],
   "window_display": false
  }
 },
 "nbformat": 4,
 "nbformat_minor": 1
}
