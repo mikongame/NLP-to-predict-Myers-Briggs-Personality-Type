{
 "cells": [
  {
   "cell_type": "markdown",
   "metadata": {
    "colab_type": "text",
    "id": "Fn0Y6V3rGgmt"
   },
   "source": [
    "<img src='https://bit.ly/2VnXWr2' width='100' align='left'>"
   ]
  },
  {
   "cell_type": "markdown",
   "metadata": {
    "colab_type": "text",
    "id": "yz39tEdQGgmv"
   },
   "source": [
    "# Final project: NLP to predict Myers-Briggs Personality Type"
   ]
  },
  {
   "cell_type": "markdown",
   "metadata": {
    "colab_type": "text",
    "id": "UberHSprGgm_"
   },
   "source": [
    "### Imports"
   ]
  },
  {
   "cell_type": "code",
   "execution_count": 2,
   "metadata": {},
   "outputs": [],
   "source": [
    "!pip freeze > requirements4.txt"
   ]
  },
  {
   "cell_type": "code",
   "execution_count": 1,
   "metadata": {
    "ExecuteTime": {
     "end_time": "2020-06-04T19:42:07.643509Z",
     "start_time": "2020-06-04T19:42:06.387846Z"
    },
    "colab": {
     "base_uri": "https://localhost:8080/",
     "height": 71
    },
    "colab_type": "code",
    "executionInfo": {
     "elapsed": 1356,
     "status": "ok",
     "timestamp": 1591256064023,
     "user": {
      "displayName": "Miguel García",
      "photoUrl": "https://lh3.googleusercontent.com/a-/AOh14GjHMdmvJ_WMlf2HEZh6ax8DclugVwWOt7FeMQntBA=s64",
      "userId": "11447040328825408526"
     },
     "user_tz": -120
    },
    "id": "oHCuLYENGgnF",
    "outputId": "83a5bde2-3434-402e-d4f8-b098b463ed4d"
   },
   "outputs": [],
   "source": [
    "# Data Analysis\n",
    "import pandas as pd\n",
    "import numpy as np\n",
    "\n",
    "# Data Visualization\n",
    "import seaborn as sns\n",
    "import matplotlib.pyplot as plt\n",
    "\n",
    "\n",
    "# Ignore noise warning\n",
    "import warnings\n",
    "warnings.filterwarnings('ignore')\n",
    "\n",
    "# Work with pickles\n",
    "import pickle\n",
    "\n",
    "#Metrics\n",
    "from sklearn.metrics import r2_score, mean_squared_error, mean_absolute_error, accuracy_score, balanced_accuracy_score\n",
    "from sklearn.metrics import precision_score, recall_score, f1_score, multilabel_confusion_matrix, confusion_matrix\n",
    "from sklearn.metrics import classification_report\n",
    "\n",
    "# Model training and evaluation\n",
    "from sklearn.model_selection import train_test_split\n",
    "from sklearn.model_selection import GridSearchCV, StratifiedKFold, cross_val_score, RandomizedSearchCV\n",
    "\n",
    "from sklearn.ensemble import RandomForestClassifier, GradientBoostingClassifier"
   ]
  },
  {
   "cell_type": "markdown",
   "metadata": {
    "colab_type": "text",
    "id": "kMmS6WqVGgnP"
   },
   "source": [
    "## 5. Hyperparameter Tuning of the Models (Types)"
   ]
  },
  {
   "cell_type": "markdown",
   "metadata": {
    "colab_type": "text",
    "id": "4jaQh-JLGgnQ"
   },
   "source": [
    "Althought the metrics of the different models are really good, we can still improve the performance of the models. Therefore, a fine tunning of the different parameters of each models has to be done."
   ]
  },
  {
   "cell_type": "code",
   "execution_count": 2,
   "metadata": {
    "ExecuteTime": {
     "end_time": "2020-06-04T19:42:09.091792Z",
     "start_time": "2020-06-04T19:42:08.870164Z"
    },
    "colab": {},
    "colab_type": "code",
    "id": "XhmDdIUbKW-R"
   },
   "outputs": [],
   "source": [
    "result_svd_vec_types  = pd.read_csv('data/output_csv/result_svd_vec_types.csv')\n",
    "result_svd_vec_types.drop(['Unnamed: 0'], axis=1, inplace=True)"
   ]
  },
  {
   "cell_type": "code",
   "execution_count": 3,
   "metadata": {
    "ExecuteTime": {
     "end_time": "2020-06-04T19:42:09.957150Z",
     "start_time": "2020-06-04T19:42:09.936206Z"
    },
    "colab": {
     "base_uri": "https://localhost:8080/",
     "height": 34
    },
    "colab_type": "code",
    "executionInfo": {
     "elapsed": 841,
     "status": "ok",
     "timestamp": 1591256107967,
     "user": {
      "displayName": "Miguel García",
      "photoUrl": "https://lh3.googleusercontent.com/a-/AOh14GjHMdmvJ_WMlf2HEZh6ax8DclugVwWOt7FeMQntBA=s64",
      "userId": "11447040328825408526"
     },
     "user_tz": -120
    },
    "id": "ZpTtmX_dKsnL",
    "outputId": "758cfd6a-bc10-41e4-f62c-9e93137d0749"
   },
   "outputs": [
    {
     "name": "stdout",
     "output_type": "stream",
     "text": [
      "(6940, 102) (6940,) (1735, 102) (1735,)\n"
     ]
    }
   ],
   "source": [
    "X = result_svd_vec_types.drop(['type','enfj', 'enfp', 'entj', 'entp', 'esfj', 'esfp', 'estj', 'estp','infj', 'infp', 'intj',\n",
    "                               'intp', 'isfj', 'isfp', 'istj', 'istp'], axis=1).values\n",
    "y = result_svd_vec_types['type'].values\n",
    "\n",
    "X_train, X_test, y_train, y_test = train_test_split(X, y, random_state=42, test_size=0.2)\n",
    "print ((X_train.shape),(y_train.shape),(X_test.shape),(y_test.shape))"
   ]
  },
  {
   "cell_type": "markdown",
   "metadata": {
    "ExecuteTime": {
     "end_time": "2020-05-07T10:48:29.190167Z",
     "start_time": "2020-05-07T10:48:29.185180Z"
    },
    "colab_type": "text",
    "id": "pufBDI6aGgnT"
   },
   "source": [
    "<img src='https://www.nicepng.com/png/detail/148-1486992_discover-the-most-powerful-ways-to-automate-your.png' width='1000'>"
   ]
  },
  {
   "cell_type": "code",
   "execution_count": 4,
   "metadata": {
    "ExecuteTime": {
     "end_time": "2020-06-04T13:40:40.963584Z",
     "start_time": "2020-06-04T13:40:40.863828Z"
    },
    "colab": {},
    "colab_type": "code",
    "id": "Y1XV5hrrGgnU",
    "outputId": "d64ee25b-ff81-4adc-edc9-02aa19d4e69e"
   },
   "outputs": [],
   "source": [
    "raise SystemExit('Stop right there! The following cells takes some time to complete.')"
   ]
  },
  {
   "cell_type": "markdown",
   "metadata": {
    "colab_type": "text",
    "id": "96_h0aknqNlF"
   },
   "source": [
    "As there's quite a few parameters, I will show the parameters' grid I used and then the model training with the best results. \n",
    "\n",
    "Those grids have been used during the tuning in Google Colab in pairs or threes of parameters. "
   ]
  },
  {
   "cell_type": "markdown",
   "metadata": {
    "ExecuteTime": {
     "end_time": "2020-05-07T16:51:01.640215Z",
     "start_time": "2020-05-07T16:50:16.086Z"
    },
    "colab_type": "text",
    "id": "ueJUzGrVGgnx"
   },
   "source": [
    "### RandomForest Tuning"
   ]
  },
  {
   "cell_type": "markdown",
   "metadata": {
    "colab_type": "text",
    "id": "Zb-Fl_y-Lr8z"
   },
   "source": [
    "##### GridSearchCV"
   ]
  },
  {
   "cell_type": "code",
   "execution_count": null,
   "metadata": {
    "ExecuteTime": {
     "end_time": "2020-06-04T13:40:41.062116Z",
     "start_time": "2020-06-04T13:40:40.965559Z"
    },
    "colab": {
     "base_uri": "https://localhost:8080/",
     "height": 139
    },
    "colab_type": "code",
    "executionInfo": {
     "elapsed": 5748901,
     "status": "ok",
     "timestamp": 1591229072665,
     "user": {
      "displayName": "Miguel García",
      "photoUrl": "https://lh3.googleusercontent.com/a-/AOh14GjHMdmvJ_WMlf2HEZh6ax8DclugVwWOt7FeMQntBA=s64",
      "userId": "11447040328825408526"
     },
     "user_tz": -120
    },
    "id": "F_HxKnNKGgny",
    "outputId": "17f1024c-7f8d-4863-b9a9-d70702f52e4b",
    "scrolled": false
   },
   "outputs": [],
   "source": [
    "random_forest = RandomForestClassifier(random_state = 42)\n",
    "\n",
    "max_depth = [int(x) for x in np.linspace(10, 110, num = 11)]\n",
    "max_depth.append(None)\n",
    "\n",
    "n_estimators = [int(x) for x in np.linspace(start = 200, stop = 2000, num = 10)]\n",
    "n_estimators.append(list(np.arange(50,200)))\n",
    "\n",
    "param_grid =  {'class_weight': [None,'balanced'],\n",
    "               'criterion': ['gini', 'entropy'],\n",
    "               'max_depth': max_depth, \n",
    "               'max_features': ['auto', 'sqrt', 'log2'],\n",
    "               'n_estimators' : n_estimators,\n",
    "               'min_samples_leaf': np.arange(1,20),\n",
    "               'min_samples_split': np.arange(2,25),\n",
    "               'bootstrap': [True, False],\n",
    "               'oob_score': [True, False] \n",
    "            }\n",
    "\n",
    "grid = GridSearchCV(random_forest, param_grid, cv=3, scoring='f1_weighted', verbose=2, n_jobs=-1, refit=True)\n",
    "\n",
    "grid.fit(X_train, y_train)\n",
    "\n",
    "grid.best_estimator_\n",
    "\n",
    "print(grid.best_params_)"
   ]
  },
  {
   "cell_type": "markdown",
   "metadata": {
    "colab_type": "text",
    "id": "SRZn6w0AGgoC"
   },
   "source": [
    "### GradientBooster Tuning"
   ]
  },
  {
   "cell_type": "markdown",
   "metadata": {
    "colab_type": "text",
    "id": "O4KwQz_AEWvb"
   },
   "source": [
    "##### GridSearchCV"
   ]
  },
  {
   "cell_type": "code",
   "execution_count": null,
   "metadata": {
    "ExecuteTime": {
     "end_time": "2020-06-04T13:40:41.145707Z",
     "start_time": "2020-06-04T13:40:41.065920Z"
    }
   },
   "outputs": [],
   "source": [
    "gradient_booster = GradientBoostingClassifier(random_state = 42)\n",
    "\n",
    "max_depth = [int(x) for x in np.linspace(10, 110, num = 11)]\n",
    "max_depth.append(None)\n",
    "\n",
    "n_estimators = [int(x) for x in np.linspace(start = 200, stop = 2000, num = 10)]\n",
    "n_estimators.append(list(np.arange(50,200)))\n",
    "\n",
    "param_grid =  {'loss':['deviance', 'exponential'],\n",
    "               'learning_rate': [0.01, 0.025, 0.05, 0.075, 0.1, 0.15, 0.2],\n",
    "               'max_depth': max_depth, \n",
    "               'n_estimators' : n_estimators,\n",
    "               'min_samples_leaf': np.arange(1,20),\n",
    "               'min_samples_split': np.arange(2,25),\n",
    "               'max_features':['auto', 'sqrt', 'log2'],\n",
    "               'criterion': ['friedman_mse', 'mse', 'mae'],\n",
    "               'subsample':[0.5, 0.618, 0.8, 0.85, 0.9, 0.95, 1.0]\n",
    "              }\n",
    "\n",
    "grid = GridSearchCV(gradient_booster, param_grid, cv=3, scoring='f1_weighted',  verbose=2, n_jobs=-1, refit=True)\n",
    "\n",
    "grid.fit(X_train, y_train)\n",
    "\n",
    "grid.best_estimator_\n",
    "\n",
    "print(grid.best_params_)"
   ]
  },
  {
   "cell_type": "markdown",
   "metadata": {
    "colab_type": "text",
    "id": "dyXc3XaOGgoZ"
   },
   "source": [
    "### Final results"
   ]
  },
  {
   "cell_type": "code",
   "execution_count": 7,
   "metadata": {
    "ExecuteTime": {
     "end_time": "2020-06-04T13:40:41.232245Z",
     "start_time": "2020-06-04T13:40:41.147702Z"
    },
    "colab": {},
    "colab_type": "code",
    "id": "XwTr5VBpWeUY"
   },
   "outputs": [],
   "source": [
    "def baseline_report(model, X_train, X_test, y_train, y_test, name):\n",
    "    strat_k_fold = StratifiedKFold(n_splits=5, shuffle=True)\n",
    "    model.fit(X_train, y_train)\n",
    "    accuracy     = np.mean(cross_val_score(model, X_train, y_train, cv=strat_k_fold, scoring='accuracy'))\n",
    "    precision    = np.mean(cross_val_score(model, X_train, y_train, cv=strat_k_fold, scoring='precision_weighted'))\n",
    "    recall       = np.mean(cross_val_score(model, X_train, y_train, cv=strat_k_fold, scoring='recall_weighted'))\n",
    "    f1score      = np.mean(cross_val_score(model, X_train, y_train, cv=strat_k_fold, scoring='f1_weighted'))\n",
    "    y_pred = model.predict(X_test)\n",
    "    mcm = multilabel_confusion_matrix(y_test, y_pred)\n",
    "    tn = mcm[:, 0, 0]\n",
    "    tp = mcm[:, 1, 1]\n",
    "    fn = mcm[:, 1, 0]\n",
    "    fp = mcm[:, 0, 1]\n",
    "    specificities = tn / (tn+fp)\n",
    "    specificity = (specificities.sum())/ 16\n",
    "\n",
    "    df_model = pd.DataFrame({'model'        : [name],\n",
    "                             'accuracy'     : [accuracy],\n",
    "                             'precision'    : [precision],\n",
    "                             'recall'       : [recall],\n",
    "                             'f1score'      : [f1score],\n",
    "                             'specificity'  : [specificity]\n",
    "                            })   \n",
    "    return df_model"
   ]
  },
  {
   "cell_type": "code",
   "execution_count": 8,
   "metadata": {
    "ExecuteTime": {
     "end_time": "2020-06-04T13:40:41.318022Z",
     "start_time": "2020-06-04T13:40:41.234400Z"
    }
   },
   "outputs": [],
   "source": [
    "models = {'randomforest': RandomForestClassifier(random_state = 42, bootstrap=False, class_weight = 'balanced', \n",
    "                                                 criterion = 'gini', max_depth = 50, max_features = 'sqrt', \n",
    "                                                 min_samples_leaf = 5, min_samples_split = 12, n_estimators = 1800, \n",
    "                                                 oob_score = False),\n",
    "          'xgboost': GradientBoostingClassifier(random_state = 42, loss = 'deviance', max_depth = 3, n_estimators = 1600,\n",
    "                                                max_features = 'sqrt', learning_rate = 0.075, criterion = 'friedman_mse',\n",
    "                                                subsample = 0.9, min_samples_leaf = 6, min_samples_split = 15)\n",
    "         } "
   ]
  },
  {
   "cell_type": "code",
   "execution_count": 11,
   "metadata": {
    "ExecuteTime": {
     "end_time": "2020-06-04T19:49:34.821113Z",
     "start_time": "2020-06-04T19:49:34.808153Z"
    },
    "colab": {},
    "colab_type": "code",
    "id": "Rur_KC2UXxWN"
   },
   "outputs": [
    {
     "data": {
      "text/html": [
       "<div>\n",
       "<style scoped>\n",
       "    .dataframe tbody tr th:only-of-type {\n",
       "        vertical-align: middle;\n",
       "    }\n",
       "\n",
       "    .dataframe tbody tr th {\n",
       "        vertical-align: top;\n",
       "    }\n",
       "\n",
       "    .dataframe thead th {\n",
       "        text-align: right;\n",
       "    }\n",
       "</style>\n",
       "<table border=\"1\" class=\"dataframe\">\n",
       "  <thead>\n",
       "    <tr style=\"text-align: right;\">\n",
       "      <th></th>\n",
       "      <th>model</th>\n",
       "      <th>accuracy</th>\n",
       "      <th>precision</th>\n",
       "      <th>recall</th>\n",
       "      <th>f1score</th>\n",
       "      <th>specificity</th>\n",
       "    </tr>\n",
       "  </thead>\n",
       "  <tbody>\n",
       "    <tr>\n",
       "      <th>0</th>\n",
       "      <td>randomforest</td>\n",
       "      <td>0.642795</td>\n",
       "      <td>0.645832</td>\n",
       "      <td>0.640346</td>\n",
       "      <td>0.638833</td>\n",
       "      <td>0.974255</td>\n",
       "    </tr>\n",
       "    <tr>\n",
       "      <th>0</th>\n",
       "      <td>xgboost</td>\n",
       "      <td>0.660519</td>\n",
       "      <td>0.658060</td>\n",
       "      <td>0.663401</td>\n",
       "      <td>0.651957</td>\n",
       "      <td>0.975184</td>\n",
       "    </tr>\n",
       "  </tbody>\n",
       "</table>\n",
       "</div>"
      ],
      "text/plain": [
       "          model  accuracy  precision    recall   f1score  specificity\n",
       "0  randomforest  0.642795   0.645832  0.640346  0.638833     0.974255\n",
       "0       xgboost  0.660519   0.658060  0.663401  0.651957     0.975184"
      ]
     },
     "execution_count": 11,
     "metadata": {},
     "output_type": "execute_result"
    }
   ],
   "source": [
    "models_df = pd.concat([baseline_report(model, X_train, X_test, y_train, y_test, name) for (name, model) in models.items()]) \n",
    "models_df.to_csv('data/output_csv/models_tuned_types.csv')\n",
    "models_df"
   ]
  },
  {
   "cell_type": "markdown",
   "metadata": {},
   "source": [
    "## Conclusions"
   ]
  },
  {
   "cell_type": "markdown",
   "metadata": {},
   "source": [
    "The model trained has an F1 Score of 0.651957, that is the model is able to predict MBTI personality type 65,2% of times.\n",
    "\n",
    "Despite not seeming particularly outstanding results, as a multiclass classification (16 types), randomness baseline was located at 6.25%. So predictions from this model would be more than 10 times more accurate than guessing."
   ]
  },
  {
   "cell_type": "code",
   "execution_count": null,
   "metadata": {},
   "outputs": [],
   "source": []
  }
 ],
 "metadata": {
  "colab": {
   "collapsed_sections": [],
   "name": "5_MBTI Hyperparameter Tuning and Conclusions.ipynb",
   "provenance": []
  },
  "kernelspec": {
   "display_name": "Python 3",
   "language": "python",
   "name": "python3"
  },
  "language_info": {
   "codemirror_mode": {
    "name": "ipython",
    "version": 3
   },
   "file_extension": ".py",
   "mimetype": "text/x-python",
   "name": "python",
   "nbconvert_exporter": "python",
   "pygments_lexer": "ipython3",
   "version": "3.8.5"
  },
  "toc": {
   "base_numbering": 1,
   "nav_menu": {},
   "number_sections": true,
   "sideBar": true,
   "skip_h1_title": true,
   "title_cell": "Table of Contents",
   "title_sidebar": "Contents",
   "toc_cell": true,
   "toc_position": {
    "height": "calc(100% - 180px)",
    "left": "10px",
    "top": "150px",
    "width": "307.2px"
   },
   "toc_section_display": true,
   "toc_window_display": true
  },
  "varInspector": {
   "cols": {
    "lenName": 16,
    "lenType": 16,
    "lenVar": 40
   },
   "kernels_config": {
    "python": {
     "delete_cmd_postfix": "",
     "delete_cmd_prefix": "del ",
     "library": "var_list.py",
     "varRefreshCmd": "print(var_dic_list())"
    },
    "r": {
     "delete_cmd_postfix": ") ",
     "delete_cmd_prefix": "rm(",
     "library": "var_list.r",
     "varRefreshCmd": "cat(var_dic_list()) "
    }
   },
   "position": {
    "height": "347.4px",
    "left": "981px",
    "right": "20px",
    "top": "120px",
    "width": "477.4px"
   },
   "types_to_exclude": [
    "module",
    "function",
    "builtin_function_or_method",
    "instance",
    "_Feature"
   ],
   "window_display": false
  }
 },
 "nbformat": 4,
 "nbformat_minor": 1
}
